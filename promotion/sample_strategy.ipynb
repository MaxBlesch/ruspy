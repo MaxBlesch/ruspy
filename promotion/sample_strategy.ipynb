{
 "cells": [
  {
   "cell_type": "code",
   "execution_count": 19,
   "metadata": {},
   "outputs": [
    {
     "name": "stdout",
     "output_type": "stream",
     "text": [
      "The autoreload extension is already loaded. To reload it, use:\n",
      "  %reload_ext autoreload\n",
      "The snakeviz extension is already loaded. To reload it, use:\n",
      "  %reload_ext snakeviz\n"
     ]
    }
   ],
   "source": [
    "%load_ext autoreload\n",
    "\n",
    "%autoreload 2\n",
    "\n",
    "%load_ext snakeviz\n",
    "import yaml\n",
    "import numpy as np\n",
    "import copy\n",
    "import matplotlib.pyplot as plt\n",
    "from scipy.stats import chi2\n",
    "import multiprocessing as mp\n",
    "\n",
    "from ruspy.data.data_reading import data_reading\n",
    "from ruspy.data.data_processing import data_processing\n",
    "\n",
    "from ruspy.estimation.estimation import estimate\n",
    "from ruspy.estimation.estimation_cost_parameters import calc_fixp\n",
    "from ruspy.estimation.estimation_cost_parameters import lin_cost\n",
    "from ruspy.estimation.estimation_cost_parameters import cost_func\n",
    "from ruspy.estimation.estimation_cost_parameters import create_transition_matrix\n",
    "\n",
    "from ruspy.simulation.simulation import simulate\n",
    "from ruspy.simulation.robust_sim import get_worst_trans\n",
    "\n",
    "from ruspy.plotting.value_zero import discount_utility\n",
    "from ruspy.plotting.value_zero import calc_ev_0\n",
    "from ruspy.simulation.robust_sim import draw_trans_probs_mulitvar, calc_cov_multinomial"
   ]
  },
  {
   "cell_type": "code",
   "execution_count": 2,
   "metadata": {},
   "outputs": [],
   "source": [
    "# Prepare the raw data.\n",
    "data_reading()"
   ]
  },
  {
   "cell_type": "code",
   "execution_count": 22,
   "metadata": {},
   "outputs": [],
   "source": [
    "# Beta is set almost to one, as the agents objective is to maximize average cost.\n",
    "beta = 0.9999\n",
    "# 200 buses should be enough to gurantee convergence.\n",
    "num_buses = 200\n",
    "# Set the number of simulated periods to 80000. The first plot shows the convergence at this point.\n",
    "num_periods = 80000\n",
    "seed = 123\n",
    "# Paramters for plotting\n",
    "gridsize = 1000\n",
    "num_points = int(num_periods/gridsize)\n",
    "\n",
    "#Initilize a dictionary with values needed on the way.\n",
    "init_dict = {\n",
    "    'estimation':{\n",
    "        'groups': 'group_4',\n",
    "        'beta': beta,\n",
    "        'maint_func': 'linear',\n",
    "        'binsize': 5000,\n",
    "        'states': 90,\n",
    "    },\n",
    "    'simulation':{\n",
    "        'beta': beta,\n",
    "        'periods': num_periods,\n",
    "        'seed': seed,\n",
    "        'maint_func': 'linear',\n",
    "        'buses': num_buses\n",
    "    }\n",
    "    \n",
    "}\n",
    "np.random.seed(init_dict['simulation']['seed'])"
   ]
  },
  {
   "cell_type": "code",
   "execution_count": 6,
   "metadata": {},
   "outputs": [],
   "source": [
    "repl_data = data_processing(init_dict['estimation'])"
   ]
  },
  {
   "cell_type": "code",
   "execution_count": 7,
   "metadata": {},
   "outputs": [
    {
     "name": "stdout",
     "output_type": "stream",
     "text": [
      "{'state_count': array([[68, 94,  9, ...,  0,  0,  0],\n",
      "       [ 0, 44, 59, ...,  0,  0,  0],\n",
      "       [ 0,  0, 47, ...,  0,  0,  0],\n",
      "       ...,\n",
      "       [ 0,  0,  0, ...,  1,  1,  0],\n",
      "       [ 0,  0,  0, ...,  0,  1,  1],\n",
      "       [ 0,  0,  0, ...,  0,  0,  1]]), 'x': array([0.39189189, 0.59529357, 0.01281454]), 'fun': 3140.5705570938244, 'trans_count': [1682, 2555, 55]}       fun: 163.585839925182\n",
      " hess_inv: <2x2 LbfgsInvHessProduct with dtype=float64>\n",
      "      jac: array([-9.94759830e-05,  3.41060513e-05])\n",
      "  message: b'CONVERGENCE: REL_REDUCTION_OF_F_<=_FACTR*EPSMCH'\n",
      "     nfev: 42\n",
      "      nit: 12\n",
      "   status: 0\n",
      "  success: True\n",
      "        x: array([10.07770591,  2.29413601])\n"
     ]
    }
   ],
   "source": [
    "trans_results, cost_results = estimate(init_dict['estimation'], repl_data)\n",
    "print(trans_results, cost_results)"
   ]
  },
  {
   "cell_type": "code",
   "execution_count": 28,
   "metadata": {},
   "outputs": [],
   "source": [
    "p_ml = trans_results['x']\n",
    "init_dict['simulation']['known trans'] = p_ml\n",
    "init_dict['simulation']['params'] = cost_results['x']"
   ]
  },
  {
   "cell_type": "code",
   "execution_count": 29,
   "metadata": {},
   "outputs": [],
   "source": [
    "num_states = 200\n",
    "costs = cost_func(num_states, lin_cost, init_dict['simulation']['params'])"
   ]
  },
  {
   "cell_type": "code",
   "execution_count": 14,
   "metadata": {},
   "outputs": [
    {
     "data": {
      "text/plain": [
       "0.0006979804924403517"
      ]
     },
     "execution_count": 14,
     "metadata": {},
     "output_type": "execute_result"
    }
   ],
   "source": [
    "roh = chi2.ppf(0.95, len(p_ml) - 1) / (2 * 4292)\n",
    "roh"
   ]
  },
  {
   "cell_type": "code",
   "execution_count": 16,
   "metadata": {},
   "outputs": [],
   "source": [
    "worst_trans = get_worst_trans(init_dict['simulation'], p_ml, roh, num_states, choice=True, max_it=10000)"
   ]
  },
  {
   "cell_type": "code",
   "execution_count": 17,
   "metadata": {},
   "outputs": [
    {
     "data": {
      "text/plain": [
       "array([0.37416087, 0.61169369, 0.01414543])"
      ]
     },
     "execution_count": 17,
     "metadata": {},
     "output_type": "execute_result"
    }
   ],
   "source": [
    "worst_trans"
   ]
  },
  {
   "cell_type": "code",
   "execution_count": 25,
   "metadata": {},
   "outputs": [],
   "source": [
    "trans_mat_worst = create_transition_matrix(num_states, worst_trans)\n",
    "ev_worst = calc_fixp(num_states, trans_mat_worst, costs, beta)"
   ]
  },
  {
   "cell_type": "code",
   "execution_count": 26,
   "metadata": {},
   "outputs": [],
   "source": [
    "trans_mat_ml = create_transition_matrix(num_states, p_ml)\n",
    "ev_ml = calc_fixp(num_states, trans_mat_ml, costs, beta)"
   ]
  },
  {
   "cell_type": "code",
   "execution_count": 24,
   "metadata": {},
   "outputs": [],
   "source": [
    "n = 4292\n",
    "probs = draw_trans_probs_mulitvar(n, p_ml, size=100, seed=seed)"
   ]
  },
  {
   "cell_type": "code",
   "execution_count": 43,
   "metadata": {},
   "outputs": [],
   "source": [
    "def evaluate_strategies(p):\n",
    "    print(p)\n",
    "    init_dict_real = copy.deepcopy(init_dict['simulation'])\n",
    "    init_dict_real['real trans'] = p\n",
    "    init_dict_real['ev known'] = ev_ml\n",
    "    df, unobs, utilities, num_states = simulate(init_dict_real)\n",
    "    v_ml = discount_utility([0., 0.], num_buses, num_periods, num_periods, utilities, beta)[-1]\n",
    "    init_dict_real['ev known'] = ev_worst\n",
    "    df, unobs, utilities, num_states = simulate(init_dict_real)\n",
    "    v_worst = discount_utility([0., 0.], num_buses, num_periods, num_periods, utilities, beta)[-1]\n",
    "    return v_worst - v_ml"
   ]
  },
  {
   "cell_type": "code",
   "execution_count": 44,
   "metadata": {},
   "outputs": [
    {
     "name": "stdout",
     "output_type": "stream",
     "text": [
      "[0.40048095 0.58421551 0.01530354]\n",
      "[0.39428832 0.59189567 0.01381601]\n",
      "[0.39906348 0.58636399 0.01457253]\n",
      "[0.38166888 0.60718626 0.01114486]\n",
      "[0.39175696 0.59583049 0.01241255]\n",
      "[0.38990879 0.59317021 0.016921  ]\n",
      "[0.40354087 0.58457344 0.0118857 ]\n",
      "[0.40172393 0.58650265 0.01177342]\n",
      "[0.41022313 0.57759504 0.01218183]\n",
      "[0.38271103 0.60067487 0.0166141 ]\n",
      "[0.39000975 0.59638024 0.01361001]\n",
      "[0.40258688 0.58477809 0.01263503]\n",
      "[0.39807079 0.5860777  0.0158515 ]\n",
      "[0.38424001 0.60487809 0.0108819 ]\n",
      "[0.39889429 0.58941939 0.01168632]\n",
      "[0.39620601 0.59577171 0.00802228]\n",
      "[0.39074668 0.5946048  0.01464852]\n",
      "[0.38454593 0.60337613 0.01207794]\n",
      "[0.38140701 0.60693854 0.01165445]\n",
      "[0.39626898 0.58929487 0.01443615]\n",
      "[0.37760935 0.60708397 0.01530669]\n",
      "[0.39948041 0.59042563 0.01009396]\n",
      "[0.39319726 0.59018371 0.01661904]\n",
      "[0.39127515 0.59472925 0.0139956 ]\n",
      "[0.39692278 0.58886555 0.01421167]\n",
      "[0.39555265 0.5887528  0.01569455]\n",
      "[0.38412657 0.60243888 0.01343455]\n",
      "[0.39048982 0.59808996 0.01142022]\n",
      "[0.39516132 0.59387444 0.01096424]\n",
      "[0.3914838  0.59539496 0.01312124]\n",
      "[0.38544716 0.60091523 0.01363761]\n",
      "[0.38066806 0.60699456 0.01233737]\n",
      "[0.39905939 0.58449233 0.01644828]\n",
      "[0.39012748 0.59983147 0.01004105]\n",
      "[0.39692874 0.59194437 0.01112689]\n",
      "[0.38976781 0.59694152 0.01329067]\n",
      "[0.38447608 0.60493353 0.01059039]\n",
      "[0.38332969 0.60517058 0.01149973]\n",
      "[0.3972119  0.58938922 0.01339888]\n",
      "[0.40666525 0.58219023 0.01114452]\n",
      "[0.38346443 0.60434621 0.01218937]\n",
      "[0.38415529 0.60259494 0.01324977]\n",
      "[0.38997302 0.59816839 0.01185859]\n",
      "[0.38825208 0.59986777 0.01188015]\n",
      "[0.40109897 0.58838036 0.01052067]\n",
      "[0.39265663 0.59115177 0.0161916 ]\n",
      "[0.39293396 0.59421053 0.01285551]\n",
      "[0.38095707 0.60690068 0.01214224]\n",
      "[0.39414248 0.59192488 0.01393264]\n",
      "[0.39441087 0.59371041 0.01187872]\n",
      "[0.38983128 0.5951847  0.01498402]\n",
      "[0.39029021 0.59569189 0.0140179 ]\n",
      "[0.38496193 0.59949446 0.01554361]\n",
      "[0.38437147 0.59838494 0.01724359]\n",
      "[0.3879564  0.59961677 0.01242683]\n",
      "[0.3972224  0.58730974 0.01546786]\n",
      "[0.39154303 0.59611675 0.01234022]\n",
      "[0.38884039 0.59805765 0.01310196]\n",
      "[0.38710093 0.59911432 0.01378475]\n",
      "[0.38652609 0.6011151  0.01235881]\n",
      "[0.39308906 0.59536464 0.0115463 ]\n",
      "[0.39052393 0.59688649 0.01258958]\n",
      "[0.40295153 0.58532194 0.01172653]\n",
      "[0.38988027 0.59806409 0.01205564]\n",
      "[0.41603821 0.57147173 0.01249006]\n",
      "[0.38763463 0.59704177 0.0153236 ]\n",
      "[0.38494019 0.60164909 0.01341072]\n",
      "[0.39281605 0.59334154 0.01384241]\n",
      "[0.39675457 0.59107697 0.01216846]\n",
      "[0.39460623 0.59293874 0.01245503]\n",
      "[0.38949706 0.59722082 0.01328212]\n",
      "[0.39295173 0.59638896 0.01065931]\n",
      "[0.38993687 0.59474752 0.01531561]\n",
      "[0.39441373 0.58896922 0.01661704]\n",
      "[0.39872554 0.58767031 0.01360415]\n",
      "[0.39401967 0.59377602 0.01220431]\n",
      "[0.39502326 0.59308852 0.01188821]\n",
      "[0.39211744 0.59542244 0.01246012]\n",
      "[0.38908866 0.60181795 0.0090934 ]\n",
      "[0.40314103 0.58546929 0.01138968]\n",
      "[0.39680102 0.59203966 0.01115932]\n",
      "[0.39874854 0.58856131 0.01269015]\n",
      "[0.38758959 0.59641406 0.01599635]\n",
      "[0.40094224 0.58597757 0.01308019]\n",
      "[0.39840727 0.59165313 0.00993959]\n",
      "[0.39754002 0.59188602 0.01057396]\n",
      "[0.40552721 0.58038211 0.01409069]\n",
      "[0.39197702 0.59419119 0.01383178]\n",
      "[0.38376156 0.60591528 0.01032316]\n",
      "[0.38867636 0.59825128 0.01307236]\n",
      "[0.38911173 0.59299718 0.01789109]\n",
      "[0.39790992 0.59139451 0.01069557]\n",
      "[0.39317559 0.59421152 0.01261289]\n",
      "[0.40352667 0.58438561 0.01208771]\n",
      "[0.38487004 0.60296476 0.0121652 ]\n",
      "[0.39837472 0.59161985 0.01000543]\n",
      "[0.38873046 0.59637501 0.01489453]\n",
      "[0.40148784 0.5851638  0.01334836]\n",
      "[0.40202034 0.58739003 0.01058963]\n",
      "[0.38611834 0.59945513 0.01442653]\n"
     ]
    }
   ],
   "source": [
    "pool = mp.Pool(4)\n",
    "performance = pool.map(evaluate_strategies, probs)"
   ]
  },
  {
   "cell_type": "code",
   "execution_count": 46,
   "metadata": {},
   "outputs": [],
   "source": [
    "np.savetxt(\"performance.txt\", performance)"
   ]
  },
  {
   "cell_type": "code",
   "execution_count": 47,
   "metadata": {},
   "outputs": [
    {
     "data": {
      "text/plain": [
       "[0.0,\n",
       " 0.0,\n",
       " 0.0,\n",
       " 0.0,\n",
       " 0.0,\n",
       " 0.0,\n",
       " 0.0,\n",
       " 0.0,\n",
       " 0.0,\n",
       " 0.0,\n",
       " 0.0,\n",
       " 0.0,\n",
       " 0.0,\n",
       " 0.0,\n",
       " 0.0,\n",
       " 0.0,\n",
       " 0.0,\n",
       " 0.0,\n",
       " 0.0,\n",
       " 0.0,\n",
       " 0.0,\n",
       " 0.0,\n",
       " 0.0,\n",
       " 0.0,\n",
       " 0.0,\n",
       " 0.0,\n",
       " 0.0,\n",
       " 0.0,\n",
       " 0.0,\n",
       " 0.0,\n",
       " 0.0,\n",
       " 0.0,\n",
       " 0.0,\n",
       " 0.0,\n",
       " 0.0,\n",
       " 0.0,\n",
       " 0.0,\n",
       " 0.0,\n",
       " 0.0,\n",
       " 0.0,\n",
       " 0.0,\n",
       " 0.0,\n",
       " 0.0,\n",
       " 0.0,\n",
       " 0.0,\n",
       " 0.0,\n",
       " 0.0,\n",
       " 0.0,\n",
       " 0.0,\n",
       " 0.0,\n",
       " 0.0,\n",
       " 0.0,\n",
       " 0.0,\n",
       " 0.0,\n",
       " 0.0,\n",
       " 0.0,\n",
       " 0.0,\n",
       " 0.0,\n",
       " 0.0,\n",
       " 0.0,\n",
       " 0.0,\n",
       " 0.0,\n",
       " 0.0,\n",
       " 0.0,\n",
       " 0.0,\n",
       " 0.0,\n",
       " 0.0,\n",
       " 0.0,\n",
       " 0.0,\n",
       " 0.0,\n",
       " 0.0,\n",
       " 0.0,\n",
       " 0.0,\n",
       " 0.0,\n",
       " 0.0,\n",
       " 0.0,\n",
       " 0.0,\n",
       " 0.0,\n",
       " 0.0,\n",
       " 0.0,\n",
       " 0.0,\n",
       " 0.0,\n",
       " 0.0,\n",
       " 0.0,\n",
       " 0.0,\n",
       " 0.0,\n",
       " 0.0,\n",
       " 0.0,\n",
       " 0.0,\n",
       " 0.0,\n",
       " 0.0,\n",
       " 0.0,\n",
       " 0.0,\n",
       " 0.0,\n",
       " 0.0,\n",
       " 0.0,\n",
       " 0.0,\n",
       " 0.0,\n",
       " 0.0,\n",
       " 0.0]"
      ]
     },
     "execution_count": 47,
     "metadata": {},
     "output_type": "execute_result"
    }
   ],
   "source": [
    "performance"
   ]
  },
  {
   "cell_type": "code",
   "execution_count": null,
   "metadata": {},
   "outputs": [],
   "source": []
  }
 ],
 "metadata": {
  "kernelspec": {
   "display_name": "Python 3",
   "language": "python",
   "name": "python3"
  },
  "language_info": {
   "codemirror_mode": {
    "name": "ipython",
    "version": 3
   },
   "file_extension": ".py",
   "mimetype": "text/x-python",
   "name": "python",
   "nbconvert_exporter": "python",
   "pygments_lexer": "ipython3",
   "version": "3.6.7"
  }
 },
 "nbformat": 4,
 "nbformat_minor": 2
}
