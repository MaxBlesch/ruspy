{
 "cells": [
  {
   "cell_type": "code",
   "execution_count": 166,
   "metadata": {},
   "outputs": [
    {
     "name": "stdout",
     "output_type": "stream",
     "text": [
      "The autoreload extension is already loaded. To reload it, use:\n",
      "  %reload_ext autoreload\n"
     ]
    }
   ],
   "source": [
    "%load_ext autoreload\n",
    "\n",
    "%autoreload 2\n",
    "\n",
    "import numpy as np\n",
    "import matplotlib.pyplot as plt\n",
    "from math import exp\n",
    "from scipy.stats import chi2\n",
    "from numpy.testing import assert_array_almost_equal\n",
    "\n",
    "from ruspy.data.data_reading import data_reading\n",
    "from ruspy.data.data_processing import data_processing\n",
    "\n",
    "from ruspy.estimation.estimation import estimate\n",
    "from ruspy.estimation.estimation_cost_parameters import calc_fixp\n",
    "from ruspy.estimation.estimation_cost_parameters import converge_choice, lin_cost, cost_func, create_transition_matrix\n",
    "from ruspy.estimation.estimation_cost_parameters import choice_prob\n",
    "from ruspy.simulation.robust_sim import get_worst_trans\n",
    "\n"
   ]
  },
  {
   "cell_type": "code",
   "execution_count": 12,
   "metadata": {},
   "outputs": [],
   "source": [
    "beta = 0.9999\n",
    "init_dict = {\n",
    "    'groups': 'group_4',\n",
    "    'beta': beta,\n",
    "    'maint_func': 'linear',\n",
    "    'binsize': 5000,\n",
    "    'states': 90,\n",
    "}\n"
   ]
  },
  {
   "cell_type": "code",
   "execution_count": 13,
   "metadata": {},
   "outputs": [],
   "source": [
    "data_reading()"
   ]
  },
  {
   "cell_type": "code",
   "execution_count": 14,
   "metadata": {},
   "outputs": [],
   "source": [
    "repl_data = data_processing(init_dict)"
   ]
  },
  {
   "cell_type": "code",
   "execution_count": 15,
   "metadata": {},
   "outputs": [],
   "source": [
    "trans_results, cost_results = estimate(init_dict, repl_data)"
   ]
  },
  {
   "cell_type": "code",
   "execution_count": 17,
   "metadata": {},
   "outputs": [
    {
     "data": {
      "text/plain": [
       "array([0.392, 0.595, 0.013])"
      ]
     },
     "execution_count": 17,
     "metadata": {},
     "output_type": "execute_result"
    }
   ],
   "source": [
    "p_ml = trans_results['x']\n",
    "np.round(p_ml, 3)"
   ]
  },
  {
   "cell_type": "code",
   "execution_count": 278,
   "metadata": {},
   "outputs": [],
   "source": [
    "num_states = 60\n",
    "params = [25, 150]\n",
    "costs = cost_func(num_states, lin_cost, params)\n",
    "init_dict['params'] = params"
   ]
  },
  {
   "cell_type": "code",
   "execution_count": 279,
   "metadata": {},
   "outputs": [
    {
     "data": {
      "text/plain": [
       "array([0.39189189, 0.59529357, 0.01281454])"
      ]
     },
     "execution_count": 279,
     "metadata": {},
     "output_type": "execute_result"
    }
   ],
   "source": [
    "trans_mat = create_transition_matrix(num_states, p_ml)\n",
    "choice_ml = converge_choice(num_states, trans_mat, costs, beta)\n",
    "p_ml"
   ]
  },
  {
   "cell_type": "code",
   "execution_count": 280,
   "metadata": {},
   "outputs": [],
   "source": [
    "ev = calc_fixp(num_states, trans_mat, costs, beta)\n",
    "choice_ml_2 = choice_prob(ev, costs, beta)"
   ]
  },
  {
   "cell_type": "code",
   "execution_count": 281,
   "metadata": {},
   "outputs": [],
   "source": [
    "assert_array_almost_equal(choice_ml, choice_ml_2)"
   ]
  },
  {
   "cell_type": "code",
   "execution_count": 282,
   "metadata": {},
   "outputs": [
    {
     "data": {
      "text/plain": [
       "[]"
      ]
     },
     "execution_count": 282,
     "metadata": {},
     "output_type": "execute_result"
    },
    {
     "data": {
      "image/png": "[encoded data removed]",
      "text/plain": [
       "<Figure size 1008x432 with 1 Axes>"
      ]
     },
     "metadata": {
      "needs_background": "light"
     },
     "output_type": "display_data"
    }
   ],
   "source": [
    "states = range(num_states)\n",
    "fig = plt.figure(figsize=(14, 6))\n",
    "ax = fig.add_subplot(111)\n",
    "ax.set_ylim([-0.05, 1.05])\n",
    "ax.set_ylabel(r\"Probability of maintenance\",fontsize=14)\n",
    "ax.set_xlabel(r\"State of the bus\", fontsize=14)\n",
    "ax.plot(states[:], choice_ml_2[:, 0], color='blue', label='ML estimate')\n",
    "# ax.plot(states[:], choice_worst_full[:, 0], color='red', label='Full sample uncertainty')\n",
    "# ax.plot(states[:], choice_worst_mean[:, 0], color='green', label='Mean observation uncertainty')\n",
    "# ax.plot(states[:], choice_worst_ten_percent[:, 0], color='orange', label='Ten percentile observation uncertainty')\n",
    "\n",
    "\n",
    "plt.legend()\n",
    "ax.legend(fontsize=12)\n",
    "plt.tight_layout()\n",
    "\n",
    "plt.plot()"
   ]
  },
  {
   "cell_type": "code",
   "execution_count": 299,
   "metadata": {},
   "outputs": [
    {
     "data": {
      "text/plain": [
       "0.08967900417150843"
      ]
     },
     "execution_count": 299,
     "metadata": {},
     "output_type": "execute_result"
    }
   ],
   "source": [
    "np.max(choice_worst_ten_percent[:, 0] - choice_ml_2[:, 0])"
   ]
  },
  {
   "cell_type": "code",
   "execution_count": 290,
   "metadata": {},
   "outputs": [],
   "source": [
    "omega = 0.95"
   ]
  },
  {
   "cell_type": "code",
   "execution_count": 291,
   "metadata": {},
   "outputs": [
    {
     "data": {
      "text/plain": [
       "0.0006979804924403517"
      ]
     },
     "execution_count": 291,
     "metadata": {},
     "output_type": "execute_result"
    }
   ],
   "source": [
    "roh = chi2.ppf(omega, len(p_ml) - 1) / (2 * 4292)\n",
    "roh"
   ]
  },
  {
   "cell_type": "code",
   "execution_count": 292,
   "metadata": {},
   "outputs": [
    {
     "data": {
      "text/plain": [
       "array([0.37408986, 0.61184025, 0.01406989])"
      ]
     },
     "execution_count": 292,
     "metadata": {},
     "output_type": "execute_result"
    }
   ],
   "source": [
    "worst_trans_full = get_worst_trans(init_dict, p_ml, roh, num_states)\n",
    "trans_mat = create_transition_matrix(num_states, worst_trans_full)\n",
    "choice_worst_full = converge_choice(num_states, trans_mat, costs, beta)\n",
    "worst_trans_full"
   ]
  },
  {
   "cell_type": "code",
   "execution_count": 293,
   "metadata": {},
   "outputs": [
    {
     "data": {
      "text/plain": [
       "array([0.374, 0.612, 0.014])"
      ]
     },
     "execution_count": 293,
     "metadata": {},
     "output_type": "execute_result"
    }
   ],
   "source": [
    "np.round(worst_trans_full, 3)"
   ]
  },
  {
   "cell_type": "code",
   "execution_count": 294,
   "metadata": {},
   "outputs": [
    {
     "data": {
      "text/plain": [
       "0.05444247841034743"
      ]
     },
     "execution_count": 294,
     "metadata": {},
     "output_type": "execute_result"
    }
   ],
   "source": [
    "mean_obs = np.mean(np.sum(trans_results['state_count'], axis=1))\n",
    "roh = chi2.ppf(omega, len(p_ml) - 1) / (2 * mean_obs)\n",
    "roh"
   ]
  },
  {
   "cell_type": "code",
   "execution_count": 295,
   "metadata": {},
   "outputs": [
    {
     "data": {
      "text/plain": [
       "array([0.242, 0.728, 0.029])"
      ]
     },
     "execution_count": 295,
     "metadata": {},
     "output_type": "execute_result"
    }
   ],
   "source": [
    "worst_trans_mean = get_worst_trans(init_dict, p_ml, roh, num_states)\n",
    "trans_mat = create_transition_matrix(num_states, worst_trans_mean)\n",
    "choice_worst_mean = converge_choice(num_states, trans_mat, costs, beta)\n",
    "np.round(worst_trans_mean,3)"
   ]
  },
  {
   "cell_type": "code",
   "execution_count": 296,
   "metadata": {},
   "outputs": [
    {
     "data": {
      "text/plain": [
       "10.9"
      ]
     },
     "execution_count": 296,
     "metadata": {},
     "output_type": "execute_result"
    }
   ],
   "source": [
    "ten_percent_obs = np.percentile(np.sum(trans_results['state_count'], axis=1), 10)\n",
    "ten_percent_obs"
   ]
  },
  {
   "cell_type": "code",
   "execution_count": 297,
   "metadata": {},
   "outputs": [
    {
     "data": {
      "text/plain": [
       "0.27483782326183387"
      ]
     },
     "execution_count": 297,
     "metadata": {},
     "output_type": "execute_result"
    }
   ],
   "source": [
    "roh = chi2.ppf(omega, len(p_ml) - 1) / (2 * ten_percent_obs)\n",
    "roh"
   ]
  },
  {
   "cell_type": "code",
   "execution_count": 298,
   "metadata": {},
   "outputs": [
    {
     "data": {
      "text/plain": [
       "array([0.10041399, 0.81762116, 0.08196484])"
      ]
     },
     "execution_count": 298,
     "metadata": {},
     "output_type": "execute_result"
    }
   ],
   "source": [
    "worst_trans_ten_percent = get_worst_trans(init_dict, p_ml, roh, num_states)\n",
    "trans_mat = create_transition_matrix(num_states, worst_trans_ten_percent)\n",
    "choice_worst_ten_percent = converge_choice(num_states, trans_mat, costs, beta)\n",
    "worst_trans_ten_percent"
   ]
  },
  {
   "cell_type": "code",
   "execution_count": null,
   "metadata": {},
   "outputs": [],
   "source": []
  },
  {
   "cell_type": "code",
   "execution_count": null,
   "metadata": {},
   "outputs": [],
   "source": []
  },
  {
   "cell_type": "code",
   "execution_count": null,
   "metadata": {},
   "outputs": [],
   "source": []
  },
  {
   "cell_type": "code",
   "execution_count": null,
   "metadata": {},
   "outputs": [],
   "source": []
  },
  {
   "cell_type": "code",
   "execution_count": null,
   "metadata": {},
   "outputs": [],
   "source": []
  },
  {
   "cell_type": "code",
   "execution_count": null,
   "metadata": {},
   "outputs": [],
   "source": []
  },
  {
   "cell_type": "code",
   "execution_count": null,
   "metadata": {},
   "outputs": [],
   "source": []
  },
  {
   "cell_type": "code",
   "execution_count": null,
   "metadata": {},
   "outputs": [],
   "source": []
  },
  {
   "cell_type": "code",
   "execution_count": null,
   "metadata": {},
   "outputs": [],
   "source": []
  },
  {
   "cell_type": "code",
   "execution_count": null,
   "metadata": {},
   "outputs": [],
   "source": []
  },
  {
   "cell_type": "code",
   "execution_count": null,
   "metadata": {},
   "outputs": [],
   "source": []
  },
  {
   "cell_type": "code",
   "execution_count": null,
   "metadata": {},
   "outputs": [],
   "source": []
  },
  {
   "cell_type": "code",
   "execution_count": null,
   "metadata": {},
   "outputs": [],
   "source": []
  },
  {
   "cell_type": "code",
   "execution_count": null,
   "metadata": {},
   "outputs": [],
   "source": []
  },
  {
   "cell_type": "code",
   "execution_count": null,
   "metadata": {},
   "outputs": [],
   "source": []
  },
  {
   "cell_type": "code",
   "execution_count": null,
   "metadata": {},
   "outputs": [],
   "source": []
  },
  {
   "cell_type": "code",
   "execution_count": null,
   "metadata": {},
   "outputs": [],
   "source": []
  },
  {
   "cell_type": "code",
   "execution_count": null,
   "metadata": {},
   "outputs": [],
   "source": []
  },
  {
   "cell_type": "code",
   "execution_count": null,
   "metadata": {},
   "outputs": [],
   "source": []
  },
  {
   "cell_type": "code",
   "execution_count": null,
   "metadata": {},
   "outputs": [],
   "source": []
  },
  {
   "cell_type": "code",
   "execution_count": null,
   "metadata": {},
   "outputs": [],
   "source": []
  },
  {
   "cell_type": "code",
   "execution_count": null,
   "metadata": {},
   "outputs": [],
   "source": []
  },
  {
   "cell_type": "code",
   "execution_count": null,
   "metadata": {},
   "outputs": [],
   "source": []
  },
  {
   "cell_type": "code",
   "execution_count": null,
   "metadata": {},
   "outputs": [],
   "source": []
  },
  {
   "cell_type": "code",
   "execution_count": null,
   "metadata": {},
   "outputs": [],
   "source": []
  },
  {
   "cell_type": "code",
   "execution_count": null,
   "metadata": {},
   "outputs": [],
   "source": []
  },
  {
   "cell_type": "code",
   "execution_count": null,
   "metadata": {},
   "outputs": [],
   "source": []
  },
  {
   "cell_type": "code",
   "execution_count": null,
   "metadata": {},
   "outputs": [],
   "source": []
  },
  {
   "cell_type": "code",
   "execution_count": null,
   "metadata": {},
   "outputs": [],
   "source": []
  },
  {
   "cell_type": "markdown",
   "metadata": {},
   "source": [
    "## Quentin Andre\n",
    "\n",
    "First I replicate the plot in cell 133 of [Quentin Andre](https://github.com/QuentinAndre/John-Rust-1987-Python/blob/master/Data%20Generation%20and%20Likelihood%20Fit.ipynb)"
   ]
  },
  {
   "cell_type": "code",
   "execution_count": 24,
   "metadata": {},
   "outputs": [],
   "source": [
    "num_states = 100\n",
    "params_que = [20, 250] # Needs to be 500 has scale factor is 0.001 and in quentin its 0.5\n",
    "costs_que = cost_func(num_states, lin_cost, params_que)\n",
    "que_trans = np.array([0.36, 0.48, 0.16])\n",
    "trans_mat_que = create_transition_matrix(num_states, que_trans)"
   ]
  },
  {
   "cell_type": "code",
   "execution_count": 25,
   "metadata": {},
   "outputs": [],
   "source": [
    "beta = 0\n",
    "ev_que_0 = calc_fixp(num_states, trans_mat_que, costs_que, beta)\n",
    "choice_que_0 = choice_prob(ev_que_0, costs_que, beta)"
   ]
  },
  {
   "cell_type": "code",
   "execution_count": 26,
   "metadata": {},
   "outputs": [],
   "source": [
    "beta = 0.99\n",
    "ev_que = calc_fixp(num_states, trans_mat_que, costs_que, beta)\n",
    "choice_que_75 = choice_prob(ev_que_75, costs_que, beta)"
   ]
  },
  {
   "cell_type": "code",
   "execution_count": 27,
   "metadata": {},
   "outputs": [
    {
     "data": {
      "text/plain": [
       "[]"
      ]
     },
     "execution_count": 27,
     "metadata": {},
     "output_type": "execute_result"
    },
    {
     "data": {
      "image/png": "[encoded data removed]",
      "text/plain": [
       "<Figure size 1008x432 with 1 Axes>"
      ]
     },
     "metadata": {
      "needs_background": "light"
     },
     "output_type": "display_data"
    }
   ],
   "source": [
    "states = range(num_states)\n",
    "fig = plt.figure(figsize=(14, 6))\n",
    "ax = fig.add_subplot(111)\n",
    "ax.set_ylim([-0.05, 1.05])\n",
    "ax.set_ylabel(r\"Probability of maintenance\",fontsize=12)\n",
    "ax.set_xlabel(r\"State of the bus\", fontsize=12)\n",
    "ax.plot(states, choice_que_0[:, 0], color='blue', label='Quentin, Andre beta=0')\n",
    "ax.plot(states, choice_que_75[:, 0], color='red', label='Quentin, Andre beta=0.99')\n",
    "\n",
    "\n",
    "plt.legend()\n",
    "ax.legend(fontsize=12)\n",
    "plt.tight_layout()\n",
    "\n",
    "plt.plot()"
   ]
  },
  {
   "cell_type": "markdown",
   "metadata": {},
   "source": [
    "## Rust\n",
    "\n",
    "Now I do the same plot with the results of Rust. Its very important to say, that in a simulation the maximal state reached by a bus was just below 150 and I plotted here dwon there up to 500 states. That shows, that the maintainance costs have almost no effect on the decision. This also very intuituve to the fact, that in quentin's model the slope of the linear cost function was 500 * 0.001 = 0.5 and here it is 2.29 * 0.001 = 0.00229. "
   ]
  },
  {
   "cell_type": "code",
   "execution_count": 9,
   "metadata": {},
   "outputs": [],
   "source": [
    "# Prepare the raw data.\n",
    "data_reading()"
   ]
  },
  {
   "cell_type": "code",
   "execution_count": 10,
   "metadata": {},
   "outputs": [],
   "source": [
    "beta = 0.9999\n",
    "#Initilize a dictionary with values needed on the way.\n",
    "init_dict = {\n",
    "    'groups': 'group_4',\n",
    "    'beta': beta,\n",
    "    'maint_func': 'linear',\n",
    "    'binsize': 5000,\n",
    "    'states': 90,\n",
    "}"
   ]
  },
  {
   "cell_type": "code",
   "execution_count": 11,
   "metadata": {},
   "outputs": [
    {
     "name": "stdout",
     "output_type": "stream",
     "text": [
      "{'x': array([0.39189189, 0.59529357, 0.01281454]), 'fun': 3140.5705570938244, 'trans_count': [1682, 2555, 55]}       fun: 163.5858399447394\n",
      " hess_inv: <2x2 LbfgsInvHessProduct with dtype=float64>\n",
      "      jac: array([-0.00031832,  0.00024443])\n",
      "  message: b'CONVERGENCE: REL_REDUCTION_OF_F_<=_FACTR*EPSMCH'\n",
      "     nfev: 45\n",
      "      nit: 10\n",
      "   status: 0\n",
      "  success: True\n",
      "        x: array([10.07752072,  2.29407949])\n"
     ]
    }
   ],
   "source": [
    "repl_data = data_processing(init_dict)\n",
    "trans_results, cost_results = estimate(init_dict, repl_data)\n",
    "print(trans_results, cost_results)"
   ]
  },
  {
   "cell_type": "code",
   "execution_count": 12,
   "metadata": {},
   "outputs": [],
   "source": [
    "params = cost_results['x']\n",
    "ml_trans = np.array(trans_results['x'])"
   ]
  },
  {
   "cell_type": "code",
   "execution_count": 13,
   "metadata": {},
   "outputs": [],
   "source": [
    "num_states = 1000\n",
    "costs = cost_func(num_states, lin_cost, params)\n",
    "trans_mat_ml = create_transition_matrix(num_states, ml_trans)\n",
    "ev_ml = calc_fixp(num_states, trans_mat_ml, costs, beta)\n",
    "choice_ml = choice_prob(ev_ml, costs, beta)"
   ]
  },
  {
   "cell_type": "code",
   "execution_count": 14,
   "metadata": {},
   "outputs": [
    {
     "data": {
      "text/plain": [
       "[]"
      ]
     },
     "execution_count": 14,
     "metadata": {},
     "output_type": "execute_result"
    },
    {
     "data": {
      "image/png": "[encoded data removed]",
      "text/plain": [
       "<Figure size 1008x432 with 1 Axes>"
      ]
     },
     "metadata": {
      "needs_background": "light"
     },
     "output_type": "display_data"
    }
   ],
   "source": [
    "states = range(num_states)\n",
    "fig = plt.figure(figsize=(14, 6))\n",
    "ax = fig.add_subplot(111)\n",
    "ax.set_ylim([-0.05, 1.05])\n",
    "ax.set_ylabel(r\"Probability of maintenance\",fontsize=12)\n",
    "ax.set_xlabel(r\"State of the bus\", fontsize=12)\n",
    "ax.plot(states, choice_ml[:, 0], color='blue', label='ML estimate')\n",
    "\n",
    "\n",
    "plt.legend()\n",
    "ax.legend(fontsize=12)\n",
    "plt.tight_layout()\n",
    "\n",
    "plt.plot()"
   ]
  },
  {
   "cell_type": "code",
   "execution_count": 15,
   "metadata": {},
   "outputs": [],
   "source": [
    "max_state = repl_data.state.max()\n",
    "real_maint = [0] * (max_state + 1)\n",
    "real_repl = [0] * (max_state + 1)\n",
    "for i in range(max_state + 1):\n",
    "    df = repl_data[repl_data.state == i]\n",
    "    real_repl[i] = df.decision.sum() / df.shape[0]\n",
    "    real_maint[i] = 1 - real_repl[i]\n",
    "    "
   ]
  },
  {
   "cell_type": "code",
   "execution_count": 17,
   "metadata": {},
   "outputs": [],
   "source": [
    "num_states = 90\n",
    "costs = cost_func(num_states, lin_cost, params)\n",
    "trans_mat_ml = create_transition_matrix(num_states, ml_trans)\n",
    "ev_ml = calc_fixp(num_states, trans_mat_ml, costs, beta)\n",
    "choice_ml = choice_prob(ev_ml, costs, beta)"
   ]
  },
  {
   "cell_type": "code",
   "execution_count": 18,
   "metadata": {},
   "outputs": [
    {
     "data": {
      "text/plain": [
       "[]"
      ]
     },
     "execution_count": 18,
     "metadata": {},
     "output_type": "execute_result"
    },
    {
     "data": {
      "image/png": "[encoded data removed]",
      "text/plain": [
       "<Figure size 1008x432 with 1 Axes>"
      ]
     },
     "metadata": {
      "needs_background": "light"
     },
     "output_type": "display_data"
    }
   ],
   "source": [
    "states = range(max_state + 1)\n",
    "fig = plt.figure(figsize=(14, 6))\n",
    "ax = fig.add_subplot(111)\n",
    "ax.set_ylim([0.45, 1.05])\n",
    "ax.set_ylabel(r\"Probability of maintenance\",fontsize=12)\n",
    "ax.set_xlabel(r\"State of the bus\", fontsize=12)\n",
    "ax.plot(states, choice_ml[:max_state + 1, 0], color='blue', label='ML estimate')\n",
    "ax.plot(states, real_maint, color='red', label='Real maintenance probability')\n",
    "\n",
    "\n",
    "plt.legend()\n",
    "ax.legend(fontsize=12)\n",
    "plt.tight_layout()\n",
    "\n",
    "plt.plot()"
   ]
  },
  {
   "cell_type": "code",
   "execution_count": 19,
   "metadata": {},
   "outputs": [
    {
     "data": {
      "text/plain": [
       "[]"
      ]
     },
     "execution_count": 19,
     "metadata": {},
     "output_type": "execute_result"
    },
    {
     "data": {
      "image/png": "[encoded data removed]",
      "text/plain": [
       "<Figure size 1008x432 with 1 Axes>"
      ]
     },
     "metadata": {
      "needs_background": "light"
     },
     "output_type": "display_data"
    }
   ],
   "source": [
    "states = range(max_state + 1)\n",
    "fig = plt.figure(figsize=(14, 6))\n",
    "ax = fig.add_subplot(111)\n",
    "ax.set_ylim([0, 0.16])\n",
    "ax.set_ylabel(r\"Probability of maintenance\",fontsize=12)\n",
    "ax.set_xlabel(r\"State of the bus\", fontsize=12)\n",
    "ax.plot(states, choice_ml[:max_state + 1, 1], color='blue', label='ML estimate')\n",
    "ax.plot(states, real_repl, color='red', label='Real maintenance probability')\n",
    "\n",
    "\n",
    "plt.legend()\n",
    "ax.legend(fontsize=12)\n",
    "plt.tight_layout()\n",
    "\n",
    "plt.plot()"
   ]
  },
  {
   "cell_type": "code",
   "execution_count": null,
   "metadata": {},
   "outputs": [],
   "source": []
  },
  {
   "cell_type": "code",
   "execution_count": null,
   "metadata": {},
   "outputs": [],
   "source": []
  }
 ],
 "metadata": {
  "kernelspec": {
   "display_name": "Python 3",
   "language": "python",
   "name": "python3"
  },
  "language_info": {
   "codemirror_mode": {
    "name": "ipython",
    "version": 3
   },
   "file_extension": ".py",
   "mimetype": "text/x-python",
   "name": "python",
   "nbconvert_exporter": "python",
   "pygments_lexer": "ipython3",
   "version": "3.6.7"
  }
 },
 "nbformat": 4,
 "nbformat_minor": 2
}
