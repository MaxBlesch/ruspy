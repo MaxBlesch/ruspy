{
 "cells": [
  {
   "cell_type": "code",
   "execution_count": 1,
   "metadata": {},
   "outputs": [],
   "source": [
    "import yaml\n",
    "import numpy as np\n",
    "import matplotlib.pyplot as plt\n",
    "from scipy.stats import chi2\n",
    "\n",
    "from ruspy.data.data_reading import data_reading\n",
    "from ruspy.data.data_processing import data_processing\n",
    "\n",
    "from ruspy.estimation.estimation import estimate\n",
    "from ruspy.estimation.estimation_cost_parameters import calc_fixp\n",
    "from ruspy.estimation.estimation_cost_parameters import lin_cost\n",
    "from ruspy.estimation.estimation_cost_parameters import myopic_costs\n",
    "from ruspy.estimation.estimation_cost_parameters import create_transition_matrix\n",
    "\n",
    "from ruspy.simulation.simulation import simulate\n",
    "from ruspy.simulation.robust_sim import get_worst_trans\n",
    "\n",
    "from ruspy.plotting.value_zero import discount_utility\n",
    "from ruspy.plotting.value_zero import calc_ev_0\n"
   ]
  },
  {
   "cell_type": "code",
   "execution_count": 2,
   "metadata": {},
   "outputs": [],
   "source": [
    "# Prepare the raw data.\n",
    "data_reading()"
   ]
  },
  {
   "cell_type": "code",
   "execution_count": 2,
   "metadata": {},
   "outputs": [],
   "source": [
    "# Beta is set almost to one, as the agents objective is to maximize average cost.\n",
    "beta = 0.9999\n",
    "# 50 buses should be enough to gurantee convergence.\n",
    "num_buses = 200\n",
    "# Set the number of simulated periods to 80000. The first plot shows the convergence at this point.\n",
    "num_periods = 80000\n",
    "#Initilize a dictionary with values needed on the way.\n",
    "init_dict = {\n",
    "    'estimation':{\n",
    "        'groups': 'group_4',\n",
    "        'beta': beta,\n",
    "        'maint_func': 'linear',\n",
    "        'binsize': 5000,\n",
    "        'states': 90,\n",
    "        'max_it': 1000\n",
    "    },\n",
    "    'simulation':{\n",
    "        'beta': beta,\n",
    "        'periods': num_periods,\n",
    "        'seed': 123,\n",
    "        'maint_func': 'linear',\n",
    "        'buses': num_buses\n",
    "    }\n",
    "    \n",
    "}\n",
    "np.random.seed(init_dict['simulation']['seed'])"
   ]
  },
  {
   "cell_type": "code",
   "execution_count": 4,
   "metadata": {},
   "outputs": [
    {
     "name": "stdout",
     "output_type": "stream",
     "text": [
      "     fun: 3140.570557231583\n",
      "     jac: array([-4291.96844482, -4292.02462769, -4291.81420898])\n",
      " message: 'Optimization terminated successfully.'\n",
      "    nfev: 158\n",
      "     nit: 26\n",
      "    njev: 26\n",
      "  status: 0\n",
      " success: True\n",
      "       x: array([0.39189477, 0.59529015, 0.01281509])       fun: 163.58583868384702\n",
      " hess_inv: <2x2 LbfgsInvHessProduct with dtype=float64>\n",
      "      jac: array([-2.27373675e-05,  4.26325641e-05])\n",
      "  message: b'CONVERGENCE: REL_REDUCTION_OF_F_<=_FACTR*EPSMCH'\n",
      "     nfev: 36\n",
      "      nit: 10\n",
      "   status: 0\n",
      "  success: True\n",
      "        x: array([10.07776827,  2.29415225])\n"
     ]
    }
   ],
   "source": [
    "repl_data = data_processing(init_dict['estimation'])\n",
    "trans_results, cost_results = estimate(init_dict['estimation'], repl_data)\n",
    "print(trans_results, cost_results)"
   ]
  },
  {
   "cell_type": "code",
   "execution_count": 5,
   "metadata": {},
   "outputs": [],
   "source": [
    "# The estimated probabilities are our starting point.\n",
    "init_dict['simulation']['known probs'] = trans_results['x']\n",
    "init_dict['simulation']['params'] = cost_results['x']\n",
    "\n",
    "# Simulate a dataset with these values.\n",
    "df, unobs, utilities, num_states = simulate(init_dict['simulation'])\n",
    "\n",
    "# The theoretic value at time zero is computed.\n",
    "costs = myopic_costs(num_states, lin_cost, init_dict['simulation']['params'])\n",
    "trans_probs = np.array(init_dict['simulation']['known probs'])\n",
    "trans_mat = create_transition_matrix(num_states, trans_probs)\n",
    "ev = calc_fixp(num_states, trans_mat, costs, beta)\n",
    "\n",
    "# Paramters for plotting\n",
    "gridsize = 1000\n",
    "num_points = int(num_periods/gridsize)\n",
    "\n",
    "# Calculate the expected value at time zero\n",
    "v_exp = np.full(num_points, calc_ev_0(ev, unobs, num_buses))\n",
    "# Calculate the value at time 0 by discounting the utility\n",
    "v_disc = discount_utility(np.zeros(num_points), num_buses, gridsize, num_periods, utilities, beta)\n",
    "# Create a numpy array of the periods for plotting\n",
    "periods = np.arange(0, num_periods, gridsize)"
   ]
  },
  {
   "cell_type": "code",
   "execution_count": 6,
   "metadata": {
    "scrolled": true
   },
   "outputs": [
    {
     "data": {
      "text/plain": [
       "[]"
      ]
     },
     "execution_count": 6,
     "metadata": {},
     "output_type": "execute_result"
    },
    {
     "data": {
      "image/png": "[encoded data removed]",
      "text/plain": [
       "<Figure size 1008x432 with 1 Axes>"
      ]
     },
     "metadata": {
      "needs_background": "light"
     },
     "output_type": "display_data"
    }
   ],
   "source": [
    "fig = plt.figure(figsize=(14, 6))\n",
    "ax = fig.add_subplot(111)\n",
    "ax.set_ylim([0, 1.3 * v_disc[-1]])\n",
    "ax.set_ylabel(r\"Value at time 0\")\n",
    "ax.set_xlabel(r\"Periods\")\n",
    "ax.plot(periods, v_disc, color='blue', label='Discounted utility')\n",
    "ax.plot(periods, v_exp, color='red', label='Expected value at time 0')\n",
    "\n",
    "ax.legend(loc='upper center', bbox_to_anchor=(0.5, -0.05), shadow=True, ncol=2)\n",
    "\n",
    "plt.tight_layout()\n",
    "\n",
    "plt.plot()\n"
   ]
  },
  {
   "cell_type": "markdown",
   "metadata": {},
   "source": [
    "# Uncertainty\n",
    "\n",
    "Now we want to introduce uncertain transition probabilites. Let <br/> <br/>\n",
    "\n",
    "$\\tilde{p}$ be the true underlying transition probability <br/>\n",
    "$\\hat{p_s}$ the transition probability for state s estimated from data <br/>\n",
    "$\\rho$ the size if the uncertainty set <br/>\n",
    "$\\omega$ the confidence level. <br/>\n",
    "S S the number of states to which a transition is posible <br/>\n",
    "$N_s$ the number of observations for state s <br/>\n",
    "F the cdf of a chi-squared distribution<br/>\n",
    "\n",
    "Then the following holds: \n",
    "\n",
    "$$ \\omega = P\\{ \\tilde{p} \\in \\{ p : D(p||\\hat{p_s}) \\leq \\rho \\} \\approx P\\{ \\chi^2_{|S| - 1} \\leq 2N_s\\rho \\} = F_{|S| - 1}(2N_s\\rho )$$\n",
    "So \n",
    "$$\\rho = F_{|S| - 1}^{-1}(\\omega)/2N_s$$\n",
    "\n",
    "\n",
    "As Rust doesn't estimate the transition probabilities for each state, that's the first modification I will need to do. The second is, that Rust took a weird convention or I didn't fully understand the his model yet: <br/>\n",
    "Whenever a engine is replaced, he counts transition afterwards as an increase by one. In the following code cell, I estimate the model with the (for me intiutive) rule: <br/>\n",
    "If an engine is replaced, I look at the following state, if that is 0,1 or 2. Also I implemented a counting function for the observations in each state.\n",
    "\n"
   ]
  },
  {
   "cell_type": "code",
   "execution_count": 7,
   "metadata": {},
   "outputs": [
    {
     "name": "stdout",
     "output_type": "stream",
     "text": [
      "     fun: 3153.831162720235\n",
      "     jac: array([-4291.99981689, -4292.00033569, -4291.98428345])\n",
      " message: 'Optimization terminated successfully.'\n",
      "    nfev: 60\n",
      "     nit: 11\n",
      "    njev: 11\n",
      "  status: 0\n",
      " success: True\n",
      "       x: array([0.39958063, 0.58760479, 0.01281458])       fun: 163.5826099336495\n",
      " hess_inv: <2x2 LbfgsInvHessProduct with dtype=float64>\n",
      "      jac: array([1.70530257e-05, 3.69482223e-05])\n",
      "  message: b'CONVERGENCE: REL_REDUCTION_OF_F_<=_FACTR*EPSMCH'\n",
      "     nfev: 36\n",
      "      nit: 10\n",
      "   status: 0\n",
      "  success: True\n",
      "        x: array([10.08896882,  2.28097345]) [171, 103, 115, 123, 119, 121, 103, 96, 98, 98, 95, 97, 92, 99, 84, 92, 91, 90, 82, 75, 68, 73, 72, 71, 64, 67, 62, 62, 55, 54, 56, 47, 49, 54, 54, 50, 50, 51, 50, 51, 57, 58, 47, 52, 47, 46, 45, 49, 47, 47, 44, 49, 40, 44, 35, 35, 36, 29, 34, 26, 26, 26, 22, 23, 22, 20, 13, 15, 17, 14, 6, 5, 3, 2, 2, 2, 2, 1]\n"
     ]
    }
   ],
   "source": [
    "trans_results, state_count, cost_results = estimate(init_dict['estimation'], repl_data, repl_4=False)\n",
    "print(trans_results, cost_results, state_count)"
   ]
  },
  {
   "cell_type": "code",
   "execution_count": 8,
   "metadata": {},
   "outputs": [
    {
     "data": {
      "text/plain": [
       "0.017518902184526255"
      ]
     },
     "execution_count": 8,
     "metadata": {},
     "output_type": "execute_result"
    }
   ],
   "source": [
    "# The size of the uncertainty set, such that the true transition probability lies with 95% in it\n",
    "roh = chi2.ppf(0.95, len(trans_results['x']) - 1) / (2 * state_count[0])\n",
    "roh"
   ]
  },
  {
   "cell_type": "code",
   "execution_count": 38,
   "metadata": {},
   "outputs": [
    {
     "data": {
      "text/plain": [
       "{'estimation': {'groups': 'group_4',\n",
       "  'beta': 0.9999,\n",
       "  'maint_func': 'linear',\n",
       "  'binsize': 5000,\n",
       "  'states': 90,\n",
       "  'max_it': 1000},\n",
       " 'simulation': {'beta': 0.9999,\n",
       "  'periods': 100000,\n",
       "  'seed': 123,\n",
       "  'maint_func': 'linear',\n",
       "  'buses': 50,\n",
       "  'known probs': array([2.86580358e-02, 8.10809022e-02, 2.79122939e-01, 2.46039699e-01,\n",
       "         1.81733365e-01, 1.30242414e-01, 4.65982979e-02, 3.72817179e-03,\n",
       "         4.66088648e-04, 6.98929448e-04, 9.31981148e-04, 4.66121756e-04,\n",
       "         2.33055301e-04]),\n",
       "  'params': array([10.13297317,  0.45596175]),\n",
       "  'roh': 0.9503861939868862,\n",
       "  'states': 90,\n",
       "  'real probs': array([0.00198877, 0.01090829, 0.07299147, 0.12312995, 0.17954995,\n",
       "         0.24637874, 0.1718199 , 0.02658456, 0.00645506, 0.0187793 ,\n",
       "         0.04878326, 0.04711284, 0.04551791])}}"
      ]
     },
     "execution_count": 38,
     "metadata": {},
     "output_type": "execute_result"
    }
   ],
   "source": [
    "# We seen above, that with the new estimation method, the paramters deviate not substantial from the \"real\" ones.\n",
    "# I initialize the new values and roh now in the init_dict\n",
    "init_dict['simulation']['known probs'] = trans_results['x']\n",
    "init_dict['simulation']['params'] = cost_results['x']\n",
    "init_dict['simulation']['roh'] = roh\n",
    "# The worst case probabilites are calculated for a space size of 90. The size doesn't really makes a difference\n",
    "# as my objective value is EV(0) anyway.\n",
    "init_dict['simulation']['states'] = 90\n",
    "worst_trans = get_worst_trans(init_dict['simulation'])\n",
    "init_dict['simulation']['real probs'] = worst_trans\n",
    "init_dict"
   ]
  },
  {
   "cell_type": "code",
   "execution_count": 39,
   "metadata": {},
   "outputs": [
    {
     "ename": "KeyboardInterrupt",
     "evalue": "",
     "output_type": "error",
     "traceback": [
      "\u001b[0;31m---------------------------------------------------------------------------\u001b[0m",
      "\u001b[0;31mKeyboardInterrupt\u001b[0m                         Traceback (most recent call last)",
      "\u001b[0;32m<ipython-input-39-dd1788dd9a80>\u001b[0m in \u001b[0;36m<module>\u001b[0;34m\u001b[0m\n\u001b[1;32m      1\u001b[0m \u001b[0;31m# So with the worst case probabilites as the real ones, I calculate the new strategy\u001b[0m\u001b[0;34m\u001b[0m\u001b[0;34m\u001b[0m\u001b[0;34m\u001b[0m\u001b[0m\n\u001b[0;32m----> 2\u001b[0;31m \u001b[0mdf\u001b[0m\u001b[0;34m,\u001b[0m \u001b[0munobs\u001b[0m\u001b[0;34m,\u001b[0m \u001b[0mutilities\u001b[0m\u001b[0;34m,\u001b[0m \u001b[0mnum_states\u001b[0m \u001b[0;34m=\u001b[0m \u001b[0msimulate\u001b[0m\u001b[0;34m(\u001b[0m\u001b[0minit_dict\u001b[0m\u001b[0;34m[\u001b[0m\u001b[0;34m'simulation'\u001b[0m\u001b[0;34m]\u001b[0m\u001b[0;34m)\u001b[0m\u001b[0;34m\u001b[0m\u001b[0;34m\u001b[0m\u001b[0m\n\u001b[0m\u001b[1;32m      3\u001b[0m \u001b[0;31m# The cost vector for the new parameters\u001b[0m\u001b[0;34m\u001b[0m\u001b[0;34m\u001b[0m\u001b[0;34m\u001b[0m\u001b[0m\n\u001b[1;32m      4\u001b[0m \u001b[0mcosts\u001b[0m \u001b[0;34m=\u001b[0m \u001b[0mmyopic_costs\u001b[0m\u001b[0;34m(\u001b[0m\u001b[0mnum_states\u001b[0m\u001b[0;34m,\u001b[0m \u001b[0mlin_cost\u001b[0m\u001b[0;34m,\u001b[0m \u001b[0minit_dict\u001b[0m\u001b[0;34m[\u001b[0m\u001b[0;34m'simulation'\u001b[0m\u001b[0;34m]\u001b[0m\u001b[0;34m[\u001b[0m\u001b[0;34m'params'\u001b[0m\u001b[0;34m]\u001b[0m\u001b[0;34m)\u001b[0m\u001b[0;34m\u001b[0m\u001b[0;34m\u001b[0m\u001b[0m\n\u001b[1;32m      5\u001b[0m \u001b[0;34m\u001b[0m\u001b[0m\n",
      "\u001b[0;32m~/Uni/Master_Thesis/prog/ruspy/ruspy/simulation/simulation.py\u001b[0m in \u001b[0;36msimulate\u001b[0;34m(init_dict)\u001b[0m\n\u001b[1;32m     63\u001b[0m     \u001b[0mstates\u001b[0m\u001b[0;34m,\u001b[0m \u001b[0mdecisions\u001b[0m\u001b[0;34m,\u001b[0m \u001b[0mutilities\u001b[0m\u001b[0;34m,\u001b[0m \u001b[0mnum_states\u001b[0m \u001b[0;34m=\u001b[0m\u001b[0;31m \u001b[0m\u001b[0;31m\\\u001b[0m\u001b[0;34m\u001b[0m\u001b[0;34m\u001b[0m\u001b[0m\n\u001b[1;32m     64\u001b[0m         simulate_strategy(known_trans, increments, num_buses, num_periods, params,\n\u001b[0;32m---> 65\u001b[0;31m                           beta, unobs, maint_func)\n\u001b[0m\u001b[1;32m     66\u001b[0m     \u001b[0mdf\u001b[0m \u001b[0;34m=\u001b[0m \u001b[0mpd\u001b[0m\u001b[0;34m.\u001b[0m\u001b[0mDataFrame\u001b[0m\u001b[0;34m(\u001b[0m\u001b[0;34m{\u001b[0m\u001b[0;34m'state'\u001b[0m\u001b[0;34m:\u001b[0m \u001b[0mstates\u001b[0m\u001b[0;34m.\u001b[0m\u001b[0mflatten\u001b[0m\u001b[0;34m(\u001b[0m\u001b[0;34m)\u001b[0m\u001b[0;34m,\u001b[0m \u001b[0;34m'decision'\u001b[0m\u001b[0;34m:\u001b[0m \u001b[0mdecisions\u001b[0m\u001b[0;34m.\u001b[0m\u001b[0mflatten\u001b[0m\u001b[0;34m(\u001b[0m\u001b[0;34m)\u001b[0m\u001b[0;34m}\u001b[0m\u001b[0;34m)\u001b[0m\u001b[0;34m\u001b[0m\u001b[0;34m\u001b[0m\u001b[0m\n\u001b[1;32m     67\u001b[0m     \u001b[0mdf\u001b[0m\u001b[0;34m[\u001b[0m\u001b[0;34m'period'\u001b[0m\u001b[0;34m]\u001b[0m \u001b[0;34m=\u001b[0m \u001b[0mnp\u001b[0m\u001b[0;34m.\u001b[0m\u001b[0marange\u001b[0m\u001b[0;34m(\u001b[0m\u001b[0mnum_periods\u001b[0m\u001b[0;34m)\u001b[0m\u001b[0;34m.\u001b[0m\u001b[0mrepeat\u001b[0m\u001b[0;34m(\u001b[0m\u001b[0mnum_buses\u001b[0m\u001b[0;34m)\u001b[0m\u001b[0;34m.\u001b[0m\u001b[0mastype\u001b[0m\u001b[0;34m(\u001b[0m\u001b[0mint\u001b[0m\u001b[0;34m)\u001b[0m\u001b[0;34m\u001b[0m\u001b[0;34m\u001b[0m\u001b[0m\n",
      "\u001b[0;32m~/Uni/Master_Thesis/prog/ruspy/ruspy/simulation/simulation_auxiliary.py\u001b[0m in \u001b[0;36msimulate_strategy\u001b[0;34m(known_trans, increments, num_buses, num_periods, params, beta, unobs, maint_func)\u001b[0m\n\u001b[1;32m     52\u001b[0m         \u001b[0mknown_trans_mat\u001b[0m \u001b[0;34m=\u001b[0m \u001b[0mcreate_transition_matrix\u001b[0m\u001b[0;34m(\u001b[0m\u001b[0mnum_states\u001b[0m\u001b[0;34m,\u001b[0m \u001b[0mknown_trans\u001b[0m\u001b[0;34m)\u001b[0m\u001b[0;34m\u001b[0m\u001b[0;34m\u001b[0m\u001b[0m\n\u001b[1;32m     53\u001b[0m         \u001b[0mcosts\u001b[0m \u001b[0;34m=\u001b[0m \u001b[0mmyopic_costs\u001b[0m\u001b[0;34m(\u001b[0m\u001b[0mnum_states\u001b[0m\u001b[0;34m,\u001b[0m \u001b[0mmaint_func\u001b[0m\u001b[0;34m,\u001b[0m \u001b[0mparams\u001b[0m\u001b[0;34m)\u001b[0m\u001b[0;34m\u001b[0m\u001b[0;34m\u001b[0m\u001b[0m\n\u001b[0;32m---> 54\u001b[0;31m         \u001b[0mev\u001b[0m \u001b[0;34m=\u001b[0m \u001b[0mcalc_fixp\u001b[0m\u001b[0;34m(\u001b[0m\u001b[0mnum_states\u001b[0m\u001b[0;34m,\u001b[0m \u001b[0mknown_trans_mat\u001b[0m\u001b[0;34m,\u001b[0m \u001b[0mcosts\u001b[0m\u001b[0;34m,\u001b[0m \u001b[0mbeta\u001b[0m\u001b[0;34m)\u001b[0m\u001b[0;34m\u001b[0m\u001b[0;34m\u001b[0m\u001b[0m\n\u001b[0m\u001b[1;32m     55\u001b[0m         \u001b[0mstates\u001b[0m\u001b[0;34m,\u001b[0m \u001b[0mdecisions\u001b[0m\u001b[0;34m,\u001b[0m \u001b[0mutilities\u001b[0m\u001b[0;34m,\u001b[0m \u001b[0mstart_period\u001b[0m \u001b[0;34m=\u001b[0m\u001b[0;31m \u001b[0m\u001b[0;31m\\\u001b[0m\u001b[0;34m\u001b[0m\u001b[0;34m\u001b[0m\u001b[0m\n\u001b[1;32m     56\u001b[0m             simulate_strategy_loop(num_buses, states, decisions, utilities, costs,\n",
      "\u001b[0;31mKeyboardInterrupt\u001b[0m: "
     ]
    }
   ],
   "source": [
    "# So with the worst case probabilites as the real ones, I calculate the new strategy\n",
    "df, unobs, utilities, num_states = simulate(init_dict['simulation'])\n",
    "# The cost vector for the new parameters\n",
    "costs = myopic_costs(num_states, lin_cost, init_dict['simulation']['params'])\n",
    "\n",
    "# For a better understanding, I use real_trans_probs instead of worst_case in the following\n",
    "real_trans_probs = np.array(init_dict['simulation']['real probs'])\n",
    "real_trans_mat = create_transition_matrix(num_states, real_trans_probs)\n",
    "known_trans_probs = np.array(init_dict['simulation']['known probs'])\n",
    "known_trans_mat = create_transition_matrix(num_states, known_trans_probs)\n",
    "\n",
    "# So the calculated expected value of the real transition probabilities. We saw above, that if the \n",
    "# agent knows these, his discounted utility converges to that.\n",
    "ev_real = calc_fixp(num_states, real_trans_mat, costs, beta)\n",
    "v_exp_real = np.full(num_points, calc_ev_0(ev_real, unobs, num_buses))\n",
    "\n",
    "# The expected value of transition probabilites the agent knows.\n",
    "ev_known = calc_fixp(num_states, known_trans_mat, costs, beta)\n",
    "v_exp_known = np.full(num_points, calc_ev_0(ev_known, unobs, num_buses))\n",
    "\n",
    "# The discounted utility of the decision strategy\n",
    "v_disc = discount_utility(np.zeros(num_points), num_buses, gridsize, num_periods, utilities, beta)\n"
   ]
  },
  {
   "cell_type": "code",
   "execution_count": 11,
   "metadata": {},
   "outputs": [
    {
     "data": {
      "text/plain": [
       "[]"
      ]
     },
     "execution_count": 11,
     "metadata": {},
     "output_type": "execute_result"
    },
    {
     "data": {
      "image/png": "[encoded data removed]",
      "text/plain": [
       "<Figure size 1008x432 with 1 Axes>"
      ]
     },
     "metadata": {
      "needs_background": "light"
     },
     "output_type": "display_data"
    }
   ],
   "source": [
    "fig = plt.figure(figsize=(14, 6))\n",
    "\n",
    "ax = fig.add_subplot(111)\n",
    "\n",
    "ax.set_ylim([0, 1.3 * v_disc[-1]])\n",
    "\n",
    "ax.set_ylabel(r\"Value at time 0    \")\n",
    "ax.set_xlabel(r\"Periods\")\n",
    "\n",
    "ax.plot(periods, v_disc, color='blue', label='Discounted utility')\n",
    "ax.plot(periods, v_exp_real, color='red', label='Expected value of the real transition probabilites at time 0')\n",
    "ax.plot(periods, v_exp_known, color='green',label='Expected value of the known transition probabilites at time 0')\n",
    "\n",
    "plt.tight_layout()\n",
    "\n",
    "plt.plot()"
   ]
  },
  {
   "cell_type": "markdown",
   "metadata": {},
   "source": [
    "So we see, there is not a big of a gain. Lets look at it more closely and discretisize the state space a lot finer. Therefore we have to update the init_dict and then do the same steps as above:"
   ]
  },
  {
   "cell_type": "code",
   "execution_count": 3,
   "metadata": {},
   "outputs": [
    {
     "data": {
      "text/plain": [
       "{'estimation': {'groups': 'group_4',\n",
       "  'beta': 0.9999,\n",
       "  'maint_func': 'linear',\n",
       "  'binsize': 5000,\n",
       "  'states': 90,\n",
       "  'max_it': 1000},\n",
       " 'simulation': {'beta': 0.9999,\n",
       "  'periods': 80000,\n",
       "  'seed': 123,\n",
       "  'maint_func': 'linear',\n",
       "  'buses': 200}}"
      ]
     },
     "execution_count": 3,
     "metadata": {},
     "output_type": "execute_result"
    }
   ],
   "source": [
    "init_dict"
   ]
  },
  {
   "cell_type": "code",
   "execution_count": 33,
   "metadata": {},
   "outputs": [
    {
     "name": "stdout",
     "output_type": "stream",
     "text": [
      "     fun: 10316.291552173117\n",
      "     jac: array([-4293.21044922, -4292.56689453, -4291.54553223, -4292.8347168 ,\n",
      "       -4292.08044434, -4291.81384277, -4291.52258301, -4291.61572266,\n",
      "       -4291.39160156, -4292.25024414, -4292.02807617, -4291.64233398,\n",
      "       -4292.99853516, -4292.54272461, -4291.29223633,     0.        ,\n",
      "       -4281.0201416 , -4292.98181152,     0.        , -4289.12011719,\n",
      "       -4290.72814941, -4008.80224609, -4278.40893555, -4125.05114746,\n",
      "       -4274.24658203])\n",
      " message: 'Iteration limit exceeded'\n",
      "    nfev: 2841\n",
      "     nit: 101\n",
      "    njev: 97\n",
      "  status: 9\n",
      " success: False\n",
      "       x: array([2.21279551e-02, 9.78434790e-03, 3.37873539e-02, 9.15478918e-02,\n",
      "       1.47713908e-01, 1.67528227e-01, 1.12081427e-01, 9.80982463e-02,\n",
      "       9.08796054e-02, 8.38720847e-02, 7.05959889e-02, 4.03109016e-02,\n",
      "       2.11972978e-02, 6.98885729e-03, 6.99082672e-04, 1.23183604e-06,\n",
      "       2.33581739e-04, 6.98807547e-04, 1.23183604e-06, 4.66288656e-04,\n",
      "       4.66113892e-04, 2.49443624e-04, 2.33724297e-04, 2.42413783e-04,\n",
      "       2.33951909e-04])       fun: 163.719130421822\n",
      " hess_inv: <2x2 LbfgsInvHessProduct with dtype=float64>\n",
      "      jac: array([-2.84217094e-06,  3.41060513e-05])\n",
      "  message: b'CONVERGENCE: REL_REDUCTION_OF_F_<=_FACTR*EPSMCH'\n",
      "     nfev: 63\n",
      "      nit: 16\n",
      "   status: 0\n",
      "  success: True\n",
      "        x: array([10.14358847,  0.22775945]) [52, 21, 18, 20, 17, 10, 6, 5, 10, 12, 7, 11, 4, 11, 21, 7, 11, 14, 11, 6, 7, 16, 15, 11, 9, 14, 10, 15, 11, 7, 20, 6, 15, 11, 10, 9, 17, 13, 13, 9, 8, 17, 8, 9, 21, 5, 19, 6, 12, 14, 7, 14, 13, 9, 12, 19, 10, 5, 20, 12, 11, 9, 9, 7, 15, 6, 14, 6, 14, 12, 8, 7, 11, 9, 11, 15, 9, 12, 4, 10, 11, 7, 13, 6, 10, 9, 11, 12, 9, 10, 7, 10, 8, 11, 13, 17, 6, 9, 8, 9, 9, 7, 6, 12, 14, 10, 10, 13, 8, 6, 13, 8, 10, 6, 6, 11, 9, 11, 13, 10, 5, 13, 9, 5, 7, 18, 9, 8, 9, 9, 15, 6, 10, 8, 12, 5, 12, 7, 10, 14, 4, 8, 14, 8, 8, 11, 7, 5, 11, 8, 14, 6, 9, 14, 6, 7, 10, 9, 9, 8, 11, 7, 9, 12, 10, 9, 10, 4, 14, 5, 10, 9, 7, 10, 7, 9, 8, 15, 5, 10, 10, 7, 3, 10, 11, 7, 8, 8, 7, 11, 6, 10, 8, 7, 4, 6, 12, 10, 7, 5, 5, 10, 4, 5, 6, 14, 8, 4, 8, 4, 9, 10, 5, 7, 5, 13, 5, 5, 9, 5, 4, 9, 12, 10, 5, 7, 9, 4, 4, 8, 9, 7, 6, 6, 9, 9, 2, 5, 10, 8, 9, 5, 6, 7, 8, 5, 7, 3, 8, 6, 11, 8, 6, 5, 6, 5, 4, 9, 8, 5, 8, 7, 5, 3, 8, 4, 4, 7, 10, 6, 6, 6, 4, 6, 6, 10, 6, 2, 9, 7, 3, 6, 0, 6, 6, 8, 8, 5, 9, 4, 3, 1, 8, 7, 7, 3, 8, 10, 4, 3, 7, 4, 6, 4, 6, 6, 5, 6, 7, 5, 2, 6, 4, 8, 7, 1, 4, 6, 7, 2, 7, 7, 4, 6, 5, 3, 5, 4, 6, 2, 6, 7, 6, 3, 6, 5, 4, 4, 8, 5, 8, 5, 4, 3, 4, 5, 6, 10, 7, 2, 6, 4, 5, 4, 7, 7, 4, 4, 4, 5, 4, 6, 6, 4, 5, 4, 3, 2, 8, 8, 9, 6, 3, 5, 3, 4, 5, 5, 6, 5, 2, 6, 5, 6, 6, 3, 5, 4, 6, 7, 6, 5, 5, 1, 7, 4, 4, 9, 8, 2, 5, 8, 8, 3, 9, 2, 3, 7, 5, 7, 5, 6, 6, 4, 5, 9, 7, 5, 7, 4, 6, 3, 5, 5, 5, 6, 4, 3, 9, 1, 5, 4, 5, 8, 5, 5, 4, 7, 4, 5, 7, 4, 3, 6, 5, 4, 7, 4, 3, 4, 3, 7, 4, 4, 6, 6, 3, 2, 6, 5, 4, 3, 5, 7, 7, 2, 4, 5, 3, 5, 8, 6, 4, 4, 4, 2, 7, 6, 5, 3, 4, 8, 2, 5, 3, 7, 2, 6, 4, 6, 4, 3, 6, 6, 6, 5, 2, 4, 4, 7, 3, 4, 4, 6, 4, 6, 2, 3, 8, 4, 5, 10, 3, 5, 3, 6, 6, 3, 4, 4, 6, 1, 6, 6, 2, 5, 3, 6, 4, 1, 6, 5, 3, 5, 3, 4, 5, 6, 2, 5, 3, 2, 6, 5, 3, 0, 2, 10, 2, 2, 5, 2, 4, 3, 3, 4, 2, 4, 5, 3, 3, 5, 3, 5, 2, 3, 4, 4, 3, 4, 2, 1, 4, 4, 3, 2, 2, 5, 0, 6, 5, 2, 3, 4, 5, 3, 1, 4, 3, 4, 2, 1, 4, 5, 2, 4, 1, 5, 2, 0, 4, 4, 0, 4, 3, 1, 4, 3, 3, 0, 4, 1, 0, 6, 3, 1, 2, 4, 3, 2, 3, 2, 3, 0, 2, 2, 3, 2, 2, 3, 3, 1, 1, 4, 3, 1, 3, 4, 2, 1, 2, 3, 0, 4, 1, 4, 1, 2, 3, 2, 3, 1, 3, 2, 1, 4, 2, 1, 1, 2, 1, 2, 2, 0, 1, 0, 3, 1, 2, 1, 1, 2, 2, 0, 1, 4, 0, 0, 3, 2, 0, 1, 5, 0, 1, 3, 1, 3, 1, 2, 1, 1, 3, 1, 1, 2, 2, 2, 0, 1, 1, 1, 1, 1, 0, 1, 0, 1, 0, 0, 1, 0, 1, 1, 0, 0, 0, 1, 0, 1, 0, 1, 0, 1, 0, 0, 0, 0, 1, 0, 0, 0, 0, 0, 1, 0, 0, 0, 0, 1, 0, 0, 0, 0, 1, 0, 0, 0, 1, 0, 0, 0, 0, 0, 1, 0, 0, 1, 0, 0, 0, 1, 0, 0, 1, 0, 0, 0, 0, 0, 1, 0, 0, 0, 0]\n"
     ]
    }
   ],
   "source": [
    "init_dict['estimation']['binsize'] = 500\n",
    "init_dict['estimation']['states'] = init_dict['simulation']['states'] = 900\n",
    "init_dict['estimation']['max_it'] = 1000\n",
    "repl_data = data_processing(init_dict['estimation'])\n",
    "trans_results, state_count, cost_results = estimate(init_dict['estimation'], repl_data, repl_4=False)\n",
    "print(trans_results, cost_results, state_count)"
   ]
  },
  {
   "cell_type": "code",
   "execution_count": 36,
   "metadata": {},
   "outputs": [
    {
     "data": {
      "text/plain": [
       "2.9970980106811322"
      ]
     },
     "execution_count": 36,
     "metadata": {},
     "output_type": "execute_result"
    }
   ],
   "source": [
    "# The size of the uncertainty set, such that the true transition probability lies with 95% in it\n",
    "roh = chi2.ppf(0.9, len(trans_results['x']) - 1) / (2 * np.mean(state_count))\n",
    "roh"
   ]
  },
  {
   "cell_type": "code",
   "execution_count": 37,
   "metadata": {},
   "outputs": [
    {
     "data": {
      "text/plain": [
       "{'estimation': {'groups': 'group_4',\n",
       "  'beta': 0.9999,\n",
       "  'maint_func': 'linear',\n",
       "  'binsize': 500,\n",
       "  'states': 900,\n",
       "  'max_it': 1000},\n",
       " 'simulation': {'beta': 0.9999,\n",
       "  'periods': 80000,\n",
       "  'seed': 123,\n",
       "  'maint_func': 'linear',\n",
       "  'buses': 200,\n",
       "  'states': 900,\n",
       "  'known probs': array([2.21279551e-02, 9.78434790e-03, 3.37873539e-02, 9.15478918e-02,\n",
       "         1.47713908e-01, 1.67528227e-01, 1.12081427e-01, 9.80982463e-02,\n",
       "         9.08796054e-02, 8.38720847e-02, 7.05959889e-02, 4.03109016e-02,\n",
       "         2.11972978e-02, 6.98885729e-03, 6.99082672e-04, 1.23183604e-06,\n",
       "         2.33581739e-04, 6.98807547e-04, 1.23183604e-06, 4.66288656e-04,\n",
       "         4.66113892e-04, 2.49443624e-04, 2.33724297e-04, 2.42413783e-04,\n",
       "         2.33951909e-04]),\n",
       "  'params': array([10.14358847,  0.22775945]),\n",
       "  'roh': 2.9970980106811322,\n",
       "  'real probs': array([2.91375549e-04, 2.10604287e-04, 1.10920371e-03, 4.70339501e-03,\n",
       "         1.19222939e-02, 2.13369119e-02, 2.27174346e-02, 3.13324999e-02,\n",
       "         4.57279635e-02, 6.62644311e-02, 8.84280579e-02, 7.94429443e-02,\n",
       "         6.54997947e-02, 3.45692451e-02, 5.40363709e-03, 1.50626081e-05,\n",
       "         4.54069858e-03, 2.15838860e-02, 5.44176770e-05, 3.53425146e-02,\n",
       "         5.54800446e-02, 4.70600875e-02, 6.91363116e-02, 1.15149485e-01,\n",
       "         1.72677699e-01])}}"
      ]
     },
     "execution_count": 37,
     "metadata": {},
     "output_type": "execute_result"
    }
   ],
   "source": [
    "# We seen above, that with the new estimation method, the paramters deviate not substantial from the \"real\" ones.\n",
    "# I initialize the new values and roh now in the init_dict\n",
    "init_dict['simulation']['known probs'] = trans_results['x']\n",
    "init_dict['simulation']['params'] = cost_results['x']\n",
    "init_dict['simulation']['roh'] = roh\n",
    "# The worst case probabilites are calculated for a space size of 90. The size doesn't really makes a difference\n",
    "# as my objective value is EV(0) anyway.\n",
    "worst_trans = get_worst_trans(init_dict['simulation'])\n",
    "init_dict['simulation']['real probs'] = worst_trans\n",
    "init_dict"
   ]
  },
  {
   "cell_type": "code",
   "execution_count": 38,
   "metadata": {},
   "outputs": [],
   "source": [
    "gridsize = 1000\n",
    "num_points = int(num_periods/gridsize)"
   ]
  },
  {
   "cell_type": "code",
   "execution_count": null,
   "metadata": {},
   "outputs": [],
   "source": [
    "# So with the worst case probabilites as the real ones, I calculate the new strategy\n",
    "df, unobs, utilities, num_states = simulate(init_dict['simulation'])"
   ]
  },
  {
   "cell_type": "code",
   "execution_count": 22,
   "metadata": {},
   "outputs": [],
   "source": [
    "# The cost vector for the new parameters\n",
    "num_states = 600\n",
    "costs = myopic_costs(num_states, lin_cost, init_dict['simulation']['params'])\n",
    "# For a better understanding, I use real_trans_probs instead of worst_case in the following\n",
    "real_trans_probs = np.array(init_dict['simulation']['real probs'])\n",
    "real_trans_mat = create_transition_matrix(num_states, real_trans_probs)\n",
    "known_trans_probs = np.array(init_dict['simulation']['known probs'])\n",
    "known_trans_mat = create_transition_matrix(num_states, known_trans_probs)"
   ]
  },
  {
   "cell_type": "code",
   "execution_count": 23,
   "metadata": {},
   "outputs": [],
   "source": [
    "# So the calculated expected value of the real transition probabilities. We saw above, that if the \n",
    "# agent knows these, his discounted utility converges to that.\n",
    "ev_real = calc_fixp(num_states, real_trans_mat, costs, beta)\n",
    "v_exp_real = np.full(num_points, calc_ev_0(ev_real, unobs, num_buses))"
   ]
  },
  {
   "cell_type": "code",
   "execution_count": 24,
   "metadata": {},
   "outputs": [],
   "source": [
    "# The expected value of transition probabilites the agent knows.\n",
    "ev_known = calc_fixp(num_states, known_trans_mat, costs, beta)\n",
    "v_exp_known = np.full(num_points, calc_ev_0(ev_known, unobs, num_buses))"
   ]
  },
  {
   "cell_type": "code",
   "execution_count": 25,
   "metadata": {},
   "outputs": [],
   "source": [
    "# The discounted utility of the decision strategy\n",
    "v_disc = discount_utility(np.zeros(num_points), num_buses, gridsize, num_periods, utilities, beta)"
   ]
  },
  {
   "cell_type": "code",
   "execution_count": 26,
   "metadata": {},
   "outputs": [
    {
     "data": {
      "text/plain": [
       "[]"
      ]
     },
     "execution_count": 26,
     "metadata": {},
     "output_type": "execute_result"
    },
    {
     "data": {
      "image/png": "[encoded data removed]",
      "text/plain": [
       "<Figure size 1008x432 with 1 Axes>"
      ]
     },
     "metadata": {
      "needs_background": "light"
     },
     "output_type": "display_data"
    }
   ],
   "source": [
    "periods = np.arange(0, num_periods, gridsize)\n",
    "fig = plt.figure(figsize=(14, 6))\n",
    "\n",
    "ax = fig.add_subplot(111)\n",
    "\n",
    "ax.set_ylim([0, 1.3 * v_exp_real[0]])\n",
    "\n",
    "ax.set_ylabel(r\"Value at time 0\")\n",
    "ax.set_xlabel(r\"Periods\")\n",
    "\n",
    "ax.plot(periods, v_disc, color='blue', label='Discounted utility')\n",
    "ax.plot(periods, v_exp_real, color='red', label='Expected value of the real transition probabilites at time 0')\n",
    "ax.plot(periods, v_exp_known, color='green',label='Expected value of the known transition probabilites at time 0')\n",
    "\n",
    "plt.legend()\n",
    "plt.tight_layout()\n",
    "\n",
    "plt.plot()"
   ]
  },
  {
   "cell_type": "code",
   "execution_count": null,
   "metadata": {},
   "outputs": [],
   "source": []
  }
 ],
 "metadata": {
  "kernelspec": {
   "display_name": "Python 3",
   "language": "python",
   "name": "python3"
  },
  "language_info": {
   "codemirror_mode": {
    "name": "ipython",
    "version": 3
   },
   "file_extension": ".py",
   "mimetype": "text/x-python",
   "name": "python",
   "nbconvert_exporter": "python",
   "pygments_lexer": "ipython3",
   "version": "3.6.8"
  }
 },
 "nbformat": 4,
 "nbformat_minor": 2
}
