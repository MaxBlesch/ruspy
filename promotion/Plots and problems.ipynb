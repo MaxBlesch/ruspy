{
 "cells": [
  {
   "cell_type": "code",
   "execution_count": 1,
   "metadata": {},
   "outputs": [],
   "source": [
    "import yaml\n",
    "import numpy as np\n",
    "import matplotlib.pyplot as plt\n",
    "from scipy.stats import chi2\n",
    "\n",
    "from ruspy.data.data_reading import data_reading\n",
    "from ruspy.data.data_processing import data_processing\n",
    "\n",
    "from ruspy.estimation.estimation import estimate\n",
    "from ruspy.estimation.estimation_cost_parameters import calc_fixp\n",
    "from ruspy.estimation.estimation_cost_parameters import lin_cost\n",
    "from ruspy.estimation.estimation_cost_parameters import myopic_costs\n",
    "from ruspy.estimation.estimation_cost_parameters import create_transition_matrix\n",
    "\n",
    "from ruspy.simulation.simulation import simulate\n",
    "from ruspy.simulation.robust_sim import get_worst_trans\n",
    "\n",
    "from ruspy.plotting.value_zero import discount_utility\n",
    "from ruspy.plotting.value_zero import calc_ev_0\n"
   ]
  },
  {
   "cell_type": "code",
   "execution_count": 25,
   "metadata": {},
   "outputs": [],
   "source": [
    "# Prepare the raw data.\n",
    "data_reading()"
   ]
  },
  {
   "cell_type": "code",
   "execution_count": 2,
   "metadata": {},
   "outputs": [],
   "source": [
    "# Beta is set almost to one, as the agents objective is to maximize average cost.\n",
    "beta = 0.9999\n",
    "# 50 buses should be enough to gurantee convergence.\n",
    "num_buses = 50\n",
    "# Set the number of simulated periods to 80000. The first plot shows the convergence at this point.\n",
    "num_periods = 80000\n",
    "#Initilize a dictionary with values needed on the way.\n",
    "init_dict = {\n",
    "    'estimation':{\n",
    "        'groups': 'group_4',\n",
    "        'beta': beta,\n",
    "        'maint_func': 'linear',\n",
    "        'binsize': 5000,\n",
    "        'states': 90,\n",
    "        'max_it': 1000\n",
    "    },\n",
    "    'simulation':{\n",
    "        'beta': beta,\n",
    "        'periods': num_periods,\n",
    "        'seed': 123,\n",
    "        'maint_func': 'linear',\n",
    "        'buses': num_buses\n",
    "    }\n",
    "    \n",
    "}\n",
    "np.random.seed(init_dict['simulation']['seed'])"
   ]
  },
  {
   "cell_type": "code",
   "execution_count": 27,
   "metadata": {},
   "outputs": [
    {
     "name": "stdout",
     "output_type": "stream",
     "text": [
      "     fun: 3140.570557231583\n",
      "     jac: array([-4291.96844482, -4292.02462769, -4291.81420898])\n",
      " message: 'Optimization terminated successfully.'\n",
      "    nfev: 158\n",
      "     nit: 26\n",
      "    njev: 26\n",
      "  status: 0\n",
      " success: True\n",
      "       x: array([0.39189477, 0.59529015, 0.01281509])       fun: 163.58583868384702\n",
      " hess_inv: <2x2 LbfgsInvHessProduct with dtype=float64>\n",
      "      jac: array([-2.27373675e-05,  4.26325641e-05])\n",
      "  message: b'CONVERGENCE: REL_REDUCTION_OF_F_<=_FACTR*EPSMCH'\n",
      "     nfev: 36\n",
      "      nit: 10\n",
      "   status: 0\n",
      "  success: True\n",
      "        x: array([10.07776827,  2.29415225])\n"
     ]
    }
   ],
   "source": [
    "repl_data = data_processing(init_dict['estimation'])\n",
    "trans_results, cost_results = estimate(init_dict['estimation'], repl_data)\n",
    "print(trans_results, cost_results)"
   ]
  },
  {
   "cell_type": "code",
   "execution_count": 28,
   "metadata": {},
   "outputs": [],
   "source": [
    "# The estimated probabilities are our starting point.\n",
    "init_dict['simulation']['known probs'] = trans_results['x']\n",
    "init_dict['simulation']['params'] = cost_results['x']\n",
    "\n",
    "# Simulate a dataset with these values.\n",
    "df, unobs, utilities, num_states = simulate(init_dict['simulation'])\n",
    "\n",
    "# The theoretic value at time zero is computed.\n",
    "costs = myopic_costs(num_states, lin_cost, init_dict['simulation']['params'])\n",
    "trans_probs = np.array(init_dict['simulation']['known probs'])\n",
    "trans_mat = create_transition_matrix(num_states, trans_probs)\n",
    "ev = calc_fixp(num_states, trans_mat, costs, beta)\n",
    "\n",
    "# Paramters for plotting\n",
    "gridsize = 1000\n",
    "num_points = int(num_periods/gridsize)\n",
    "\n",
    "# Calculate the expected value at time zero\n",
    "v_exp = np.full(num_points, calc_ev_0(ev, unobs, num_buses))\n",
    "# Calculate the value at time 0 by discounting the utility\n",
    "v_disc = discount_utility(np.zeros(num_points), num_buses, gridsize, num_periods, utilities, beta)\n",
    "# Create a numpy array of the periods for plotting\n",
    "periods = np.arange(0, num_periods, gridsize)"
   ]
  },
  {
   "cell_type": "code",
   "execution_count": 29,
   "metadata": {
    "scrolled": true
   },
   "outputs": [
    {
     "data": {
      "text/plain": [
       "[]"
      ]
     },
     "execution_count": 29,
     "metadata": {},
     "output_type": "execute_result"
    },
    {
     "data": {
      "image/png": "[encoded data removed]",
      "text/plain": [
       "<Figure size 1008x432 with 1 Axes>"
      ]
     },
     "metadata": {
      "needs_background": "light"
     },
     "output_type": "display_data"
    }
   ],
   "source": [
    "fig = plt.figure(figsize=(14, 6))\n",
    "ax = fig.add_subplot(111)\n",
    "ax.set_ylim([0, 1.3 * v_disc[-1]])\n",
    "ax.set_ylabel(r\"Value at time 0\")\n",
    "ax.set_xlabel(r\"Periods\")\n",
    "ax.plot(periods, v_disc, color='blue', label='Discounted utility')\n",
    "ax.plot(periods, v_exp, color='red', label='Expected value at time 0')\n",
    "\n",
    "ax.legend(loc='upper center', bbox_to_anchor=(0.5, -0.05), shadow=True, ncol=2)\n",
    "\n",
    "plt.tight_layout()\n",
    "\n",
    "plt.plot()\n"
   ]
  },
  {
   "cell_type": "markdown",
   "metadata": {},
   "source": [
    "# Uncertainty\n",
    "\n",
    "Now we want to introduce uncertain transition probabilites. Let <br/> <br/>\n",
    "\n",
    "$\\tilde{p}$ be the true underlying transition probability <br/>\n",
    "$\\hat{p_s}$ the transition probability for state s estimated from data <br/>\n",
    "$\\rho$ the size if the uncertainty set <br/>\n",
    "$\\omega$ the confidence level. <br/>\n",
    "S S the number of states to which a transition is posible <br/>\n",
    "$N_s$ the number of observations for state s <br/>\n",
    "F the cdf of a chi-squared distribution<br/>\n",
    "\n",
    "Then the following holds: \n",
    "\n",
    "$$ \\omega = P\\{ \\tilde{p} \\in \\{ p : D(p||\\hat{p_s}) \\leq \\rho \\} \\approx P\\{ \\chi^2_{|S| - 1} \\leq 2N_s\\rho \\} = F_{|S| - 1}(2N_s\\rho )$$\n",
    "So \n",
    "$$\\rho = F_{|S| - 1}^{-1}(\\omega)/2N_s$$\n",
    "\n",
    "\n",
    "As Rust doesn't estimate the transition probabilities for each state, that's the first modification I will need to do. The second is, that Rust took a weird convention or I didn't fully understand the his model yet: <br/>\n",
    "Whenever a engine is replaced, he counts transition afterwards as an increase by one. In the following code cell, I estimate the model with the (for me intiutive) rule: <br/>\n",
    "If an engine is replaced, I look at the following state, if that is 0,1 or 2. Also I implemented a counting function for the observations in each state.\n",
    "\n"
   ]
  },
  {
   "cell_type": "code",
   "execution_count": 30,
   "metadata": {},
   "outputs": [
    {
     "name": "stdout",
     "output_type": "stream",
     "text": [
      "     fun: 3153.831162720235\n",
      "     jac: array([-4291.99981689, -4292.00033569, -4291.98428345])\n",
      " message: 'Optimization terminated successfully.'\n",
      "    nfev: 60\n",
      "     nit: 11\n",
      "    njev: 11\n",
      "  status: 0\n",
      " success: True\n",
      "       x: array([0.39958063, 0.58760479, 0.01281458])       fun: 163.5826099336495\n",
      " hess_inv: <2x2 LbfgsInvHessProduct with dtype=float64>\n",
      "      jac: array([1.70530257e-05, 3.69482223e-05])\n",
      "  message: b'CONVERGENCE: REL_REDUCTION_OF_F_<=_FACTR*EPSMCH'\n",
      "     nfev: 36\n",
      "      nit: 10\n",
      "   status: 0\n",
      "  success: True\n",
      "        x: array([10.08896882,  2.28097345]) [171, 103, 115, 123, 119, 121, 103, 96, 98, 98, 95, 97, 92, 99, 84, 92, 91, 90, 82, 75, 68, 73, 72, 71, 64, 67, 62, 62, 55, 54, 56, 47, 49, 54, 54, 50, 50, 51, 50, 51, 57, 58, 47, 52, 47, 46, 45, 49, 47, 47, 44, 49, 40, 44, 35, 35, 36, 29, 34, 26, 26, 26, 22, 23, 22, 20, 13, 15, 17, 14, 6, 5, 3, 2, 2, 2, 2, 1]\n"
     ]
    }
   ],
   "source": [
    "trans_results, state_count, cost_results = estimate(init_dict['estimation'], repl_data, repl_4=False)\n",
    "print(trans_results, cost_results, state_count)"
   ]
  },
  {
   "cell_type": "code",
   "execution_count": 31,
   "metadata": {},
   "outputs": [
    {
     "data": {
      "text/plain": [
       "0.017518902184526255"
      ]
     },
     "execution_count": 31,
     "metadata": {},
     "output_type": "execute_result"
    }
   ],
   "source": [
    "# The size of the uncertainty set, such that the true transition probability lies with 95% in it\n",
    "roh = chi2.ppf(0.95, len(trans_results['x']) - 1) / (2 * state_count[0])\n",
    "roh"
   ]
  },
  {
   "cell_type": "code",
   "execution_count": 32,
   "metadata": {},
   "outputs": [
    {
     "data": {
      "text/plain": [
       "{'estimation': {'groups': 'group_4',\n",
       "  'beta': 0.9999,\n",
       "  'maint_func': 'linear',\n",
       "  'binsize': 5000,\n",
       "  'states': 90,\n",
       "  'max_it': 1000},\n",
       " 'simulation': {'beta': 0.9999,\n",
       "  'periods': 80000,\n",
       "  'seed': 123,\n",
       "  'maint_func': 'linear',\n",
       "  'buses': 50,\n",
       "  'known probs': array([0.39958063, 0.58760479, 0.01281458]),\n",
       "  'params': array([10.08896882,  2.28097345]),\n",
       "  'roh': 0.017518902184526255,\n",
       "  'states': 90,\n",
       "  'real probs': array([0.31258477, 0.66634951, 0.02106572])}}"
      ]
     },
     "execution_count": 32,
     "metadata": {},
     "output_type": "execute_result"
    }
   ],
   "source": [
    "# We seen above, that with the new estimation method, the paramters deviate not substantial from the \"real\" ones.\n",
    "# I initialize the new values and roh now in the init_dict\n",
    "init_dict['simulation']['known probs'] = trans_results['x']\n",
    "init_dict['simulation']['params'] = cost_results['x']\n",
    "init_dict['simulation']['roh'] = roh\n",
    "# The worst case probabilites are calculated for a space size of 90. The size doesn't really makes a difference\n",
    "# as my objective value is EV(0) anyway.\n",
    "init_dict['simulation']['states'] = 90\n",
    "worst_trans = get_worst_trans(init_dict['simulation'])\n",
    "init_dict['simulation']['real probs'] = worst_trans\n",
    "init_dict"
   ]
  },
  {
   "cell_type": "code",
   "execution_count": 33,
   "metadata": {},
   "outputs": [],
   "source": [
    "# So with the worst case probabilites as the real ones, I calculate the new strategy\n",
    "df, unobs, utilities, num_states = simulate(init_dict['simulation'])\n",
    "# The cost vector for the new parameters\n",
    "costs = myopic_costs(num_states, lin_cost, init_dict['simulation']['params'])\n",
    "\n",
    "# For a better understanding, I use real_trans_probs instead of worst_case in the following\n",
    "real_trans_probs = np.array(init_dict['simulation']['real probs'])\n",
    "real_trans_mat = create_transition_matrix(num_states, real_trans_probs)\n",
    "known_trans_probs = np.array(init_dict['simulation']['known probs'])\n",
    "known_trans_mat = create_transition_matrix(num_states, known_trans_probs)\n",
    "\n",
    "# So the calculated expected value of the real transition probabilities. We saw above, that if the \n",
    "# agent knows these, his discounted utility converges to that.\n",
    "ev_real = calc_fixp(num_states, real_trans_mat, costs, beta)\n",
    "v_exp_real = np.full(num_points, calc_ev_0(ev_real, unobs, num_buses))\n",
    "\n",
    "# The expected value of transition probabilites the agent knows.\n",
    "ev_known = calc_fixp(num_states, known_trans_mat, costs, beta)\n",
    "v_exp_known = np.full(num_points, calc_ev_0(ev_known, unobs, num_buses))\n",
    "\n",
    "# The discounted utility of the decision strategy\n",
    "v_disc = discount_utility(np.zeros(num_points), num_buses, gridsize, num_periods, utilities, beta)\n"
   ]
  },
  {
   "cell_type": "code",
   "execution_count": 34,
   "metadata": {},
   "outputs": [
    {
     "data": {
      "text/plain": [
       "[]"
      ]
     },
     "execution_count": 34,
     "metadata": {},
     "output_type": "execute_result"
    },
    {
     "data": {
      "image/png": "[encoded data removed]",
      "text/plain": [
       "<Figure size 1008x432 with 1 Axes>"
      ]
     },
     "metadata": {
      "needs_background": "light"
     },
     "output_type": "display_data"
    }
   ],
   "source": [
    "fig = plt.figure(figsize=(14, 6))\n",
    "\n",
    "ax = fig.add_subplot(111)\n",
    "\n",
    "ax.set_ylim([0, 1.3 * v_disc[-1]])\n",
    "\n",
    "ax.set_ylabel(r\"Value at time 0    \")\n",
    "ax.set_xlabel(r\"Periods\")\n",
    "\n",
    "ax.plot(periods, v_disc, color='blue', label='Discounted utility')\n",
    "ax.plot(periods, v_exp_real, color='red', label='Expected value of the real transition probabilites at time 0')\n",
    "ax.plot(periods, v_exp_known, color='green',label='Expected value of the known transition probabilites at time 0')\n",
    "\n",
    "plt.tight_layout()\n",
    "\n",
    "plt.plot()"
   ]
  },
  {
   "cell_type": "markdown",
   "metadata": {},
   "source": [
    "So we see, there is not a big of a gain. Lets look at it more closely and discretisize the state space a lot finer. Therefore we have to update the init_dict and then do the same steps as above:"
   ]
  },
  {
   "cell_type": "code",
   "execution_count": 35,
   "metadata": {},
   "outputs": [
    {
     "data": {
      "text/plain": [
       "{'estimation': {'groups': 'group_4',\n",
       "  'beta': 0.9999,\n",
       "  'maint_func': 'linear',\n",
       "  'binsize': 5000,\n",
       "  'states': 90,\n",
       "  'max_it': 1000},\n",
       " 'simulation': {'beta': 0.9999,\n",
       "  'periods': 80000,\n",
       "  'seed': 123,\n",
       "  'maint_func': 'linear',\n",
       "  'buses': 50,\n",
       "  'known probs': array([0.39958063, 0.58760479, 0.01281458]),\n",
       "  'params': array([10.08896882,  2.28097345]),\n",
       "  'roh': 0.017518902184526255,\n",
       "  'states': 90,\n",
       "  'real probs': array([0.31258477, 0.66634951, 0.02106572])}}"
      ]
     },
     "execution_count": 35,
     "metadata": {},
     "output_type": "execute_result"
    }
   ],
   "source": [
    "init_dict"
   ]
  },
  {
   "cell_type": "code",
   "execution_count": 3,
   "metadata": {},
   "outputs": [
    {
     "name": "stdout",
     "output_type": "stream",
     "text": [
      "     fun: 7581.755519011549\n",
      "     jac: array([-4291.98876953, -4292.00909424, -4292.01550293, -4291.99017334,\n",
      "       -4292.00201416, -4291.99639893, -4292.00158691, -4291.63916016,\n",
      "       -4290.96063232, -4292.23297119, -4291.89801025, -4290.65582275,\n",
      "       -4290.68988037])\n",
      " message: 'Optimization terminated successfully.'\n",
      "    nfev: 1336\n",
      "     nit: 75\n",
      "    njev: 75\n",
      "  status: 0\n",
      " success: True\n",
      "       x: array([2.86580358e-02, 8.10809022e-02, 2.79122939e-01, 2.46039699e-01,\n",
      "       1.81733365e-01, 1.30242414e-01, 4.65982979e-02, 3.72817179e-03,\n",
      "       4.66088648e-04, 6.98929448e-04, 9.31981148e-04, 4.66121756e-04,\n",
      "       2.33055301e-04])       fun: 163.71080283705228\n",
      " hess_inv: <2x2 LbfgsInvHessProduct with dtype=float64>\n",
      "      jac: array([ 0.        , -0.00012221])\n",
      "  message: b'CONVERGENCE: REL_REDUCTION_OF_F_<=_FACTR*EPSMCH'\n",
      "     nfev: 48\n",
      "      nit: 11\n",
      "   status: 0\n",
      "  success: True\n",
      "        x: array([10.13297317,  0.45596175]) [73, 38, 27, 11, 22, 18, 15, 28, 25, 17, 23, 26, 23, 25, 18, 26, 26, 19, 30, 22, 25, 17, 26, 25, 26, 21, 22, 31, 15, 32, 20, 16, 21, 20, 26, 15, 20, 26, 21, 14, 18, 19, 19, 23, 19, 17, 19, 30, 15, 17, 16, 18, 24, 23, 14, 21, 16, 17, 20, 23, 18, 14, 25, 17, 18, 21, 18, 17, 19, 24, 12, 22, 19, 12, 19, 20, 23, 13, 19, 17, 18, 21, 19, 14, 19, 19, 17, 16, 23, 15, 17, 13, 18, 16, 18, 16, 15, 10, 22, 12, 15, 9, 20, 12, 12, 19, 12, 18, 10, 14, 13, 22, 12, 13, 12, 16, 12, 18, 7, 18, 14, 13, 13, 10, 14, 19, 11, 11, 13, 13, 15, 8, 12, 11, 16, 12, 10, 16, 8, 16, 9, 6, 14, 13, 13, 4, 15, 10, 18, 7, 11, 10, 12, 11, 12, 8, 12, 8, 10, 9, 14, 10, 8, 9, 8, 13, 9, 11, 8, 13, 13, 7, 9, 16, 9, 10, 9, 14, 8, 9, 10, 10, 9, 5, 16, 15, 8, 7, 10, 11, 8, 11, 9, 9, 13, 11, 6, 11, 13, 10, 13, 11, 11, 10, 12, 11, 10, 14, 12, 11, 9, 10, 11, 7, 10, 9, 13, 10, 11, 9, 11, 9, 9, 11, 7, 10, 8, 12, 5, 11, 7, 12, 9, 9, 8, 14, 8, 6, 13, 8, 12, 7, 10, 8, 10, 7, 12, 11, 6, 11, 7, 10, 10, 5, 12, 15, 8, 9, 9, 8, 7, 12, 7, 9, 5, 11, 8, 7, 11, 7, 5, 11, 3, 12, 4, 7, 7, 7, 6, 8, 8, 8, 5, 8, 7, 3, 8, 5, 7, 6, 7, 7, 8, 5, 7, 3, 9, 6, 6, 2, 8, 4, 4, 7, 3, 5, 6, 4, 6, 5, 5, 3, 4, 5, 5, 4, 5, 4, 7, 3, 5, 4, 5, 3, 5, 4, 5, 5, 3, 3, 3, 2, 1, 4, 3, 3, 2, 5, 0, 5, 1, 5, 4, 4, 3, 2, 4, 3, 4, 1, 2, 2, 1, 1, 0, 1, 2, 0, 1, 1, 1, 1, 0, 0, 1, 0, 0, 1, 0, 1, 0, 0, 1, 0, 1, 0, 0, 1, 1, 0, 1, 0, 1, 0, 0, 1, 0, 0]\n"
     ]
    }
   ],
   "source": [
    "init_dict['estimation']['binsize'] = 1000\n",
    "init_dict['estimation']['states'] = init_dict['simulation']['states'] = 450\n",
    "init_dict['estimation']['max_it'] = 1000\n",
    "repl_data = data_processing(init_dict['estimation'])\n",
    "trans_results, state_count, cost_results = estimate(init_dict['estimation'], repl_data, repl_4=False)\n",
    "print(trans_results, cost_results, state_count)"
   ]
  },
  {
   "cell_type": "code",
   "execution_count": 4,
   "metadata": {},
   "outputs": [
    {
     "data": {
      "text/plain": [
       "0.179568269215999"
      ]
     },
     "execution_count": 4,
     "metadata": {},
     "output_type": "execute_result"
    }
   ],
   "source": [
    "# The size of the uncertainty set, such that the true transition probability lies with 95% in it\n",
    "roh = chi2.ppf(0.99, len(trans_results['x']) - 1) / (2 * state_count[0])\n",
    "roh"
   ]
  },
  {
   "cell_type": "code",
   "execution_count": 5,
   "metadata": {},
   "outputs": [
    {
     "data": {
      "text/plain": [
       "{'estimation': {'groups': 'group_4',\n",
       "  'beta': 0.9999,\n",
       "  'maint_func': 'linear',\n",
       "  'binsize': 1000,\n",
       "  'states': 450,\n",
       "  'max_it': 1000},\n",
       " 'simulation': {'beta': 0.9999,\n",
       "  'periods': 80000,\n",
       "  'seed': 123,\n",
       "  'maint_func': 'linear',\n",
       "  'buses': 50,\n",
       "  'states': 450,\n",
       "  'known probs': array([2.86580358e-02, 8.10809022e-02, 2.79122939e-01, 2.46039699e-01,\n",
       "         1.81733365e-01, 1.30242414e-01, 4.65982979e-02, 3.72817179e-03,\n",
       "         4.66088648e-04, 6.98929448e-04, 9.31981148e-04, 4.66121756e-04,\n",
       "         2.33055301e-04]),\n",
       "  'params': array([10.13297317,  0.45596175]),\n",
       "  'roh': 0.179568269215999,\n",
       "  'real probs': array([0.00800196, 0.03247072, 0.16046191, 0.20431424, 0.21560599,\n",
       "         0.2224589 , 0.11433146, 0.01315291, 0.00234766, 0.00509534,\n",
       "         0.00973549, 0.00699588, 0.00502753])}}"
      ]
     },
     "execution_count": 5,
     "metadata": {},
     "output_type": "execute_result"
    }
   ],
   "source": [
    "# We seen above, that with the new estimation method, the paramters deviate not substantial from the \"real\" ones.\n",
    "# I initialize the new values and roh now in the init_dict\n",
    "init_dict['simulation']['known probs'] = trans_results['x']\n",
    "init_dict['simulation']['params'] = cost_results['x']\n",
    "init_dict['simulation']['roh'] = roh\n",
    "# The worst case probabilites are calculated for a space size of 90. The size doesn't really makes a difference\n",
    "# as my objective value is EV(0) anyway.\n",
    "worst_trans = get_worst_trans(init_dict['simulation'])\n",
    "init_dict['simulation']['real probs'] = worst_trans\n",
    "init_dict"
   ]
  },
  {
   "cell_type": "code",
   "execution_count": 6,
   "metadata": {},
   "outputs": [],
   "source": [
    "gridsize = 1000\n",
    "num_points = int(num_periods/gridsize)"
   ]
  },
  {
   "cell_type": "code",
   "execution_count": 7,
   "metadata": {},
   "outputs": [],
   "source": [
    "# So with the worst case probabilites as the real ones, I calculate the new strategy\n",
    "df, unobs, utilities, num_states = simulate(init_dict['simulation'])\n",
    "# The cost vector for the new parameters\n",
    "costs = myopic_costs(num_states, lin_cost, init_dict['simulation']['params'])"
   ]
  },
  {
   "cell_type": "code",
   "execution_count": 8,
   "metadata": {},
   "outputs": [],
   "source": [
    "# For a better understanding, I use real_trans_probs instead of worst_case in the following\n",
    "real_trans_probs = np.array(init_dict['simulation']['real probs'])\n",
    "real_trans_mat = create_transition_matrix(num_states, real_trans_probs)\n",
    "known_trans_probs = np.array(init_dict['simulation']['known probs'])\n",
    "known_trans_mat = create_transition_matrix(num_states, known_trans_probs)"
   ]
  },
  {
   "cell_type": "code",
   "execution_count": 10,
   "metadata": {},
   "outputs": [],
   "source": [
    "# So the calculated expected value of the real transition probabilities. We saw above, that if the \n",
    "# agent knows these, his discounted utility converges to that.\n",
    "ev_real = calc_fixp(num_states, real_trans_mat, costs, beta)\n",
    "v_exp_real = np.full(num_points, calc_ev_0(ev_real, unobs, num_buses))"
   ]
  },
  {
   "cell_type": "code",
   "execution_count": 9,
   "metadata": {},
   "outputs": [
    {
     "data": {
      "text/plain": [
       "1600"
      ]
     },
     "execution_count": 9,
     "metadata": {},
     "output_type": "execute_result"
    }
   ],
   "source": [
    "num_states"
   ]
  },
  {
   "cell_type": "code",
   "execution_count": null,
   "metadata": {},
   "outputs": [],
   "source": [
    "# The expected value of transition probabilites the agent knows.\n",
    "ev_known = calc_fixp(num_states, known_trans_mat, costs, beta)\n",
    "v_exp_known = np.full(num_points, calc_ev_0(ev_known, unobs, num_buses))"
   ]
  },
  {
   "cell_type": "code",
   "execution_count": null,
   "metadata": {},
   "outputs": [],
   "source": [
    "# The discounted utility of the decision strategy\n",
    "v_disc = discount_utility(np.zeros(num_points), num_buses, gridsize, num_periods, utilities, beta)"
   ]
  },
  {
   "cell_type": "code",
   "execution_count": null,
   "metadata": {},
   "outputs": [],
   "source": [
    "periods = np.arange(0, num_periods, gridsize)\n",
    "fig = plt.figure(figsize=(14, 6))\n",
    "\n",
    "ax = fig.add_subplot(111)\n",
    "\n",
    "ax.set_ylim([0, 1.3 * v_disc[-1]])\n",
    "\n",
    "ax.set_ylabel(r\"Value at time 0\")\n",
    "ax.set_xlabel(r\"Periods\")\n",
    "\n",
    "ax.plot(periods, v_disc, color='blue', label='Discounted utility')\n",
    "ax.plot(periods, v_exp_real, color='red', label='Expected value of the real transition probabilites at time 0')\n",
    "ax.plot(periods, v_exp_known, color='green',label='Expected value of the known transition probabilites at time 0')\n",
    "\n",
    "plt.tight_layout()\n",
    "\n",
    "plt.plot()"
   ]
  },
  {
   "cell_type": "code",
   "execution_count": null,
   "metadata": {},
   "outputs": [],
   "source": []
  }
 ],
 "metadata": {
  "kernelspec": {
   "display_name": "Python 3",
   "language": "python",
   "name": "python3"
  },
  "language_info": {
   "codemirror_mode": {
    "name": "ipython",
    "version": 3
   },
   "file_extension": ".py",
   "mimetype": "text/x-python",
   "name": "python",
   "nbconvert_exporter": "python",
   "pygments_lexer": "ipython3",
   "version": "3.6.8"
  }
 },
 "nbformat": 4,
 "nbformat_minor": 2
}
