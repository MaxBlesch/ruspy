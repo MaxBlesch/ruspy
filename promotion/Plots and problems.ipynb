{
 "cells": [
  {
   "cell_type": "code",
   "execution_count": 26,
   "metadata": {},
   "outputs": [
    {
     "name": "stdout",
     "output_type": "stream",
     "text": [
      "The autoreload extension is already loaded. To reload it, use:\n",
      "  %reload_ext autoreload\n",
      "The snakeviz extension is already loaded. To reload it, use:\n",
      "  %reload_ext snakeviz\n"
     ]
    }
   ],
   "source": [
    "%load_ext autoreload\n",
    "\n",
    "%autoreload 2\n",
    "\n",
    "import yaml\n",
    "import numpy as np\n",
    "import copy\n",
    "import matplotlib.pyplot as plt\n",
    "from scipy.stats import chi2\n",
    "import multiprocessing as mp\n",
    "\n",
    "from ruspy.data.data_reading import data_reading\n",
    "from ruspy.data.data_processing import data_processing\n",
    "\n",
    "from ruspy.estimation.estimation import estimate\n",
    "from ruspy.estimation.estimation_cost_parameters import calc_fixp\n",
    "from ruspy.estimation.estimation_cost_parameters import lin_cost\n",
    "from ruspy.estimation.estimation_cost_parameters import myopic_costs\n",
    "from ruspy.estimation.estimation_cost_parameters import create_transition_matrix\n",
    "\n",
    "from ruspy.simulation.simulation import simulate\n",
    "from ruspy.simulation.robust_sim import get_worst_trans\n",
    "\n",
    "from ruspy.plotting.value_zero import discount_utility\n",
    "from ruspy.plotting.value_zero import calc_ev_0\n",
    "\n",
    "%load_ext snakeviz"
   ]
  },
  {
   "cell_type": "code",
   "execution_count": 27,
   "metadata": {},
   "outputs": [],
   "source": [
    "# Prepare the raw data.\n",
    "data_reading()"
   ]
  },
  {
   "cell_type": "markdown",
   "metadata": {},
   "source": [
    "# Theoretic Framework\n",
    "\n",
    "In every month (from now on called period) the agent, Harold Zurcher, has the choice to either replace ($i_t = 1$) or to maintain ($i_t = 0$) a bus. The agent chooses his action with the aim to maximize the current value of the bus (Bellman equation):\n",
    "\n",
    "  \\begin{equation}\n",
    "    V_{\\theta}(x_t, \\epsilon_t) = \\max_{i_t \\in \\{0, 1\\}} [ u(x_t, i_t, \\theta) + \\epsilon_t (i_t) + \\beta EV_{ \\theta }( x_t, \\epsilon_t, i_t) ]\n",
    "  \\end{equation}\n",
    "with\n",
    "  \\begin{equation}\n",
    "  u(x_t,i_t, \\theta)=\n",
    "  \\begin{cases}\n",
    "  -c(x_t, \\theta_1) \\qquad \\qquad \\textbf{if} \\quad i_t=0 \\\\\n",
    "  -[RC + c(0, \\theta_1)]\\qquad \\textbf{if} \\quad  i_t=1\n",
    "  \\end{cases}\n",
    "  \\end{equation}\n",
    "\n",
    "  and Rust shows that $EV_{\\theta}(x_t)$ is the fixed point of the following contraction mapping:\n",
    "<br/>\n",
    "<br/>\n",
    "\\begin{equation}\n",
    "  EV_{\\theta}(x_t) = \\sum_{j \\in \\{1, 2, 3\\}} p_j * \\ln\\{ \\sum_{i_t \\in \\{0, 1\\}} \\exp[u(x_t, i_t, \\theta_1, RC) + \\beta EV_{\\theta}(i_t * (x_t + j))]\\}\n",
    "\\end{equation}\n",
    "\n",
    "where\n",
    "$x_t$ : Mileage on the odometer of the bus in period $t$<br/>\n",
    "$\\varepsilon_t$ : Unobserved information for each decision in period $t$<br/>\n",
    "$\\mathbf{EV}_{\\theta}$ : Future expected value of each decision<br/>\n",
    "\n",
    "and $\\theta = \\left(\\theta_1, \\theta_2, \\theta_3, \\mathbf{RC}, \\beta \\right)$ is the vector of the unknown variables to be estimated.<br/>\n",
    "\n",
    "$\\theta_1$ : Cost parameter<br/>\n",
    "$\\theta_2$ & $\\theta_3$ : Factors that determines the transition probabilities<br/>\n",
    "$\\mathbf{RC}$: Replacement costs of a bus engine<br/>\n",
    "$\\beta$ : Discount factor<br/>\n"
   ]
  },
  {
   "cell_type": "code",
   "execution_count": 28,
   "metadata": {},
   "outputs": [],
   "source": [
    "# Beta is set almost to one, as the agents objective is to maximize average cost.\n",
    "beta = 0.9999\n",
    "# 200 buses should be enough to gurantee convergence.\n",
    "num_buses = 200\n",
    "# Set the number of simulated periods to 80000. The first plot shows the convergence at this point.\n",
    "num_periods = 80000\n",
    "\n",
    "# Paramters for plotting\n",
    "gridsize = 1000\n",
    "num_points = int(num_periods/gridsize)\n",
    "\n",
    "#Initilize a dictionary with values needed on the way.\n",
    "init_dict = {\n",
    "    'estimation':{\n",
    "        'groups': 'group_4',\n",
    "        'beta': beta,\n",
    "        'maint_func': 'linear',\n",
    "        'binsize': 5000,\n",
    "        'states': 90,\n",
    "        'max_it': 1000\n",
    "    },\n",
    "    'simulation':{\n",
    "        'beta': beta,\n",
    "        'periods': num_periods,\n",
    "        'seed': 123,\n",
    "        'maint_func': 'linear',\n",
    "        'buses': num_buses\n",
    "    }\n",
    "    \n",
    "}\n",
    "np.random.seed(init_dict['simulation']['seed'])"
   ]
  },
  {
   "cell_type": "code",
   "execution_count": 29,
   "metadata": {},
   "outputs": [
    {
     "name": "stdout",
     "output_type": "stream",
     "text": [
      "     fun: 3140.570557231583\n",
      "     jac: array([-4291.96844482, -4292.02462769, -4291.81420898])\n",
      " message: 'Optimization terminated successfully.'\n",
      "    nfev: 158\n",
      "     nit: 26\n",
      "    njev: 26\n",
      "  status: 0\n",
      " success: True\n",
      "       x: array([0.39189477, 0.59529015, 0.01281509])       fun: 163.58583868384702\n",
      " hess_inv: <2x2 LbfgsInvHessProduct with dtype=float64>\n",
      "      jac: array([-2.27373675e-05,  4.26325641e-05])\n",
      "  message: b'CONVERGENCE: REL_REDUCTION_OF_F_<=_FACTR*EPSMCH'\n",
      "     nfev: 36\n",
      "      nit: 10\n",
      "   status: 0\n",
      "  success: True\n",
      "        x: array([10.07776827,  2.29415225])\n"
     ]
    }
   ],
   "source": [
    "repl_data_org = data_processing(init_dict['estimation'])\n",
    "trans_results_org, cost_results_org = estimate(init_dict['estimation'], repl_data_org)\n",
    "print(trans_results_org, cost_results_org)"
   ]
  },
  {
   "cell_type": "code",
   "execution_count": 30,
   "metadata": {},
   "outputs": [],
   "source": [
    "# I initialize the the init_dict for the simulation with the estimated parameters.\n",
    "init_dict['simulation']['known probs'] = trans_results_org['x']\n",
    "init_dict['simulation']['params'] = cost_results_org['x']"
   ]
  },
  {
   "cell_type": "code",
   "execution_count": 34,
   "metadata": {},
   "outputs": [],
   "source": [
    "# Simulate a dataset with these values.\n",
    "df_fig_1, unobs_fig_1, utilities_fig_1, num_states = simulate(init_dict['simulation'])\n",
    "\n",
    "# The theoretic value at time zero is computed.\n",
    "costs_org = myopic_costs(num_states, lin_cost, init_dict['simulation']['params'])\n",
    "trans_probs_org = np.array(init_dict['simulation']['known probs'])\n",
    "trans_mat_org = create_transition_matrix(num_states, trans_probs_org)\n",
    "ev_org = calc_fixp(num_states, trans_mat_org, costs_org, beta)\n",
    "\n",
    "# Calculate the expected value at time zero\n",
    "v_exp_fig_1 = np.full(num_points, calc_ev_0(ev_org, unobs_fig_1, num_buses))\n",
    "# Calculate the value at time 0 by discounting the utility\n",
    "v_disc_fig_1 = discount_utility(np.zeros(num_points), num_buses, gridsize, num_periods, utilities_fig_1, beta)\n",
    "# Create a numpy array of the periods for plotting\n",
    "periods = np.arange(0, num_periods, gridsize)"
   ]
  },
  {
   "cell_type": "code",
   "execution_count": 35,
   "metadata": {
    "scrolled": true
   },
   "outputs": [
    {
     "data": {
      "text/plain": [
       "[]"
      ]
     },
     "execution_count": 35,
     "metadata": {},
     "output_type": "execute_result"
    },
    {
     "data": {
      "image/png": "[encoded data removed]",
      "text/plain": [
       "<Figure size 1008x432 with 1 Axes>"
      ]
     },
     "metadata": {
      "needs_background": "light"
     },
     "output_type": "display_data"
    }
   ],
   "source": [
    "fig = plt.figure(figsize=(14, 6))\n",
    "ax = fig.add_subplot(111)\n",
    "ax.set_ylim([0, 1.3 * v_disc_fig_1[-1]])\n",
    "ax.set_ylabel(r\"Value at time 0\")\n",
    "ax.set_xlabel(r\"Periods\")\n",
    "ax.plot(periods, v_disc_fig_1, color='blue', label='Discounted utility')\n",
    "ax.plot(periods, v_exp_fig_1, color='red', label='Expected value at time 0')\n",
    "\n",
    "\n",
    "\n",
    "plt.legend()\n",
    "ax.legend(fontsize=12)\n",
    "plt.tight_layout()\n",
    "\n",
    "plt.plot()\n"
   ]
  },
  {
   "cell_type": "markdown",
   "metadata": {},
   "source": [
    "# Uncertainty\n",
    "\n",
    "Now we want to introduce uncertain transition probabilites. For convinience I will not use $\\theta_2$ and $\\theta_3$ to describe the transition probabilites anymore and instead use the probability meas p directly. Let <br/> <br/>\n",
    "\n",
    "$\\tilde{p_s}$ be the true underlying transition probability. <br/>\n",
    "$\\hat{p_s}$ the maximum liklehood estimate for the transition probabilities. <br/>\n",
    "$\\rho$ the size if the uncertainty set <br/>\n",
    "$\\omega$ the confidence level. <br/>\n",
    "S the number of states to which a transition is possible. <br/>\n",
    "$N_s$ the number of observations for state s. <br/>\n",
    "F the cdf of a chi-squared distribution.<br/>\n",
    "\n",
    "We model uncertainty as a game between the agent and nature. For now we look at a fixed uncertainty set, but notationwise I distinguish between different sets for each state. The true underlying transition probability lies with $\\omega$ in the uncertainty set $P_s$:\n",
    "\n",
    "$$ \\omega = P\\{ \\tilde{p_s} \\in P_s \\} = P\\{ \\tilde{p} \\in \\{ p : D(p||\\hat{p_s}) \\leq \\rho \\} \\approx P\\{ \\chi^2_{|S| - 1} \\leq 2N_s\\rho \\} = F_{|S| - 1}(2N_s\\rho )$$\n",
    "So \n",
    "$$\\rho = F_{|S| - 1}^{-1}(\\omega)/2N_s$$\n",
    "\n",
    "So if x_t is s:\n",
    "\n",
    "  \\begin{equation}\n",
    "    V_{\\theta}(x_t, \\epsilon_t) = \\min_{p \\in P_{x_t=s}} \\max_{i_t \\in \\{0, 1\\}} [ u(x_t, i_t, \\theta) + \\epsilon_t (i_t) + \\beta EV_{ \\theta, p }( x_t, \\epsilon_t, i_t) ]\n",
    "  \\end{equation}\n",
    "\n",
    "So for the following exploration I will choose an uncertainty set and therefore worst case probabilites in state 0 and let those be fixed. In the end I will look at decision strategies, where the agent anticipates a misestimation and therefore chooses a size of his own uncertainty set and then acts as the worst case transition probability of these sets were the true ones.\n",
    "\n",
    "As Rust doesn't estimate the transition probabilities for each state, that's the first modification I will need to do. The second is, that Rust took a weird convention or I didn't fully understand the his model yet: <br/>\n",
    "Whenever a engine is replaced, he counts transition afterwards as an increase by one. In the following code cell, I estimate the model with the (for me intiutive) rule: <br/>\n",
    "If an engine is replaced, I look at the following state, if that is 0,1 or 2. Also I implemented a counting function for the observations in each state.\n",
    "\n"
   ]
  },
  {
   "cell_type": "code",
   "execution_count": 36,
   "metadata": {},
   "outputs": [
    {
     "name": "stdout",
     "output_type": "stream",
     "text": [
      "[0.39958063 0.58760479 0.01281458] [10.08896882  2.28097345]\n",
      "[0.39189477 0.59529015 0.01281509] [10.07776827  2.29415225]\n"
     ]
    }
   ],
   "source": [
    "trans_results_5000, state_count_5000, cost_results_5000 = estimate(init_dict['estimation'], repl_data_org, repl_4=False)\n",
    "print(trans_results_5000['x'], cost_results_5000['x'])\n",
    "print(trans_results_org['x'], cost_results_org['x'])"
   ]
  },
  {
   "cell_type": "code",
   "execution_count": 37,
   "metadata": {},
   "outputs": [
    {
     "data": {
      "text/plain": [
       "array([0.        , 0.        , 0.        , 0.        , 0.        ,\n",
       "       0.        , 0.        , 0.        , 0.        , 0.        ,\n",
       "       0.        , 0.        , 0.34782609, 0.64130435, 0.01086957,\n",
       "       0.        , 0.        , 0.        , 0.        , 0.        ,\n",
       "       0.        , 0.        , 0.        , 0.        , 0.        ,\n",
       "       0.        , 0.        , 0.        , 0.        , 0.        ,\n",
       "       0.        , 0.        , 0.        , 0.        , 0.        ,\n",
       "       0.        , 0.        , 0.        , 0.        , 0.        ,\n",
       "       0.        , 0.        , 0.        , 0.        , 0.        ,\n",
       "       0.        , 0.        , 0.        , 0.        , 0.        ,\n",
       "       0.        , 0.        , 0.        , 0.        , 0.        ,\n",
       "       0.        , 0.        , 0.        , 0.        , 0.        ,\n",
       "       0.        , 0.        , 0.        , 0.        , 0.        ,\n",
       "       0.        , 0.        , 0.        , 0.        , 0.        ,\n",
       "       0.        , 0.        , 0.        , 0.        , 0.        ,\n",
       "       0.        , 0.        , 0.        ])"
      ]
     },
     "execution_count": 37,
     "metadata": {},
     "output_type": "execute_result"
    }
   ],
   "source": [
    "trans_mat = state_count_5000 / state_count_5000.sum(axis=1)[:, np.newaxis]\n",
    "trans_mat[12]"
   ]
  },
  {
   "cell_type": "code",
   "execution_count": 38,
   "metadata": {},
   "outputs": [
    {
     "data": {
      "text/plain": [
       "0.017518902184526255"
      ]
     },
     "execution_count": 38,
     "metadata": {},
     "output_type": "execute_result"
    }
   ],
   "source": [
    "# As Rust pools all observations, there is not a big space for uncertainty. Therefore the size of the uncertainty set for state 0\n",
    "# and a confidence of 95% calculated by the the expression above is very small:\n",
    "roh = chi2.ppf(0.95, len(trans_results_5000['x']) - 1) / (2 * sum(state_count_5000[0]))\n",
    "roh"
   ]
  },
  {
   "cell_type": "code",
   "execution_count": 39,
   "metadata": {},
   "outputs": [
    {
     "data": {
      "text/plain": [
       "2.5"
      ]
     },
     "execution_count": 39,
     "metadata": {},
     "output_type": "execute_result"
    }
   ],
   "source": [
    "# Therefore we set the size of the uncertainty set for now to 2.5:\n",
    "roh = 2.5 \n",
    "roh"
   ]
  },
  {
   "cell_type": "code",
   "execution_count": 40,
   "metadata": {},
   "outputs": [],
   "source": [
    "# We seen above, that with the new estimation method, the paramters deviate not substantial from the \"real\" ones.\n",
    "# I initialize the new values and roh now in the init_dict\n",
    "init_dict['simulation']['known probs'] = trans_results_5000['x']\n",
    "init_dict['simulation']['params'] = cost_results_5000['x']\n",
    "# The worst case probabilites are calculated for a space size of 90 states.\n",
    "num_states = 90\n",
    "worst_trans_5000 = get_worst_trans(init_dict['simulation'], roh, num_states, max_it=1000)\n",
    "init_dict['simulation']['real probs'] = worst_trans_5000"
   ]
  },
  {
   "cell_type": "code",
   "execution_count": 41,
   "metadata": {},
   "outputs": [
    {
     "data": {
      "text/plain": [
       "134"
      ]
     },
     "execution_count": 41,
     "metadata": {},
     "output_type": "execute_result"
    }
   ],
   "source": [
    "df_fig_1.state.max()"
   ]
  },
  {
   "cell_type": "code",
   "execution_count": 42,
   "metadata": {},
   "outputs": [],
   "source": [
    "# This state space is enough and by setting it manually at lot of time is saved\n",
    "num_states = 250\n",
    "# The cost vector for the new parameters\n",
    "costs_5000 = myopic_costs(num_states, lin_cost, init_dict['simulation']['params'])\n",
    "\n",
    "# The known transition probabilites, allow as to evaluate ev_known. I programmed an option in the simualte function, \n",
    "# which saves a lot of time with the pre known ev_known.\n",
    "known_trans_probs_5000 = np.array(init_dict['simulation']['known probs'])\n",
    "known_trans_mat_5000 = create_transition_matrix(num_states, known_trans_probs_5000)\n",
    "ev_known_5000 = calc_fixp(num_states, known_trans_mat_5000, costs_5000, beta)\n",
    "init_dict['simulation']['ev_known'] = ev_known_5000\n",
    "\n",
    "# For consistensy I use the same state space for the real ones.\n",
    "real_trans_probs_5000 = np.array(init_dict['simulation']['real probs'])\n",
    "real_trans_mat_5000 = create_transition_matrix(num_states, real_trans_probs_5000)\n",
    "ev_real_5000 = calc_fixp(num_states, real_trans_mat_5000, costs_5000, beta)\n",
    "\n",
    "# So with the worst case probabilites as the real ones, I calculate the new strategy\n",
    "df_5000, unobs_5000, utilities_5000, num_states = simulate(init_dict['simulation'])"
   ]
  },
  {
   "cell_type": "code",
   "execution_count": 43,
   "metadata": {},
   "outputs": [],
   "source": [
    "# The arrays for plotting\n",
    "v_exp_real_5000 = np.full(num_points, calc_ev_0(ev_real_5000, unobs_5000, num_buses))\n",
    "v_exp_known_5000 = np.full(num_points, calc_ev_0(ev_known_5000, unobs_5000, num_buses))\n",
    "\n",
    "# The discounted utility of the decision strategy\n",
    "v_disc_5000 = discount_utility(np.zeros(num_points), num_buses, gridsize, num_periods, utilities_5000, beta)"
   ]
  },
  {
   "cell_type": "code",
   "execution_count": 44,
   "metadata": {},
   "outputs": [
    {
     "data": {
      "text/plain": [
       "[]"
      ]
     },
     "execution_count": 44,
     "metadata": {},
     "output_type": "execute_result"
    },
    {
     "data": {
      "image/png": "[encoded data removed]",
      "text/plain": [
       "<Figure size 1008x432 with 1 Axes>"
      ]
     },
     "metadata": {
      "needs_background": "light"
     },
     "output_type": "display_data"
    }
   ],
   "source": [
    "fig = plt.figure(figsize=(14, 6))\n",
    "\n",
    "ax = fig.add_subplot(111)\n",
    "\n",
    "ax.set_ylim([0, 1.3 * v_disc_5000[-1]])\n",
    "\n",
    "ax.set_ylabel(r\"Value at time 0 \")\n",
    "ax.set_xlabel(r\"Periods\")\n",
    "\n",
    "ax.plot(periods, v_disc_5000, color='blue', label='Discounted utility')\n",
    "ax.plot(periods, v_exp_real_5000, color='red', label='Expected value of the real transition probabilites at time 0')\n",
    "ax.plot(periods, v_exp_known_5000, color='green',label='Expected value of the known transition probabilites at time 0')\n",
    "\n",
    "plt.legend()\n",
    "ax.legend(fontsize=12)\n",
    "plt.tight_layout()\n",
    "\n",
    "plt.plot()"
   ]
  },
  {
   "cell_type": "code",
   "execution_count": 45,
   "metadata": {},
   "outputs": [
    {
     "name": "stdout",
     "output_type": "stream",
     "text": [
      "0.002 0.3996 0\n",
      "0.3169 0.5876 1\n",
      "0.6811 0.0128 2\n",
      "1.0375993559828798\n"
     ]
    }
   ],
   "source": [
    "for i in range(len(real_trans_probs_5000)):\n",
    "    print(np.round(real_trans_probs_5000[i], 4), np.round(known_trans_probs_5000[i], 4), i)\n",
    "print(v_disc_5000[-1] / v_exp_real_5000[0])"
   ]
  },
  {
   "cell_type": "markdown",
   "metadata": {},
   "source": [
    "If we look at the real transition probabilities compared to the ones known to the agent, there is a big shift towards the highest reachable state. The uncertainty set size of 2.5 is very large compared to the \"real\" one. The resulting loss due to information, so the gap between the blue and red line, is only 3,75 % though. The power of this method therefore needs a better setting. I will now discretisize the state space a lot finer and explore how the higher degree of freedom influences the performance gap."
   ]
  },
  {
   "cell_type": "markdown",
   "metadata": {},
   "source": [
    "### Finer state space and performance of different strategies"
   ]
  },
  {
   "cell_type": "code",
   "execution_count": 46,
   "metadata": {},
   "outputs": [
    {
     "name": "stdout",
     "output_type": "stream",
     "text": [
      "     fun: 7581.755519011549\n",
      "     jac: array([-4291.98876953, -4292.00909424, -4292.01550293, -4291.99017334,\n",
      "       -4292.00201416, -4291.99639893, -4292.00158691, -4291.63916016,\n",
      "       -4290.96063232, -4292.23297119, -4291.89801025, -4290.65582275,\n",
      "       -4290.68988037])\n",
      " message: 'Optimization terminated successfully.'\n",
      "    nfev: 1336\n",
      "     nit: 75\n",
      "    njev: 75\n",
      "  status: 0\n",
      " success: True\n",
      "       x: array([2.86580358e-02, 8.10809022e-02, 2.79122939e-01, 2.46039699e-01,\n",
      "       1.81733365e-01, 1.30242414e-01, 4.65982979e-02, 3.72817179e-03,\n",
      "       4.66088648e-04, 6.98929448e-04, 9.31981148e-04, 4.66121756e-04,\n",
      "       2.33055301e-04])       fun: 163.71080283705228\n",
      " hess_inv: <2x2 LbfgsInvHessProduct with dtype=float64>\n",
      "      jac: array([ 0.        , -0.00012221])\n",
      "  message: b'CONVERGENCE: REL_REDUCTION_OF_F_<=_FACTR*EPSMCH'\n",
      "     nfev: 48\n",
      "      nit: 11\n",
      "   status: 0\n",
      "  success: True\n",
      "        x: array([10.13297317,  0.45596175])\n"
     ]
    }
   ],
   "source": [
    "# So now choose 1000 miles as binsize and estimate the model.\n",
    "init_dict['estimation']['binsize'] = 1000\n",
    "init_dict['estimation']['states'] = 450\n",
    "init_dict['estimation']['max_it'] = 1000\n",
    "repl_data = data_processing(init_dict['estimation'])\n",
    "trans_results, state_count, cost_results = estimate(init_dict['estimation'], repl_data, repl_4=False)\n",
    "print(trans_results, cost_results)"
   ]
  },
  {
   "cell_type": "code",
   "execution_count": 47,
   "metadata": {},
   "outputs": [],
   "source": [
    "# Initialize the new init_dict\n",
    "init_dict['simulation']['known probs'] = trans_results['x']\n",
    "init_dict['simulation']['params'] = cost_results['x']"
   ]
  },
  {
   "cell_type": "code",
   "execution_count": 48,
   "metadata": {},
   "outputs": [],
   "source": [
    "# The cost vector for the new parameters\n",
    "num_states = 1000\n",
    "costs = myopic_costs(num_states, lin_cost, init_dict['simulation']['params'])\n",
    "known_trans_probs = np.array(init_dict['simulation']['known probs'])\n",
    "known_trans_mat = create_transition_matrix(num_states, known_trans_probs)\n",
    "ev_known = calc_fixp(num_states, known_trans_mat, costs, beta)\n",
    "# I programmed an option in the simulate function for a pre known EV. As NFXP is the computational bottleneck,\n",
    "# this makes the function a lot faster.\n",
    "init_dict['simulation']['ev_known'] = ev_known"
   ]
  },
  {
   "cell_type": "code",
   "execution_count": 49,
   "metadata": {},
   "outputs": [],
   "source": [
    "# The worst case probabilites are calculated for a space size of 250. This is due to computational reasons, as explained below.\n",
    "num_states = 250 # A larger state size would take a lot more time. But the EV(0) converges with a state space of ca. 800\n",
    "roh = 2.5\n",
    "worst_trans = get_worst_trans(init_dict['simulation'], roh, num_states, max_it=1000) # Same speed issue for iterrations\n",
    "init_dict['simulation']['real probs'] = worst_trans"
   ]
  },
  {
   "cell_type": "code",
   "execution_count": 50,
   "metadata": {},
   "outputs": [],
   "source": [
    "df, unobs, utilities, num_states = simulate(init_dict['simulation'])"
   ]
  },
  {
   "cell_type": "code",
   "execution_count": 51,
   "metadata": {},
   "outputs": [],
   "source": [
    "# For a better understanding, I use real_trans_probs instead of worst_case in the following\n",
    "real_trans_probs = np.array(init_dict['simulation']['real probs'])\n",
    "real_trans_mat = create_transition_matrix(num_states, real_trans_probs)"
   ]
  },
  {
   "cell_type": "code",
   "execution_count": 52,
   "metadata": {},
   "outputs": [],
   "source": [
    "# The value of the real expected utility\n",
    "ev_real = calc_fixp(num_states, real_trans_mat, costs, beta)"
   ]
  },
  {
   "cell_type": "code",
   "execution_count": 53,
   "metadata": {},
   "outputs": [
    {
     "data": {
      "text/plain": [
       "[]"
      ]
     },
     "execution_count": 53,
     "metadata": {},
     "output_type": "execute_result"
    },
    {
     "data": {
      "image/png": "[encoded data removed]",
      "text/plain": [
       "<Figure size 1008x432 with 1 Axes>"
      ]
     },
     "metadata": {
      "needs_background": "light"
     },
     "output_type": "display_data"
    }
   ],
   "source": [
    "# The discounted utility of the decision strategy\n",
    "v_disc = discount_utility(np.zeros(num_points), num_buses, gridsize, num_periods, utilities, beta)\n",
    "\n",
    "# The arrays for plotting\n",
    "v_exp_known = np.full(num_points, calc_ev_0(ev_known, unobs, num_buses))\n",
    "v_exp_real = np.full(num_points, calc_ev_0(ev_real, unobs, num_buses))\n",
    "periods = np.arange(0, num_periods, gridsize)\n",
    "\n",
    "\n",
    "fig = plt.figure(figsize=(14, 6))\n",
    "\n",
    "ax = fig.add_subplot(111)\n",
    "\n",
    "ax.set_ylim([0, 1.3 * v_disc[-1]])\n",
    "\n",
    "ax.set_ylabel(r\"Value at time 0\")\n",
    "ax.set_xlabel(r\"Periods\")\n",
    "\n",
    "ax.plot(periods, v_disc, color='blue', label='Discounted utility')\n",
    "ax.plot(periods, v_exp_real, color='red', label='Expected value of the real transition probabilites at time 0')\n",
    "ax.plot(periods, v_exp_known, color='green',label='Expected value of the known transition probabilites at time 0')\n",
    "\n",
    "plt.legend()\n",
    "ax.legend(fontsize=12)\n",
    "plt.tight_layout()\n",
    "\n",
    "\n",
    "plt.plot()"
   ]
  },
  {
   "cell_type": "code",
   "execution_count": 54,
   "metadata": {},
   "outputs": [
    {
     "name": "stdout",
     "output_type": "stream",
     "text": [
      "0.0004 0.0287 0\n",
      "0.003 0.0811 1\n",
      "0.0257 0.2791 2\n",
      "0.0568 0.246 3\n",
      "0.1043 0.1817 4\n",
      "0.1844 0.1302 5\n",
      "0.1616 0.0466 6\n",
      "0.0315 0.0037 7\n",
      "0.0096 0.0005 8\n",
      "0.0342 0.0007 9\n",
      "0.1086 0.0009 10\n",
      "0.1287 0.0005 11\n",
      "0.1513 0.0002 12\n",
      "1.0283191724191871\n"
     ]
    }
   ],
   "source": [
    "for i in range(len(real_trans_probs)):\n",
    "    print(np.round(real_trans_probs[i], 4), np.round(known_trans_probs[i], 4), i)\n",
    "print(v_disc[-1] / v_exp_real[0])"
   ]
  },
  {
   "cell_type": "code",
   "execution_count": 55,
   "metadata": {},
   "outputs": [
    {
     "data": {
      "text/plain": [
       "0.14401417683207582"
      ]
     },
     "execution_count": 55,
     "metadata": {},
     "output_type": "execute_result"
    }
   ],
   "source": [
    "roh = chi2.ppf(0.95, len(trans_results['x']) - 1) / (2 * sum(state_count[0]))\n",
    "roh"
   ]
  },
  {
   "cell_type": "markdown",
   "metadata": {},
   "source": [
    "## Performance with different uncertainty set sizes\n",
    "\n",
    "Here the \"real\" of the uncertainty set is about a factor 10 higher. The loss due to misinformation is only 2,83 % and therefore by a third smaller. I will now look at different uncertainty set sizes and evaluate how the agent performs with his misbelief about the transition probabilities."
   ]
  },
  {
   "cell_type": "code",
   "execution_count": 56,
   "metadata": {},
   "outputs": [
    {
     "data": {
      "text/plain": [
       "{'estimation': {'groups': 'group_4',\n",
       "  'beta': 0.9999,\n",
       "  'maint_func': 'linear',\n",
       "  'binsize': 1000,\n",
       "  'states': 450,\n",
       "  'max_it': 1000},\n",
       " 'simulation': {'beta': 0.9999,\n",
       "  'periods': 80000,\n",
       "  'seed': 123,\n",
       "  'maint_func': 'linear',\n",
       "  'buses': 200,\n",
       "  'known probs': array([2.86580358e-02, 8.10809022e-02, 2.79122939e-01, 2.46039699e-01,\n",
       "         1.81733365e-01, 1.30242414e-01, 4.65982979e-02, 3.72817179e-03,\n",
       "         4.66088648e-04, 6.98929448e-04, 9.31981148e-04, 4.66121756e-04,\n",
       "         2.33055301e-04]),\n",
       "  'params': array([10.13297317,  0.45596175])}}"
      ]
     },
     "execution_count": 56,
     "metadata": {},
     "output_type": "execute_result"
    }
   ],
   "source": [
    "if 'ev_known' in init_dict['simulation'].keys():\n",
    "    del init_dict['simulation']['ev_known']\n",
    "if 'real probs' in init_dict['simulation'].keys():\n",
    "    del init_dict['simulation']['real probs']\n",
    "init_dict"
   ]
  },
  {
   "cell_type": "code",
   "execution_count": 57,
   "metadata": {},
   "outputs": [
    {
     "data": {
      "text/plain": [
       "array([0. , 0.1, 0.2, 0.3, 0.4, 0.5, 0.6, 0.7, 0.8, 1. , 1.2, 1.4, 1.6,\n",
       "       1.8, 2. , 2.2, 2.4, 2.6, 2.8, 3. , 3.2, 3.4, 3.6, 3.8, 4. , 4.2,\n",
       "       4.4, 4.6, 4.8, 5. , 5.2, 5.4, 5.6, 5.8, 6. , 6.2, 6.4, 6.6, 6.8,\n",
       "       7. , 7.2, 7.4, 7.6, 7.8])"
      ]
     },
     "execution_count": 57,
     "metadata": {},
     "output_type": "execute_result"
    }
   ],
   "source": [
    "# For the plot I want to evaluate the following values of roh\n",
    "roh_plot = np.append(np.arange(0, 0.8, 0.1), np.arange(0.8, 8, 0.2))\n",
    "roh_plot"
   ]
  },
  {
   "cell_type": "code",
   "execution_count": 58,
   "metadata": {},
   "outputs": [],
   "source": [
    "def worst_trans(roh):\n",
    "    num_states = 200 # Again for speed issues\n",
    "    return get_worst_trans(init_dict['simulation'], roh, num_states, max_it=1000)"
   ]
  },
  {
   "cell_type": "code",
   "execution_count": 59,
   "metadata": {},
   "outputs": [],
   "source": [
    "# I first want a list of worst case transition probabilites for different uncertainty set sizes.\n",
    "# pool = mp.Pool(7)\n",
    "# all_worst_trans = pool.map(worst_trans, roh_plot)\n",
    "# np.savetxt('worst_trans.txt')\n",
    "all_worst_trans = np.loadtxt('worst_trans.txt')"
   ]
  },
  {
   "cell_type": "code",
   "execution_count": 60,
   "metadata": {},
   "outputs": [],
   "source": [
    "def evaluate_strategies(real):\n",
    "    init_dict_real = copy.deepcopy(init_dict['simulation'])\n",
    "    init_dict_real['real probs'] = real\n",
    "    df, unobs, utilities, num_states = simulate(init_dict_real)\n",
    "    v_disc = discount_utility([0., 0.], num_buses, num_periods, num_periods, utilities, beta)\n",
    "    return v_disc[-1]"
   ]
  },
  {
   "cell_type": "code",
   "execution_count": 61,
   "metadata": {},
   "outputs": [],
   "source": [
    "# In the first strategy the agent has the ml estimate as his known transition probability.\n",
    "# num_states = 1200\n",
    "# costs = myopic_costs(num_states, lin_cost, init_dict['simulation']['params'])\n",
    "# init_dict['simulation']['known probs'] = known_trans_probs\n",
    "# known_trans_mat = create_transition_matrix(num_states, init_dict['simulation']['known probs'])\n",
    "# ev_known = calc_fixp(num_states, known_trans_mat, costs, beta)\n",
    "# init_dict['simulation']['ev_known'] = ev_known\n",
    "# pool = mp.Pool(7)\n",
    "# ml_strategy = pool.map(evaluate_strategies, all_worst_trans)\n",
    "ml_strategy = np.loadtxt('ml_strategy.txt')"
   ]
  },
  {
   "cell_type": "code",
   "execution_count": 63,
   "metadata": {},
   "outputs": [],
   "source": [
    "# In the second strategy the agent has the worst case transition probability of a n uncertainty set size\n",
    "# of 1 as his known transition probability.\n",
    "# num_states = 1200\n",
    "# costs = myopic_costs(num_states, lin_cost, init_dict['simulation']['params'])\n",
    "# init_dict['simulation']['known probs'] = all_worst_trans[9]\n",
    "# known_trans_mat = create_transition_matrix(num_states, init_dict['simulation']['known probs'])\n",
    "# ev_known = calc_fixp(num_states, known_trans_mat, costs, beta)\n",
    "# init_dict['simulation']['ev_known'] = ev_known\n",
    "# pool = mp.Pool(7)\n",
    "# roh_1_strategy = pool.map(evaluate_strategies, all_worst_trans)\n",
    "roh_1_strategy = np.loadtxt('roh_1_strategy.txt')"
   ]
  },
  {
   "cell_type": "code",
   "execution_count": 58,
   "metadata": {},
   "outputs": [],
   "source": [
    "# In the third strategy the agent as the worst case transition probability of an uncertainty set size\n",
    "# of 3 as his known transition probability.\n",
    "# num_states = 1200\n",
    "# costs = myopic_costs(num_states, lin_cost, init_dict['simulation']['params'])\n",
    "# init_dict['simulation']['known probs'] = all_worst_trans[19]\n",
    "# known_trans_mat = create_transition_matrix(num_states, init_dict['simulation']['known probs'])\n",
    "# ev_known = calc_fixp(num_states, known_trans_mat, costs, beta)\n",
    "# init_dict['simulation']['ev_known'] = ev_known\n",
    "# pool = mp.Pool(6)\n",
    "# roh_3_strategy = pool.map(evaluate_strategies, all_worst_trans)\n",
    "roh_3_strategy = np.loadtxt.('roh_3_strategy.txt')"
   ]
  },
  {
   "cell_type": "code",
   "execution_count": 61,
   "metadata": {},
   "outputs": [],
   "source": [
    "def trans_to_fixp(real):\n",
    "    trans_mat = create_transition_matrix(num_states, real)\n",
    "    return calc_fixp(num_states, trans_mat, costs, beta)"
   ]
  },
  {
   "cell_type": "code",
   "execution_count": null,
   "metadata": {},
   "outputs": [],
   "source": [
    "# The optimal strategy is just the expected value at time 0 for all transition probabilities.\n",
    "num_states = 1200\n",
    "costs = myopic_costs(num_states, lin_cost, init_dict['simulation']['params'])\n",
    "pool = mp.Pool(6)\n",
    "opt_strategy = pool.map(trans_to_fixp, all_worst_trans)"
   ]
  },
  {
   "cell_type": "code",
   "execution_count": 67,
   "metadata": {},
   "outputs": [
    {
     "data": {
      "text/plain": [
       "[]"
      ]
     },
     "execution_count": 67,
     "metadata": {},
     "output_type": "execute_result"
    },
    {
     "data": {
      "image/png": "[encoded data removed]",
      "text/plain": [
       "<Figure size 1008x432 with 1 Axes>"
      ]
     },
     "metadata": {
      "needs_background": "light"
     },
     "output_type": "display_data"
    }
   ],
   "source": [
    "fig = plt.figure(figsize=(14, 6))\n",
    "\n",
    "ax = fig.add_subplot(111)\n",
    "\n",
    "ax.set_ylim([0.99 * ml_strategy[0], 1.2 * ml_strategy[-1]])\n",
    "\n",
    "ax.set_ylabel(r\"Value at time 0\", fontsize=12)\n",
    "ax.set_xlabel(r\"roh: Size of uncertainty set determining the real transition probabilities\", fontsize=12)\n",
    "\n",
    "ax.plot(roh_plot, ml_strategy, color='blue', label='Performance of ML strategy')\n",
    "ax.plot(roh_plot, roh_1_strategy, color='red', label='Uncertainty set size 1')\n",
    "ax.plot(roh_plot, roh_3_strategy, color='green', label='Uncertainty set size 3')\n",
    "\n",
    "plt.legend()\n",
    "ax.legend(fontsize=12)\n",
    "plt.tight_layout()\n",
    "\n",
    "\n",
    "plt.plot()"
   ]
  },
  {
   "cell_type": "markdown",
   "metadata": {},
   "source": [
    "My main problem, which remains to be solved is:\n",
    "\n",
    "If I want to make the power of this method visible, I have to look at finer discretezation and therefore at higher possible increase of states per period. A higher possible increase results in a larger state space, which drives up the conmputational time of the NFXP dramatically."
   ]
  }
 ],
 "metadata": {
  "kernelspec": {
   "display_name": "Python 3",
   "language": "python",
   "name": "python3"
  },
  "language_info": {
   "codemirror_mode": {
    "name": "ipython",
    "version": 3
   },
   "file_extension": ".py",
   "mimetype": "text/x-python",
   "name": "python",
   "nbconvert_exporter": "python",
   "pygments_lexer": "ipython3",
   "version": "3.6.8"
  }
 },
 "nbformat": 4,
 "nbformat_minor": 2
}
