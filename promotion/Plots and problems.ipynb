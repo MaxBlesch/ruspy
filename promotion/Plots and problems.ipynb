{
 "cells": [
  {
   "cell_type": "code",
   "execution_count": 1,
   "metadata": {},
   "outputs": [],
   "source": [
    "%load_ext autoreload\n",
    "\n",
    "%autoreload 2\n",
    "\n",
    "import yaml\n",
    "import numpy as np\n",
    "import matplotlib.pyplot as plt\n",
    "from scipy.stats import chi2\n",
    "\n",
    "from ruspy.data.data_reading import data_reading\n",
    "from ruspy.data.data_processing import data_processing\n",
    "\n",
    "from ruspy.estimation.estimation import estimate\n",
    "from ruspy.estimation.estimation_cost_parameters import calc_fixp\n",
    "from ruspy.estimation.estimation_cost_parameters import lin_cost\n",
    "from ruspy.estimation.estimation_cost_parameters import myopic_costs\n",
    "from ruspy.estimation.estimation_cost_parameters import create_transition_matrix\n",
    "\n",
    "from ruspy.simulation.simulation import simulate\n",
    "from ruspy.simulation.robust_sim import get_worst_trans\n",
    "\n",
    "from ruspy.plotting.value_zero import discount_utility\n",
    "from ruspy.plotting.value_zero import calc_ev_0\n",
    "\n",
    "%load_ext snakeviz"
   ]
  },
  {
   "cell_type": "code",
   "execution_count": 2,
   "metadata": {},
   "outputs": [],
   "source": [
    "# Prepare the raw data.\n",
    "data_reading()"
   ]
  },
  {
   "cell_type": "code",
   "execution_count": 2,
   "metadata": {},
   "outputs": [],
   "source": [
    "# Beta is set almost to one, as the agents objective is to maximize average cost.\n",
    "beta = 0.9999\n",
    "# 50 buses should be enough to gurantee convergence.\n",
    "num_buses = 200\n",
    "# Set the number of simulated periods to 80000. The first plot shows the convergence at this point.\n",
    "num_periods = 80000\n",
    "\n",
    "# Paramters for plotting\n",
    "gridsize = 1000\n",
    "num_points = int(num_periods/gridsize)\n",
    "\n",
    "#Initilize a dictionary with values needed on the way.\n",
    "init_dict = {\n",
    "    'estimation':{\n",
    "        'groups': 'group_4',\n",
    "        'beta': beta,\n",
    "        'maint_func': 'linear',\n",
    "        'binsize': 5000,\n",
    "        'states': 90,\n",
    "        'max_it': 1000\n",
    "    },\n",
    "    'simulation':{\n",
    "        'beta': beta,\n",
    "        'periods': num_periods,\n",
    "        'seed': 123,\n",
    "        'maint_func': 'linear',\n",
    "        'buses': num_buses\n",
    "    }\n",
    "    \n",
    "}\n",
    "np.random.seed(init_dict['simulation']['seed'])"
   ]
  },
  {
   "cell_type": "code",
   "execution_count": 3,
   "metadata": {},
   "outputs": [
    {
     "name": "stdout",
     "output_type": "stream",
     "text": [
      "     fun: 3140.570557231583\n",
      "     jac: array([-4291.96844482, -4292.02462769, -4291.81420898])\n",
      " message: 'Optimization terminated successfully.'\n",
      "    nfev: 158\n",
      "     nit: 26\n",
      "    njev: 26\n",
      "  status: 0\n",
      " success: True\n",
      "       x: array([0.39189477, 0.59529015, 0.01281509])       fun: 163.58583868384702\n",
      " hess_inv: <2x2 LbfgsInvHessProduct with dtype=float64>\n",
      "      jac: array([-2.27373675e-05,  4.26325641e-05])\n",
      "  message: b'CONVERGENCE: REL_REDUCTION_OF_F_<=_FACTR*EPSMCH'\n",
      "     nfev: 36\n",
      "      nit: 10\n",
      "   status: 0\n",
      "  success: True\n",
      "        x: array([10.07776827,  2.29415225])\n"
     ]
    }
   ],
   "source": [
    "repl_data = data_processing(init_dict['estimation'])\n",
    "trans_results, cost_results = estimate(init_dict['estimation'], repl_data)\n",
    "print(trans_results, cost_results)"
   ]
  },
  {
   "cell_type": "code",
   "execution_count": 4,
   "metadata": {},
   "outputs": [],
   "source": [
    "init_dict['simulation']['known probs'] = trans_results['x']\n",
    "init_dict['simulation']['params'] = cost_results['x']"
   ]
  },
  {
   "cell_type": "code",
   "execution_count": 4,
   "metadata": {},
   "outputs": [],
   "source": [
    "# The estimated probabilities are our starting point.\n",
    "init_dict['simulation']['known probs'] = trans_results['x']\n",
    "init_dict['simulation']['params'] = cost_results['x']\n",
    "# From previos runs, I knwo that the maximal achievable \n",
    "# Simulate a dataset with these values.\n",
    "df, unobs, utilities, num_states = simulate(init_dict['simulation'])\n",
    "\n",
    "# The theoretic value at time zero is computed.\n",
    "costs = myopic_costs(num_states, lin_cost, init_dict['simulation']['params'])\n",
    "trans_probs = np.array(init_dict['simulation']['known probs'])\n",
    "trans_mat = create_transition_matrix(num_states, trans_probs)\n",
    "ev = calc_fixp(num_states, trans_mat, costs, beta)\n",
    "\n",
    "# Calculate the expected value at time zero\n",
    "v_exp = np.full(num_points, calc_ev_0(ev, unobs, num_buses))\n",
    "# Calculate the value at time 0 by discounting the utility\n",
    "v_disc = discount_utility(np.zeros(num_points), num_buses, gridsize, num_periods, utilities, beta)\n",
    "# Create a numpy array of the periods for plotting\n",
    "periods = np.arange(0, num_periods, gridsize)"
   ]
  },
  {
   "cell_type": "code",
   "execution_count": 5,
   "metadata": {
    "scrolled": true
   },
   "outputs": [
    {
     "data": {
      "text/plain": [
       "[]"
      ]
     },
     "execution_count": 5,
     "metadata": {},
     "output_type": "execute_result"
    },
    {
     "data": {
      "image/png": "[encoded data removed]",
      "text/plain": [
       "<Figure size 1008x432 with 1 Axes>"
      ]
     },
     "metadata": {
      "needs_background": "light"
     },
     "output_type": "display_data"
    }
   ],
   "source": [
    "fig = plt.figure(figsize=(14, 6))\n",
    "ax = fig.add_subplot(111)\n",
    "ax.set_ylim([0, 1.3 * v_disc[-1]])\n",
    "ax.set_ylabel(r\"Value at time 0\")\n",
    "ax.set_xlabel(r\"Periods\")\n",
    "ax.plot(periods, v_disc, color='blue', label='Discounted utility')\n",
    "ax.plot(periods, v_exp, color='red', label='Expected value at time 0')\n",
    "\n",
    "ax.legend(loc='upper center', bbox_to_anchor=(0.5, -0.05), shadow=True, ncol=2)\n",
    "\n",
    "plt.tight_layout()\n",
    "\n",
    "plt.plot()\n"
   ]
  },
  {
   "cell_type": "markdown",
   "metadata": {},
   "source": [
    "# Uncertainty\n",
    "\n",
    "Now we want to introduce uncertain transition probabilites. Let <br/> <br/>\n",
    "\n",
    "$\\tilde{p}$ be the true underlying transition probability <br/>\n",
    "$\\hat{p_s}$ the transition probability for state s estimated from data <br/>\n",
    "$\\rho$ the size if the uncertainty set <br/>\n",
    "$\\omega$ the confidence level. <br/>\n",
    "S S the number of states to which a transition is posible <br/>\n",
    "$N_s$ the number of observations for state s <br/>\n",
    "F the cdf of a chi-squared distribution<br/>\n",
    "\n",
    "Then the following holds: \n",
    "\n",
    "$$ \\omega = P\\{ \\tilde{p} \\in \\{ p : D(p||\\hat{p_s}) \\leq \\rho \\} \\approx P\\{ \\chi^2_{|S| - 1} \\leq 2N_s\\rho \\} = F_{|S| - 1}(2N_s\\rho )$$\n",
    "So \n",
    "$$\\rho = F_{|S| - 1}^{-1}(\\omega)/2N_s$$\n",
    "\n",
    "\n",
    "As Rust doesn't estimate the transition probabilities for each state, that's the first modification I will need to do. The second is, that Rust took a weird convention or I didn't fully understand the his model yet: <br/>\n",
    "Whenever a engine is replaced, he counts transition afterwards as an increase by one. In the following code cell, I estimate the model with the (for me intiutive) rule: <br/>\n",
    "If an engine is replaced, I look at the following state, if that is 0,1 or 2. Also I implemented a counting function for the observations in each state.\n",
    "\n"
   ]
  },
  {
   "cell_type": "code",
   "execution_count": 3,
   "metadata": {},
   "outputs": [
    {
     "name": "stdout",
     "output_type": "stream",
     "text": [
      "     fun: 3153.831162720235\n",
      "     jac: array([-4291.99981689, -4292.00033569, -4291.98428345])\n",
      " message: 'Optimization terminated successfully.'\n",
      "    nfev: 60\n",
      "     nit: 11\n",
      "    njev: 11\n",
      "  status: 0\n",
      " success: True\n",
      "       x: array([0.39958063, 0.58760479, 0.01281458])       fun: 163.5826099336495\n",
      " hess_inv: <2x2 LbfgsInvHessProduct with dtype=float64>\n",
      "      jac: array([1.70530257e-05, 3.69482223e-05])\n",
      "  message: b'CONVERGENCE: REL_REDUCTION_OF_F_<=_FACTR*EPSMCH'\n",
      "     nfev: 36\n",
      "      nit: 10\n",
      "   status: 0\n",
      "  success: True\n",
      "        x: array([10.08896882,  2.28097345]) [171, 103, 115, 123, 119, 121, 103, 96, 98, 98, 95, 97, 92, 99, 84, 92, 91, 90, 82, 75, 68, 73, 72, 71, 64, 67, 62, 62, 55, 54, 56, 47, 49, 54, 54, 50, 50, 51, 50, 51, 57, 58, 47, 52, 47, 46, 45, 49, 47, 47, 44, 49, 40, 44, 35, 35, 36, 29, 34, 26, 26, 26, 22, 23, 22, 20, 13, 15, 17, 14, 6, 5, 3, 2, 2, 2, 2, 1]\n"
     ]
    }
   ],
   "source": [
    "repl_data = data_processing(init_dict['estimation'])\n",
    "trans_results, state_count, cost_results = estimate(init_dict['estimation'], repl_data, repl_4=False)\n",
    "print(trans_results, cost_results, state_count)"
   ]
  },
  {
   "cell_type": "markdown",
   "metadata": {},
   "source": []
  },
  {
   "cell_type": "code",
   "execution_count": 7,
   "metadata": {},
   "outputs": [
    {
     "data": {
      "text/plain": [
       "0.017518902184526255"
      ]
     },
     "execution_count": 7,
     "metadata": {},
     "output_type": "execute_result"
    }
   ],
   "source": [
    "# As Rust pools all observations, there is not a big space for uncertainty. Therefore the size of the uncertainty set,\n",
    "# calculated by the the expression above for a confidence of 95% is very small:\n",
    "roh = chi2.ppf(0.95, len(trans_results['x']) - 1) / (2 * state_count[0])\n",
    "roh"
   ]
  },
  {
   "cell_type": "code",
   "execution_count": 8,
   "metadata": {},
   "outputs": [
    {
     "data": {
      "text/plain": [
       "2.5"
      ]
     },
     "execution_count": 8,
     "metadata": {},
     "output_type": "execute_result"
    }
   ],
   "source": [
    "# Therefore we set the size of the uncertainty set for now to 2.5:\n",
    "roh = 2.5 \n",
    "roh"
   ]
  },
  {
   "cell_type": "code",
   "execution_count": 9,
   "metadata": {},
   "outputs": [
    {
     "data": {
      "text/plain": [
       "{'estimation': {'groups': 'group_4',\n",
       "  'beta': 0.9999,\n",
       "  'maint_func': 'linear',\n",
       "  'binsize': 5000,\n",
       "  'states': 90,\n",
       "  'max_it': 1000},\n",
       " 'simulation': {'beta': 0.9999,\n",
       "  'periods': 80000,\n",
       "  'seed': 123,\n",
       "  'maint_func': 'linear',\n",
       "  'buses': 200,\n",
       "  'known probs': array([0.39958063, 0.58760479, 0.01281458]),\n",
       "  'params': array([10.08896882,  2.28097345]),\n",
       "  'roh': 2.5,\n",
       "  'states': 90,\n",
       "  'real probs': array([0.00217847, 0.31650333, 0.6813182 ])}}"
      ]
     },
     "execution_count": 9,
     "metadata": {},
     "output_type": "execute_result"
    }
   ],
   "source": [
    "# We seen above, that with the new estimation method, the paramters deviate not substantial from the \"real\" ones.\n",
    "# I initialize the new values and roh now in the init_dict\n",
    "init_dict['simulation']['known probs'] = trans_results['x']\n",
    "init_dict['simulation']['params'] = cost_results['x']\n",
    "init_dict['simulation']['roh'] = roh\n",
    "# The worst case probabilites are calculated for a space size of 90. The size doesn't really makes a difference\n",
    "# as my objective value is EV(0) anyway.\n",
    "init_dict['simulation']['states'] = 90\n",
    "worst_trans = get_worst_trans(init_dict['simulation'])\n",
    "init_dict['simulation']['real probs'] = worst_trans\n",
    "init_dict"
   ]
  },
  {
   "cell_type": "code",
   "execution_count": 10,
   "metadata": {},
   "outputs": [
    {
     "name": "stdout",
     "output_type": "stream",
     "text": [
      "1\n"
     ]
    }
   ],
   "source": [
    "# So with the worst case probabilites as the real ones, I calculate the new strategy\n",
    "df, unobs, utilities, num_states = simulate(init_dict['simulation'])\n",
    "# The cost vector for the new parameters\n",
    "costs = myopic_costs(num_states, lin_cost, init_dict['simulation']['params'])\n",
    "\n",
    "# For a better understanding, I use real_trans_probs instead of worst_case in the following\n",
    "real_trans_probs = np.array(init_dict['simulation']['real probs'])\n",
    "real_trans_mat = create_transition_matrix(num_states, real_trans_probs)\n",
    "known_trans_probs = np.array(init_dict['simulation']['known probs'])\n",
    "known_trans_mat = create_transition_matrix(num_states, known_trans_probs)\n",
    "\n",
    "# So the calculated expected value of the real transition probabilities. We saw above, that if the \n",
    "# agent knows these, his discounted utility converges to that.\n",
    "ev_real = calc_fixp(num_states, real_trans_mat, costs, beta)\n",
    "v_exp_real = np.full(num_points, calc_ev_0(ev_real, unobs, num_buses))\n",
    "\n",
    "# The expected value of transition probabilites the agent knows.\n",
    "ev_known = calc_fixp(num_states, known_trans_mat, costs, beta)\n",
    "v_exp_known = np.full(num_points, calc_ev_0(ev_known, unobs, num_buses))\n",
    "\n",
    "# The discounted utility of the decision strategy\n",
    "v_disc = discount_utility(np.zeros(num_points), num_buses, gridsize, num_periods, utilities, beta)\n"
   ]
  },
  {
   "cell_type": "code",
   "execution_count": 11,
   "metadata": {},
   "outputs": [
    {
     "data": {
      "text/plain": [
       "[]"
      ]
     },
     "execution_count": 11,
     "metadata": {},
     "output_type": "execute_result"
    },
    {
     "data": {
      "image/png": "[encoded data removed]",
      "text/plain": [
       "<Figure size 1008x432 with 1 Axes>"
      ]
     },
     "metadata": {
      "needs_background": "light"
     },
     "output_type": "display_data"
    }
   ],
   "source": [
    "fig = plt.figure(figsize=(14, 6))\n",
    "\n",
    "ax = fig.add_subplot(111)\n",
    "\n",
    "ax.set_ylim([0, 1.3 * v_disc[-1]])\n",
    "\n",
    "ax.set_ylabel(r\"Value at time 0    \")\n",
    "ax.set_xlabel(r\"Periods\")\n",
    "\n",
    "ax.plot(periods, v_disc, color='blue', label='Discounted utility')\n",
    "ax.plot(periods, v_exp_real, color='red', label='Expected value of the real transition probabilites at time 0')\n",
    "ax.plot(periods, v_exp_known, color='green',label='Expected value of the known transition probabilites at time 0')\n",
    "\n",
    "plt.tight_layout()\n",
    "\n",
    "plt.plot()"
   ]
  },
  {
   "cell_type": "markdown",
   "metadata": {},
   "source": [
    "If we look at the real transition probabilities compared to the ones known to the agent, there is already a big shift towards the highest reachable state. The resulting loss due to information, so the gap between the blue and red line, is very small though. The power of this method therefore needs a better setting. I am now discretisize the state space a lot finer and explore how different uncertainty set sizes are going to affect the performance of the transition probabilities:"
   ]
  },
  {
   "cell_type": "code",
   "execution_count": 4,
   "metadata": {},
   "outputs": [
    {
     "data": {
      "text/plain": [
       "{'estimation': {'groups': 'group_4',\n",
       "  'beta': 0.9999,\n",
       "  'maint_func': 'linear',\n",
       "  'binsize': 5000,\n",
       "  'states': 90,\n",
       "  'max_it': 1000},\n",
       " 'simulation': {'beta': 0.9999,\n",
       "  'periods': 80000,\n",
       "  'seed': 123,\n",
       "  'maint_func': 'linear',\n",
       "  'buses': 200}}"
      ]
     },
     "execution_count": 4,
     "metadata": {},
     "output_type": "execute_result"
    }
   ],
   "source": [
    "init_dict"
   ]
  },
  {
   "cell_type": "code",
   "execution_count": 17,
   "metadata": {},
   "outputs": [
    {
     "name": "stdout",
     "output_type": "stream",
     "text": [
      "     fun: 7581.755519011549\n",
      "     jac: array([-4291.98876953, -4292.00909424, -4292.01550293, -4291.99017334,\n",
      "       -4292.00201416, -4291.99639893, -4292.00158691, -4291.63916016,\n",
      "       -4290.96063232, -4292.23297119, -4291.89801025, -4290.65582275,\n",
      "       -4290.68988037])\n",
      " message: 'Optimization terminated successfully.'\n",
      "    nfev: 1336\n",
      "     nit: 75\n",
      "    njev: 75\n",
      "  status: 0\n",
      " success: True\n",
      "       x: array([2.86580358e-02, 8.10809022e-02, 2.79122939e-01, 2.46039699e-01,\n",
      "       1.81733365e-01, 1.30242414e-01, 4.65982979e-02, 3.72817179e-03,\n",
      "       4.66088648e-04, 6.98929448e-04, 9.31981148e-04, 4.66121756e-04,\n",
      "       2.33055301e-04])       fun: 163.71080283705228\n",
      " hess_inv: <2x2 LbfgsInvHessProduct with dtype=float64>\n",
      "      jac: array([ 0.        , -0.00012221])\n",
      "  message: b'CONVERGENCE: REL_REDUCTION_OF_F_<=_FACTR*EPSMCH'\n",
      "     nfev: 48\n",
      "      nit: 11\n",
      "   status: 0\n",
      "  success: True\n",
      "        x: array([10.13297317,  0.45596175])\n"
     ]
    }
   ],
   "source": [
    "# So now choose 2000 miles as binsize and estimate the model.\n",
    "init_dict['estimation']['binsize'] = 1000\n",
    "init_dict['estimation']['states'] = 450\n",
    "init_dict['estimation']['max_it'] = 1000\n",
    "repl_data = data_processing(init_dict['estimation'])\n",
    "trans_results, state_count, cost_results = estimate(init_dict['estimation'], repl_data, repl_4=False)\n",
    "print(trans_results, cost_results)"
   ]
  },
  {
   "cell_type": "code",
   "execution_count": 18,
   "metadata": {},
   "outputs": [],
   "source": [
    "# We seen above, that with the new estimation method, the paramters deviate not substantial from the \"real\" ones.\n",
    "# I initialize the new values and roh now in the init_dict\n",
    "init_dict['simulation']['known probs'] = trans_results['x']\n",
    "init_dict['simulation']['params'] = cost_results['x']"
   ]
  },
  {
   "cell_type": "code",
   "execution_count": null,
   "metadata": {},
   "outputs": [],
   "source": [
    "# The cost vector for the new parameters\n",
    "num_states = 1500\n",
    "costs = myopic_costs(num_states, lin_cost, init_dict['simulation']['params'])\n",
    "known_trans_probs = np.array(init_dict['simulation']['known probs'])\n",
    "known_trans_mat = create_transition_matrix(num_states, known_trans_probs)\n",
    "ev_known = calc_fixp(num_states, known_trans_mat, costs, beta)\n",
    "init_dict['simulation']['ev_known'] = ev_known"
   ]
  },
  {
   "cell_type": "code",
   "execution_count": null,
   "metadata": {},
   "outputs": [],
   "source": [
    "# The worst case probabilites are calculated for a space size of 90. The size doesn't really makes a difference\n",
    "# as my objective value is EV(0) anyway.\n",
    "num_states = 250\n",
    "roh = 2.5\n",
    "worst_trans = get_worst_trans(init_dict['simulation'], roh, num_states)\n",
    "init_dict['simulation']['real probs'] = worst_trans"
   ]
  },
  {
   "cell_type": "code",
   "execution_count": 8,
   "metadata": {},
   "outputs": [],
   "source": [
    "# For a better understanding, I use real_trans_probs instead of worst_case in the following\n",
    "real_trans_probs = np.array(init_dict['simulation']['real probs'])\n",
    "real_trans_mat = create_transition_matrix(num_states, real_trans_probs)"
   ]
  },
  {
   "cell_type": "code",
   "execution_count": 12,
   "metadata": {},
   "outputs": [],
   "source": [
    "df, unobs, utilities, num_states = simulate(init_dict['simulation'])"
   ]
  },
  {
   "cell_type": "code",
   "execution_count": 13,
   "metadata": {},
   "outputs": [],
   "source": [
    "# The value of the real expected utility\n",
    "real_trans_mat = create_transition_matrix(num_states, real_trans_probs)\n",
    "ev_real = calc_fixp(num_states, real_trans_mat, costs, beta)"
   ]
  },
  {
   "cell_type": "code",
   "execution_count": 14,
   "metadata": {},
   "outputs": [
    {
     "data": {
      "text/plain": [
       "897"
      ]
     },
     "execution_count": 14,
     "metadata": {},
     "output_type": "execute_result"
    }
   ],
   "source": [
    "df.state.max()"
   ]
  },
  {
   "cell_type": "code",
   "execution_count": 16,
   "metadata": {},
   "outputs": [
    {
     "data": {
      "text/plain": [
       "[]"
      ]
     },
     "execution_count": 16,
     "metadata": {},
     "output_type": "execute_result"
    },
    {
     "data": {
      "image/png": "[encoded data removed]",
      "text/plain": [
       "<Figure size 1008x432 with 1 Axes>"
      ]
     },
     "metadata": {
      "needs_background": "light"
     },
     "output_type": "display_data"
    }
   ],
   "source": [
    "# The discounted utility of the decision strategy\n",
    "v_disc = discount_utility(np.zeros(num_points), num_buses, gridsize, num_periods, utilities, beta)\n",
    "\n",
    "# The arrays for plotting\n",
    "v_exp_known = np.full(num_points, calc_ev_0(ev_known, unobs, num_buses))\n",
    "v_exp_real = np.full(num_points, calc_ev_0(ev_real, unobs, num_buses))\n",
    "periods = np.arange(0, num_periods, gridsize)\n",
    "\n",
    "\n",
    "fig = plt.figure(figsize=(14, 6))\n",
    "\n",
    "ax = fig.add_subplot(111)\n",
    "\n",
    "ax.set_ylim([0, 1.3 * v_disc[-1]])\n",
    "\n",
    "ax.set_ylabel(r\"Value at time 0\")\n",
    "ax.set_xlabel(r\"Periods\")\n",
    "\n",
    "ax.plot(periods, v_disc, color='blue', label='Discounted utility')\n",
    "ax.plot(periods, v_exp_real, color='red', label='Expected value of the real transition probabilites at time 0')\n",
    "ax.plot(periods, v_exp_known, color='green',label='Expected value of the known transition probabilites at time 0')\n",
    "\n",
    "plt.legend()\n",
    "plt.tight_layout()\n",
    "\n",
    "plt.plot()"
   ]
  },
  {
   "cell_type": "code",
   "execution_count": null,
   "metadata": {},
   "outputs": [],
   "source": []
  }
 ],
 "metadata": {
  "kernelspec": {
   "display_name": "Python 3",
   "language": "python",
   "name": "python3"
  },
  "language_info": {
   "codemirror_mode": {
    "name": "ipython",
    "version": 3
   },
   "file_extension": ".py",
   "mimetype": "text/x-python",
   "name": "python",
   "nbconvert_exporter": "python",
   "pygments_lexer": "ipython3",
   "version": "3.6.8"
  }
 },
 "nbformat": 4,
 "nbformat_minor": 2
}
