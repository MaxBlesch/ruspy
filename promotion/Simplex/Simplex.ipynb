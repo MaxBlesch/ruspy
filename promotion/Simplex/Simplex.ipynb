{
 "cells": [
  {
   "cell_type": "code",
   "execution_count": 1,
   "metadata": {},
   "outputs": [],
   "source": [
    "%load_ext autoreload\n",
    "\n",
    "%autoreload 2\n",
    "\n",
    "import numpy as np\n",
    "%matplotlib widget\n",
    "import matplotlib.pyplot as plt\n",
    "import matplotlib.tri as mtri\n",
    "from math import sqrt, log\n",
    "import scipy as sc\n",
    "\n",
    "from ruspy.data.data_reading import data_reading\n",
    "from ruspy.data.data_processing import data_processing\n",
    "\n",
    "from ruspy.estimation.estimation import estimate\n",
    "from ruspy.estimation.estimation_transitions import estimate_transitions\n",
    "\n",
    "from ruspy.simulation.robust_sim import draw_trans_probs_mulitvar"
   ]
  },
  {
   "cell_type": "code",
   "execution_count": 2,
   "metadata": {},
   "outputs": [],
   "source": [
    "data_reading()"
   ]
  },
  {
   "cell_type": "code",
   "execution_count": 4,
   "metadata": {},
   "outputs": [],
   "source": [
    "#Initilize a dictionary with values needed on the way.\n",
    "np.random.seed(123)\n",
    "beta = 0.9999\n",
    "init_dict = {\n",
    "    'groups': 'group_4',\n",
    "    'beta': beta,\n",
    "    'maint_func': 'linear',\n",
    "    'binsize': 5000,\n",
    "    'states': 90,\n",
    "}"
   ]
  },
  {
   "cell_type": "code",
   "execution_count": 7,
   "metadata": {},
   "outputs": [],
   "source": [
    "repl_data = data_processing(init_dict)"
   ]
  },
  {
   "cell_type": "code",
   "execution_count": 8,
   "metadata": {},
   "outputs": [
    {
     "name": "stdout",
     "output_type": "stream",
     "text": [
      "{'x': array([0.39189189, 0.59529357, 0.01281454]), 'fun': 3140.5705570938244, 'trans_count': [1682, 2555, 55]}       fun: 163.5858399242644\n",
      " hess_inv: <2x2 LbfgsInvHessProduct with dtype=float64>\n",
      "      jac: array([-5.68434189e-06,  0.00000000e+00])\n",
      "  message: b'CONVERGENCE: NORM_OF_PROJECTED_GRADIENT_<=_PGTOL'\n",
      "     nfev: 36\n",
      "      nit: 10\n",
      "   status: 0\n",
      "  success: True\n",
      "        x: array([10.07772902,  2.2941396 ])\n"
     ]
    }
   ],
   "source": [
    "trans_results, cost_results = estimate(init_dict, repl_data)\n",
    "print(trans_results, cost_results)"
   ]
  },
  {
   "cell_type": "code",
   "execution_count": 13,
   "metadata": {},
   "outputs": [],
   "source": [
    "p_ml = trans_results['x']"
   ]
  },
  {
   "cell_type": "code",
   "execution_count": 14,
   "metadata": {},
   "outputs": [],
   "source": [
    "n = 4292\n",
    "probs, cov = draw_trans_probs_mulitvar(n, p_ml, size=100)"
   ]
  },
  {
   "cell_type": "code",
   "execution_count": 15,
   "metadata": {},
   "outputs": [],
   "source": [
    "# Specify simplex\n",
    "l_simp = sqrt(4 / 3)"
   ]
  },
  {
   "cell_type": "code",
   "execution_count": 16,
   "metadata": {},
   "outputs": [],
   "source": [
    "def get_x(p, l_simp):\n",
    "    return l_simp - p[0] * sqrt( 1 + l_simp ** 2 / 4) - 0.5 * l_simp * p[1]"
   ]
  },
  {
   "cell_type": "code",
   "execution_count": 104,
   "metadata": {},
   "outputs": [],
   "source": [
    "def create_set(p_ml, roh, l_simp, step, min_grid_p_0, min_grid_p_1, max_grid_p_0, max_grid_p_1, set_method='Kullback'):\n",
    "    if set_method == 'Kullback':\n",
    "        set_cond = Kullback_Leibler\n",
    "    else:\n",
    "        raise ValueError('Set measure not supported.')\n",
    "    set_coordinates_x = []\n",
    "    set_coordinates_y = []\n",
    "    set_coordinates = np.empty(shape=(1, 2))\n",
    "    set_probs = np.empty(shape=(1, len(p_ml)))\n",
    "    for p_0 in np.arange(min_grid_p_0, max_grid_p_0 , step):\n",
    "        for p_1 in np.arange(min_grid_p_1, max_grid_p_1, step):\n",
    "            p = np.array([p_0, p_1, 1 - p_0 - p_1])\n",
    "            if p[(p > 0) & (p < 1)].size == p.size: \n",
    "                if roh - Kullback_Leibler(p, p_ml) >= 0:\n",
    "                    x = get_x(p, l_simp)\n",
    "                    set_coordinates_x += [x]\n",
    "                    set_coordinates_y += [p_1]\n",
    "                    set_coordinates = np.append(set_coordinates, [[x, p_1]], axis=0)\n",
    "                    set_probs = np.append(set_probs, p.reshape(1, len(p_ml)), axis=0)\n",
    "    return set_coordinates_x, set_coordinates_y, set_coordinates[1:], set_probs[1:]"
   ]
  },
  {
   "cell_type": "code",
   "execution_count": 105,
   "metadata": {},
   "outputs": [],
   "source": [
    "def Kullback_Leibler(p, p_ml):\n",
    "    val = 0\n",
    "    for i, q in enumerate(p):\n",
    "        val += q * log(q / p_ml[i])\n",
    "    return val"
   ]
  },
  {
   "cell_type": "code",
   "execution_count": 106,
   "metadata": {
    "scrolled": false
   },
   "outputs": [],
   "source": [
    "draws_y = []\n",
    "draws_x = []\n",
    "for p in probs:\n",
    "    draws_y += [p[1]]\n",
    "    draws_x += [get_x(p, l_simp)]"
   ]
  },
  {
   "cell_type": "code",
   "execution_count": 107,
   "metadata": {},
   "outputs": [],
   "source": [
    "roh = 0.000698\n",
    "min_grid_p_0 = min_grid_p_1 = 0\n",
    "max_grid_p_0 = max_grid_p_1 = 1\n",
    "step = 0.001\n",
    "x_set_pre, y_set_pre, set_coord_pre, set_probs_pre = create_set(\n",
    "    p_ml, roh, l_simp, step, min_grid_p_0, min_grid_p_1, max_grid_p_0, max_grid_p_1, set_method='Kullback')"
   ]
  },
  {
   "cell_type": "code",
   "execution_count": 115,
   "metadata": {},
   "outputs": [],
   "source": [
    "min_grid_p_0 = set_probs_pre[:, 0].min() - step\n",
    "max_grid_p_0 = set_probs_pre[:, 0].max() + step\n",
    "min_grid_p_1 = set_probs_pre[:, 1].min() - step\n",
    "max_grid_p_1 = set_probs_pre[:, 1].max() + step"
   ]
  },
  {
   "cell_type": "code",
   "execution_count": 120,
   "metadata": {},
   "outputs": [],
   "source": [
    "step = 0.0001\n",
    "x_set, y_set, set_coord, set_probs = create_set(\n",
    "    p_ml, roh, l_simp, step, min_grid_p_0, min_grid_p_1, max_grid_p_0, max_grid_p_1, set_method='Kullback')"
   ]
  },
  {
   "cell_type": "code",
   "execution_count": 121,
   "metadata": {},
   "outputs": [],
   "source": [
    "hull = sc.spatial.ConvexHull(set_coord)"
   ]
  },
  {
   "cell_type": "code",
   "execution_count": 122,
   "metadata": {},
   "outputs": [
    {
     "data": {
      "application/vnd.jupyter.widget-view+json": {
       "model_id": "a5b7104cc216482d97542dee78553b25",
       "version_major": 2,
       "version_minor": 0
      },
      "text/plain": [
       "FigureCanvasNbAgg()"
      ]
     },
     "metadata": {},
     "output_type": "display_data"
    },
    {
     "data": {
      "text/plain": [
       "[<matplotlib.lines.Line2D at 0x7f425456ce10>,\n",
       " <matplotlib.lines.Line2D at 0x7f425456cf60>]"
      ]
     },
     "execution_count": 122,
     "metadata": {},
     "output_type": "execute_result"
    }
   ],
   "source": [
    "# Create triangulation.range(\n",
    "x = np.array([0, 0.5 * l_simp, l_simp])\n",
    "y = np.array([0, 1, 0])\n",
    "triang = mtri.Triangulation(x, y)\n",
    "\n",
    "# Set up thered figure\n",
    "fig = plt.figure(figsize=(10, 5))\n",
    "ax = fig.add_subplot(111)\n",
    "ax.text(-0.05, -0.03, \"Increase by 0\")\n",
    "ax.text(l_simp - 0.06, -0.03, \"Increase by 2\")\n",
    "ax.text(0.5 * l_simp - 0.05, 1.02, \"Increase by 1\")\n",
    "# ax.plot(x_set, y_set, color='grey')\n",
    "for simplex in hull.simplices:\n",
    "    plt.plot(set_coord[simplex, 0], set_coord[simplex, 1], 'k-')\n",
    "ax.plot([get_x(p_ml, l_simp)], [p_ml[1]], marker='o', markersize=2, color=\"red\")\n",
    "ax.get_xaxis().set_visible(False)\n",
    "ax.get_yaxis().set_visible(False)\n",
    "\n",
    "ax.scatter(draws_x, draws_y, s=10, marker='o', color=\"green\")\n",
    "ax.triplot(triang)"
   ]
  },
  {
   "cell_type": "code",
   "execution_count": null,
   "metadata": {},
   "outputs": [],
   "source": []
  },
  {
   "cell_type": "code",
   "execution_count": null,
   "metadata": {},
   "outputs": [],
   "source": []
  },
  {
   "cell_type": "code",
   "execution_count": null,
   "metadata": {},
   "outputs": [],
   "source": []
  },
  {
   "cell_type": "code",
   "execution_count": null,
   "metadata": {},
   "outputs": [],
   "source": []
  },
  {
   "cell_type": "code",
   "execution_count": null,
   "metadata": {},
   "outputs": [],
   "source": []
  },
  {
   "cell_type": "code",
   "execution_count": null,
   "metadata": {},
   "outputs": [],
   "source": []
  },
  {
   "cell_type": "code",
   "execution_count": null,
   "metadata": {},
   "outputs": [],
   "source": []
  },
  {
   "cell_type": "code",
   "execution_count": null,
   "metadata": {},
   "outputs": [],
   "source": []
  },
  {
   "cell_type": "code",
   "execution_count": null,
   "metadata": {},
   "outputs": [],
   "source": []
  },
  {
   "cell_type": "code",
   "execution_count": null,
   "metadata": {},
   "outputs": [],
   "source": []
  },
  {
   "cell_type": "code",
   "execution_count": null,
   "metadata": {},
   "outputs": [],
   "source": []
  },
  {
   "cell_type": "code",
   "execution_count": null,
   "metadata": {},
   "outputs": [],
   "source": []
  },
  {
   "cell_type": "code",
   "execution_count": null,
   "metadata": {},
   "outputs": [],
   "source": []
  },
  {
   "cell_type": "code",
   "execution_count": null,
   "metadata": {},
   "outputs": [],
   "source": []
  },
  {
   "cell_type": "code",
   "execution_count": 101,
   "metadata": {},
   "outputs": [
    {
     "data": {
      "application/vnd.jupyter.widget-view+json": {
       "model_id": "",
       "version_major": 2,
       "version_minor": 0
      },
      "text/plain": [
       "FigureCanvasNbAgg()"
      ]
     },
     "metadata": {},
     "output_type": "display_data"
    },
    {
     "data": {
      "text/plain": [
       "[<matplotlib.lines.Line2D at 0x7ff13c09ebe0>,\n",
       " <matplotlib.lines.Line2D at 0x7ff13c09e4a8>]"
      ]
     },
     "execution_count": 101,
     "metadata": {},
     "output_type": "execute_result"
    }
   ],
   "source": [
    "# Create triangulation.range(\n",
    "x = np.array([0, 0.5 * l_simp, l_simp])\n",
    "y = np.array([0, 1, 0])\n",
    "triang = mtri.Triangulation(x, y)\n",
    "\n",
    "# Set up the figure\n",
    "fig = plt.figure(figsize=(10, 5))\n",
    "ax = fig.add_subplot(111)\n",
    "ax.text(-0.05, -0.03, \"Increase by 0\")\n",
    "ax.text(l_simp - 0.06, -0.03, \"Increase by 2\")\n",
    "ax.text(0.5 * l_simp - 0.05, 1.02, \"Increase by 1\")\n",
    "ax.plot([get_x(p_ml, l_simp)], [p_ml[1]], marker='o', markersize=1, color=\"red\")\n",
    "ax.get_xaxis().set_visible(False)\n",
    "ax.get_yaxis().set_visible(False)\n",
    "\n",
    "# Plot the triangulation.\n",
    "#axs.tricontourf(triang, z)\n",
    "\n",
    "# ax.set_title('Probability simplex')\n",
    "# Plot heatmap\n",
    "# ax2 = ax.twinx()\n",
    "ax.hist2d(np.array(draws_x), np.array(draws_y), bins=2000, range=[[0, l_simp], [0, 1]])\n",
    "ax.triplot(triang)"
   ]
  },
  {
   "cell_type": "code",
   "execution_count": null,
   "metadata": {},
   "outputs": [],
   "source": [
    "cov"
   ]
  }
 ],
 "metadata": {
  "kernelspec": {
   "display_name": "Python 3",
   "language": "python",
   "name": "python3"
  },
  "language_info": {
   "codemirror_mode": {
    "name": "ipython",
    "version": 3
   },
   "file_extension": ".py",
   "mimetype": "text/x-python",
   "name": "python",
   "nbconvert_exporter": "python",
   "pygments_lexer": "ipython3",
   "version": "3.6.7"
  }
 },
 "nbformat": 4,
 "nbformat_minor": 2
}
