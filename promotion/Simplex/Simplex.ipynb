{
 "cells": [
  {
   "cell_type": "code",
   "execution_count": 141,
   "metadata": {},
   "outputs": [
    {
     "name": "stdout",
     "output_type": "stream",
     "text": [
      "The autoreload extension is already loaded. To reload it, use:\n",
      "  %reload_ext autoreload\n"
     ]
    }
   ],
   "source": [
    "%load_ext autoreload\n",
    "\n",
    "%autoreload 2\n",
    "\n",
    "import numpy as np\n",
    "%matplotlib widget\n",
    "import matplotlib.pyplot as plt\n",
    "import matplotlib.tri as mtri\n",
    "from math import sqrt, log\n",
    "import scipy as sc\n",
    "\n",
    "from ruspy.data.data_reading import data_reading\n",
    "from ruspy.data.data_processing import data_processing\n",
    "\n",
    "from ruspy.estimation.estimation import estimate\n",
    "from ruspy.estimation.estimation_transitions import estimate_transitions\n",
    "\n",
    "from ruspy.simulation.robust_sim import draw_trans_probs_mulitvar"
   ]
  },
  {
   "cell_type": "code",
   "execution_count": 2,
   "metadata": {},
   "outputs": [],
   "source": [
    "data_reading()"
   ]
  },
  {
   "cell_type": "code",
   "execution_count": 3,
   "metadata": {},
   "outputs": [],
   "source": [
    "#Initilize a dictionary with values needed on the way.\n",
    "np.random.seed(123)repl_data = data_processing(init_dict)\n",
    "beta = 0.9999\n",
    "init_dict = {\n",
    "    'groups': 'group_4',\n",
    "    'beta': beta,\n",
    "    'maint_func': 'linear',\n",
    "    'binsize': 5000,\n",
    "    'states': 90,\n",
    "}"
   ]
  },
  {
   "cell_type": "code",
   "execution_count": 152,
   "metadata": {},
   "outputs": [
    {
     "data": {
      "text/plain": [
       "array([[0.9999, 0.999 ],\n",
       "       [1.    , 2.    ]])"
      ]
     },
     "execution_count": 152,
     "metadata": {},
     "output_type": "execute_result"
    }
   ],
   "source": [
    "np.append(np.empty(shape=(1,2)), [[1,2]], axis=0)"
   ]
  },
  {
   "cell_type": "code",
   "execution_count": 136,
   "metadata": {},
   "outputs": [
    {
     "data": {
      "text/plain": [
       "array([[5.e-324, 1.e-323]])"
      ]
     },
     "execution_count": 136,
     "metadata": {},
     "output_type": "execute_result"
    }
   ],
   "source": [
    "np.empty(shape=(1,2))"
   ]
  },
  {
   "cell_type": "code",
   "execution_count": null,
   "metadata": {},
   "outputs": [],
   "source": [
    "repl_data = data_processing(init_dict)"
   ]
  },
  {
   "cell_type": "code",
   "execution_count": 6,
   "metadata": {},
   "outputs": [
    {
     "name": "stdout",
     "output_type": "stream",
     "text": [
      "{'x': array([0.39189189, 0.59529357, 0.01281454]), 'fun': 3140.5705570938244, 'trans_count': [1682, 2555, 55]}       fun: 163.5858399242644\n",
      " hess_inv: <2x2 LbfgsInvHessProduct with dtype=float64>\n",
      "      jac: array([-5.68434189e-06,  0.00000000e+00])\n",
      "  message: b'CONVERGENCE: NORM_OF_PROJECTED_GRADIENT_<=_PGTOL'\n",
      "     nfev: 36\n",
      "      nit: 10\n",
      "   status: 0\n",
      "  success: True\n",
      "        x: array([10.07772902,  2.2941396 ])\n"
     ]
    }
   ],
   "source": [
    "trans_results, cost_results = estimate(init_dict, repl_data)\n",
    "print(trans_results, cost_results)"
   ]
  },
  {
   "cell_type": "code",
   "execution_count": 8,
   "metadata": {},
   "outputs": [],
   "source": [
    "p_ml = trans_results['x']"
   ]
  },
  {
   "cell_type": "code",
   "execution_count": 14,
   "metadata": {},
   "outputs": [],
   "source": [
    "n = 4292\n",
    "probs, cov = draw_trans_probs_mulitvar(n, p_ml, size=100)"
   ]
  },
  {
   "cell_type": "code",
   "execution_count": 17,
   "metadata": {},
   "outputs": [],
   "source": [
    "# Specify simplex\n",
    "l_simp = sqrt(4 / 3)"
   ]
  },
  {
   "cell_type": "code",
   "execution_count": 18,
   "metadata": {
    "scrolled": false
   },
   "outputs": [],
   "source": [
    "draws_y = []\n",
    "draws_x = []\n",
    "for p in probs:\n",
    "    draws_y += [p[1]]\n",
    "    draws_x += [get_x(p, l_simp)]"
   ]
  },
  {
   "cell_type": "code",
   "execution_count": 9,
   "metadata": {},
   "outputs": [],
   "source": [
    "def get_x(p, l_simp):\n",
    "    return l_simp - p[0] * sqrt( 1 + l_simp ** 2 / 4) - 0.5 * l_simp * p[1]"
   ]
  },
  {
   "cell_type": "code",
   "execution_count": 153,
   "metadata": {},
   "outputs": [],
   "source": [
    "def create_set(p_ml, roh, l_simp, set_method='Kullback'):\n",
    "    if set_method == 'Kullback':\n",
    "        set_cond = Kullback_Leibler\n",
    "    else:\n",
    "        raise ValueError('Set measure not supported.')\n",
    "    set_coordinates_x = []\n",
    "    set_coordinates_y = []\n",
    "    set_coordinates = np.empty(shape=(1, 2))\n",
    "    for p_0 in np.arange(0, 1, 0.0001):\n",
    "        for p_1 in np.arange(0, 1, 0.001):\n",
    "            p = np.array([p_0, p_1, 1 - p_0 - p_1])\n",
    "            if p[(p > 0) & (p < 1)].size == p.size: \n",
    "                if roh - Kullback_Leibler(p, p_ml) >= 0:\n",
    "                    x = get_x(p, l_simp)\n",
    "                    set_coordinates_x += [x]\n",
    "                    set_coordinates_y += [p_1]\n",
    "                    set_coordinates = np.append(set_coordinates, [[x, p_1]], axis=0)\n",
    "    return set_coordinates_x, set_coordinates_y, set_coordinates[1:, :]"
   ]
  },
  {
   "cell_type": "code",
   "execution_count": 154,
   "metadata": {},
   "outputs": [],
   "source": [
    "def Kullback_Leibler(p, p_ml):\n",
    "    val = 0\n",
    "    for i, q in enumerate(p):\n",
    "        val += q * log(q / p_ml[i])\n",
    "    return val"
   ]
  },
  {
   "cell_type": "code",
   "execution_count": 155,
   "metadata": {},
   "outputs": [],
   "source": [
    "def get_p(x, y, l_simp):\n",
    "    p = np.zeros(3)\n",
    "    p[0] = (l_simp - 0.5 * l_simp * y - x) / sqrt( 1 + l_simp ** 2 / 4)\n",
    "    p[1] = y\n",
    "    p[2] = 1 - p[0] - p[1]\n",
    "    return p"
   ]
  },
  {
   "cell_type": "code",
   "execution_count": 165,
   "metadata": {},
   "outputs": [],
   "source": [
    "x_set, y_set, set_coord = create_set(p_ml=p_ml, roh=0.000698, l_simp=l_simp, set_method='Kullback')"
   ]
  },
  {
   "cell_type": "code",
   "execution_count": 166,
   "metadata": {},
   "outputs": [
    {
     "data": {
      "text/plain": [
       "(2398, 2)"
      ]
     },
     "execution_count": 166,
     "metadata": {},
     "output_type": "execute_result"
    }
   ],
   "source": [
    "set_coord.shape"
   ]
  },
  {
   "cell_type": "code",
   "execution_count": 167,
   "metadata": {},
   "outputs": [],
   "source": [
    "hull = sc.spatial.ConvexHull(set_coord)"
   ]
  },
  {
   "cell_type": "code",
   "execution_count": 168,
   "metadata": {},
   "outputs": [
    {
     "data": {
      "text/plain": [
       "<scipy.spatial.qhull.ConvexHull at 0x7ff1390a5828>"
      ]
     },
     "execution_count": 168,
     "metadata": {},
     "output_type": "execute_result"
    }
   ],
   "source": [
    "convex"
   ]
  },
  {
   "cell_type": "code",
   "execution_count": 169,
   "metadata": {},
   "outputs": [
    {
     "data": {
      "application/vnd.jupyter.widget-view+json": {
       "model_id": "612d8a7407f04c169df73e39f62367cc",
       "version_major": 2,
       "version_minor": 0
      },
      "text/plain": [
       "FigureCanvasNbAgg()"
      ]
     },
     "metadata": {},
     "output_type": "display_data"
    },
    {
     "data": {
      "text/plain": [
       "[<matplotlib.lines.Line2D at 0x7ff138c2b4e0>,\n",
       " <matplotlib.lines.Line2D at 0x7ff138c2b630>]"
      ]
     },
     "execution_count": 169,
     "metadata": {},
     "output_type": "execute_result"
    }
   ],
   "source": [
    "# Create triangulation.range(\n",
    "x = np.array([0, 0.5 * l_simp, l_simp])\n",
    "y = np.array([0, 1, 0])\n",
    "triang = mtri.Triangulation(x, y)\n",
    "\n",
    "# Set up thered figure\n",
    "fig = plt.figure(figsize=(10, 5))\n",
    "ax = fig.add_subplot(111)\n",
    "ax.text(-0.05, -0.03, \"Increase by 0\")\n",
    "ax.text(l_simp - 0.06, -0.03, \"Increase by 2\")\n",
    "ax.text(0.5 * l_simp - 0.05, 1.02, \"Increase by 1\")\n",
    "# ax.plot(x_set, y_set, color='grey')\n",
    "for simplex in hull.simplices:\n",
    "    plt.plot(set_coord[simplex, 0], set_coord[simplex, 1], 'k-')\n",
    "ax.plot([get_x(p_ml, l_simp)], [p_ml[1]], marker='o', markersize=2, color=\"red\")\n",
    "ax.get_xaxis().set_visible(False)\n",
    "ax.get_yaxis().set_visible(False)\n",
    "\n",
    "ax.scatter(draws_x, draws_y, s=10, marker='o', color=\"green\")\n",
    "ax.triplot(triang)"
   ]
  },
  {
   "cell_type": "code",
   "execution_count": 101,
   "metadata": {},
   "outputs": [
    {
     "data": {
      "application/vnd.jupyter.widget-view+json": {
       "model_id": "",
       "version_major": 2,
       "version_minor": 0
      },
      "text/plain": [
       "FigureCanvasNbAgg()"
      ]
     },
     "metadata": {},
     "output_type": "display_data"
    },
    {
     "data": {
      "text/plain": [
       "[<matplotlib.lines.Line2D at 0x7ff13c09ebe0>,\n",
       " <matplotlib.lines.Line2D at 0x7ff13c09e4a8>]"
      ]
     },
     "execution_count": 101,
     "metadata": {},
     "output_type": "execute_result"
    }
   ],
   "source": [
    "# Create triangulation.range(\n",
    "x = np.array([0, 0.5 * l_simp, l_simp])\n",
    "y = np.array([0, 1, 0])\n",
    "triang = mtri.Triangulation(x, y)\n",
    "\n",
    "# Set up the figure\n",
    "fig = plt.figure(figsize=(10, 5))\n",
    "ax = fig.add_subplot(111)\n",
    "ax.text(-0.05, -0.03, \"Increase by 0\")\n",
    "ax.text(l_simp - 0.06, -0.03, \"Increase by 2\")\n",
    "ax.text(0.5 * l_simp - 0.05, 1.02, \"Increase by 1\")\n",
    "ax.plot([get_x(p_ml, l_simp)], [p_ml[1]], marker='o', markersize=1, color=\"red\")\n",
    "ax.get_xaxis().set_visible(False)\n",
    "ax.get_yaxis().set_visible(False)\n",
    "\n",
    "# Plot the triangulation.\n",
    "#axs.tricontourf(triang, z)\n",
    "\n",
    "# ax.set_title('Probability simplex')\n",
    "# Plot heatmap\n",
    "# ax2 = ax.twinx()\n",
    "ax.hist2d(np.array(draws_x), np.array(draws_y), bins=2000, range=[[0, l_simp], [0, 1]])\n",
    "ax.triplot(triang)"
   ]
  },
  {
   "cell_type": "code",
   "execution_count": null,
   "metadata": {},
   "outputs": [],
   "source": [
    "cov"
   ]
  }
 ],
 "metadata": {
  "kernelspec": {
   "display_name": "Python 3",
   "language": "python",
   "name": "python3"
  },
  "language_info": {
   "codemirror_mode": {
    "name": "ipython",
    "version": 3
   },
   "file_extension": ".py",
   "mimetype": "text/x-python",
   "name": "python",
   "nbconvert_exporter": "python",
   "pygments_lexer": "ipython3",
   "version": "3.6.7"
  }
 },
 "nbformat": 4,
 "nbformat_minor": 2
}
