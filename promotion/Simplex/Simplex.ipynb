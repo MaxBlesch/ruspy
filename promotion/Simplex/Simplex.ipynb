{
 "cells": [
  {
   "cell_type": "code",
   "execution_count": 82,
   "metadata": {},
   "outputs": [
    {
     "name": "stdout",
     "output_type": "stream",
     "text": [
      "The autoreload extension is already loaded. To reload it, use:\n",
      "  %reload_ext autoreload\n"
     ]
    }
   ],
   "source": [
    "%load_ext autoreload\n",
    "\n",
    "%autoreload 2\n",
    "\n",
    "import numpy as np\n",
    "%matplotlib widget\n",
    "import matplotlib.pyplot as plt\n",
    "import matplotlib.tri as mtri\n",
    "from math import sqrt\n",
    "\n",
    "from ruspy.data.data_reading import data_reading\n",
    "from ruspy.data.data_processing import data_processing\n",
    "\n",
    "from ruspy.estimation.estimation import estimate\n",
    "from ruspy.estimation.estimation_transitions import estimate_transitions"
   ]
  },
  {
   "cell_type": "code",
   "execution_count": 3,
   "metadata": {},
   "outputs": [],
   "source": [
    "data_reading()"
   ]
  },
  {
   "cell_type": "code",
   "execution_count": 13,
   "metadata": {},
   "outputs": [],
   "source": [
    "#Initilize a dictionary with values needed on the way.\n",
    "np.random.seed(123)\n",
    "beta = 0.9999\n",
    "init_dict = {\n",
    "    'groups': 'group_4',\n",
    "    'beta': beta,\n",
    "    'maint_func': 'linear',\n",
    "    'binsize': 5000,\n",
    "    'states': 90,\n",
    "}"
   ]
  },
  {
   "cell_type": "code",
   "execution_count": 98,
   "metadata": {},
   "outputs": [
    {
     "name": "stdout",
     "output_type": "stream",
     "text": [
      "{'x': array([0.39189189, 0.59529357, 0.01281454]), 'fun': 3140.5705570938244, 'trans_count': [1682, 2555, 55]}       fun: 163.58583992537754\n",
      " hess_inv: <2x2 LbfgsInvHessProduct with dtype=float64>\n",
      "      jac: array([6.82121026e-05, 1.62003744e-04])\n",
      "  message: b'CONVERGENCE: REL_REDUCTION_OF_F_<=_FACTR*EPSMCH'\n",
      "     nfev: 36\n",
      "      nit: 10\n",
      "   status: 0\n",
      "  success: True\n",
      "        x: array([10.0776928 ,  2.29412762])\n"
     ]
    }
   ],
   "source": [
    "repl_data = data_processing(init_dict)\n",
    "trans_results, cost_results = estimate(init_dict, repl_data)\n",
    "print(trans_results, cost_results)"
   ]
  },
  {
   "cell_type": "code",
   "execution_count": 99,
   "metadata": {},
   "outputs": [],
   "source": [
    "p_ml = trans_results['x']"
   ]
  },
  {
   "cell_type": "code",
   "execution_count": 100,
   "metadata": {},
   "outputs": [],
   "source": [
    "def get_x(p, l):\n",
    "    return l - p[0] * sqrt( 1 + l ** 2 / 4) - 0.5 * l * p[1]"
   ]
  },
  {
   "cell_type": "code",
   "execution_count": 101,
   "metadata": {},
   "outputs": [
    {
     "data": {
      "text/plain": [
       "array([[ 1022.83783784, -1001.28378378,   -21.55405405],\n",
       "       [-1001.28378378,  1034.0249301 ,   -32.74114632],\n",
       "       [  -21.55405405,   -32.74114632,    54.29520037]])"
      ]
     },
     "execution_count": 101,
     "metadata": {},
     "output_type": "execute_result"
    }
   ],
   "source": [
    "n = 4292\n",
    "dim = 3\n",
    "cov = np.zeros(shape=(dim, dim), dtype=float)\n",
    "for i in range(dim):\n",
    "    for j in range(dim):\n",
    "        if i==j:\n",
    "            cov[i, i] = n * p_ml[i] * (1 - p_ml[i])\n",
    "        else:\n",
    "            cov[i, j] = - n * p_ml[i] * p_ml[j]\n",
    "cov"
   ]
  },
  {
   "cell_type": "code",
   "execution_count": 19,
   "metadata": {},
   "outputs": [],
   "source": [
    "# Specify simplex\n",
    "l_simp = sqrt(4 / 3)"
   ]
  },
  {
   "cell_type": "code",
   "execution_count": 107,
   "metadata": {
    "scrolled": false
   },
   "outputs": [],
   "source": [
    "points = 100\n",
    "draws_y = []\n",
    "draws_x = []\n",
    "draws_heat = []\n",
    "draw = np.random.multivariate_normal(p_ml * n, cov, size=points)\n",
    "for d in draw:\n",
    "    probs = d / sum(d)\n",
    "    draws_y += [probs[1]]\n",
    "    draws_x += [get_x(probs, l_simp)]"
   ]
  },
  {
   "cell_type": "code",
   "execution_count": null,
   "metadata": {},
   "outputs": [],
   "source": [
    "def creat_set(p_ml, cov_p, roh):\n",
    "    "
   ]
  },
  {
   "cell_type": "code",
   "execution_count": 109,
   "metadata": {},
   "outputs": [
    {
     "data": {
      "application/vnd.jupyter.widget-view+json": {
       "model_id": "ae4fb82bb03a44e0b2519947be8614d4",
       "version_major": 2,
       "version_minor": 0
      },
      "text/plain": [
       "FigureCanvasNbAgg()"
      ]
     },
     "metadata": {},
     "output_type": "display_data"
    },
    {
     "data": {
      "text/plain": [
       "[<matplotlib.lines.Line2D at 0x7fb89b8b9d68>,\n",
       " <matplotlib.lines.Line2D at 0x7fb89b8b9ef0>]"
      ]
     },
     "execution_count": 109,
     "metadata": {},
     "output_type": "execute_result"
    }
   ],
   "source": [
    "# Create triangulation.range(\n",
    "x = np.array([0, 0.5 * l_simp, l_simp])\n",
    "y = np.array([0, 1, 0])\n",
    "triang = mtri.Triangulation(x, y)\n",
    "\n",
    "# Set up the figure\n",
    "fig = plt.figure(figsize=(10, 5))\n",
    "ax = fig.add_subplot(111)\n",
    "ax.text(-0.05, -0.03, \"Increase by 0\")\n",
    "ax.text(l_simp - 0.06, -0.03, \"Increase by 2\")\n",
    "ax.text(0.5 * l_simp - 0.05, 1.02, \"Increase by 1\")\n",
    "ax.plot([get_x(p_ml, l_simp)], [p_ml[1]], marker='o', markersize=1, color=\"red\")\n",
    "ax.get_xaxis().set_visible(False)\n",
    "ax.get_yaxis().set_visible(False)\n",
    "\n",
    "ax.scatter(draws_x, draws_y, s=1)\n",
    "ax.triplot(triang)"
   ]
  },
  {
   "cell_type": "code",
   "execution_count": null,
   "metadata": {},
   "outputs": [],
   "source": []
  },
  {
   "cell_type": "code",
   "execution_count": null,
   "metadata": {},
   "outputs": [],
   "source": []
  },
  {
   "cell_type": "code",
   "execution_count": null,
   "metadata": {},
   "outputs": [],
   "source": []
  },
  {
   "cell_type": "code",
   "execution_count": null,
   "metadata": {},
   "outputs": [],
   "source": []
  },
  {
   "cell_type": "code",
   "execution_count": null,
   "metadata": {},
   "outputs": [],
   "source": []
  },
  {
   "cell_type": "code",
   "execution_count": null,
   "metadata": {},
   "outputs": [],
   "source": []
  },
  {
   "cell_type": "code",
   "execution_count": null,
   "metadata": {},
   "outputs": [],
   "source": []
  },
  {
   "cell_type": "code",
   "execution_count": null,
   "metadata": {},
   "outputs": [],
   "source": []
  },
  {
   "cell_type": "code",
   "execution_count": 105,
   "metadata": {},
   "outputs": [
    {
     "data": {
      "application/vnd.jupyter.widget-view+json": {
       "model_id": "ae09536b3d1c409d81423e3f95e5914a",
       "version_major": 2,
       "version_minor": 0
      },
      "text/plain": [
       "FigureCanvasNbAgg()"
      ]
     },
     "metadata": {},
     "output_type": "display_data"
    },
    {
     "data": {
      "text/plain": [
       "[<matplotlib.lines.Line2D at 0x7fb89b5c4ba8>,\n",
       " <matplotlib.lines.Line2D at 0x7fb89b5c4c88>]"
      ]
     },
     "execution_count": 105,
     "metadata": {},
     "output_type": "execute_result"
    }
   ],
   "source": [
    "# Create triangulation.range(\n",
    "x = np.array([0, 0.5 * l_simp, l_simp])\n",
    "y = np.array([0, 1, 0])\n",
    "triang = mtri.Triangulation(x, y)\n",
    "\n",
    "# Set up the figure\n",
    "fig = plt.figure(figsize=(10, 5))\n",
    "ax = fig.add_subplot(111)\n",
    "ax.text(-0.05, -0.03, \"Increase by 0\")\n",
    "ax.text(l_simp - 0.06, -0.03, \"Increase by 2\")\n",
    "ax.text(0.5 * l_simp - 0.05, 1.02, \"Increase by 1\")\n",
    "ax.plot([get_x(p_ml, l_simp)], [p_ml[1]], marker='o', markersize=1, color=\"red\")\n",
    "ax.get_xaxis().set_visible(False)\n",
    "ax.get_yaxis().set_visible(False)\n",
    "\n",
    "# Plot the triangulation.\n",
    "#axs.tricontourf(triang, z)\n",
    "\n",
    "# ax.set_title('Probability simplex')\n",
    "# Plot heatmap\n",
    "# ax2 = ax.twinx()\n",
    "ax.hist2d(np.array(draws_x), np.array(draws_y), bins=2000, range=[[0, l_simp], [0, 1]])\n",
    "ax.triplot(triang)"
   ]
  },
  {
   "cell_type": "code",
   "execution_count": null,
   "metadata": {},
   "outputs": [],
   "source": [
    "cov"
   ]
  }
 ],
 "metadata": {
  "kernelspec": {
   "display_name": "Python 3",
   "language": "python",
   "name": "python3"
  },
  "language_info": {
   "codemirror_mode": {
    "name": "ipython",
    "version": 3
   },
   "file_extension": ".py",
   "mimetype": "text/x-python",
   "name": "python",
   "nbconvert_exporter": "python",
   "pygments_lexer": "ipython3",
   "version": "3.6.7"
  }
 },
 "nbformat": 4,
 "nbformat_minor": 2
}
