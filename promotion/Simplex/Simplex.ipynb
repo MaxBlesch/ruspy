{
 "cells": [
  {
   "cell_type": "code",
   "execution_count": 1,
   "metadata": {},
   "outputs": [],
   "source": [
    "%load_ext autoreload\n",
    "\n",
    "%autoreload 2\n",
    "\n",
    "import numpy as np\n",
    "%matplotlib widget\n",
    "import matplotlib.pyplot as plt\n",
    "import matplotlib.tri as mtri\n",
    "from math import sqrt, log\n",
    "import scipy as sc\n",
    "from scipy.stats import chi2\n",
    "\n",
    "from ruspy.data.data_reading import data_reading\n",
    "from ruspy.data.data_processing import data_processing\n",
    "from ruspy.estimation.estimation import estimate, estimate_transitions\n",
    "from ruspy.simulation.robust_sim import draw_trans_probs_mulitvar, calc_cov_multinomial\n",
    "from ruspy.plotting.prob_simplex import create_set, Kullback_Leibler, get_x"
   ]
  },
  {
   "cell_type": "code",
   "execution_count": 2,
   "metadata": {},
   "outputs": [],
   "source": [
    "data_reading()"
   ]
  },
  {
   "cell_type": "code",
   "execution_count": 63,
   "metadata": {},
   "outputs": [],
   "source": [
    "#Initilize a dictionary with values needed on the way.\n",
    "seed = 122\n",
    "np.random.seed(seed)\n",
    "beta = 0.9999\n",
    "init_dict = {\n",
    "    'groups': 'group_4',\n",
    "    'beta': beta,\n",
    "    'maint_func': 'linear',\n",
    "    'binsize': 5000,\n",
    "    'states': 100,\n",
    "}"
   ]
  },
  {
   "cell_type": "code",
   "execution_count": 25,
   "metadata": {},
   "outputs": [],
   "source": [
    "repl_data = data_processing(init_dict)"
   ]
  },
  {
   "cell_type": "code",
   "execution_count": 26,
   "metadata": {},
   "outputs": [
    {
     "name": "stdout",
     "output_type": "stream",
     "text": [
      "{'state_count': array([[68, 94,  9, ...,  0,  0,  0],\n",
      "       [ 0, 44, 59, ...,  0,  0,  0],\n",
      "       [ 0,  0, 47, ...,  0,  0,  0],\n",
      "       ...,\n",
      "       [ 0,  0,  0, ...,  1,  1,  0],\n",
      "       [ 0,  0,  0, ...,  0,  1,  1],\n",
      "       [ 0,  0,  0, ...,  0,  0,  1]]), 'x': array([0.39189189, 0.59529357, 0.01281454]), 'fun': 3140.5705570938244, 'trans_count': [1682, 2555, 55]}       fun: 163.58247580496428\n",
      " hess_inv: <2x2 LbfgsInvHessProduct with dtype=float64>\n",
      "      jac: array([-8.52651283e-06,  1.70530257e-05])\n",
      "  message: b'CONVERGENCE: REL_REDUCTION_OF_F_<=_FACTR*EPSMCH'\n",
      "     nfev: 48\n",
      "      nit: 15\n",
      "   status: 0\n",
      "  success: True\n",
      "        x: array([10.05564506,  2.27695601])\n"
     ]
    }
   ],
   "source": [
    "trans_results, cost_results = estimate(init_dict, repl_data)\n",
    "print(trans_results, cost_results)"
   ]
  },
  {
   "cell_type": "code",
   "execution_count": 27,
   "metadata": {},
   "outputs": [],
   "source": [
    "p_ml = trans_results['x']"
   ]
  },
  {
   "cell_type": "code",
   "execution_count": 28,
   "metadata": {},
   "outputs": [
    {
     "data": {
      "text/plain": [
       "0.0074514995482480514"
      ]
     },
     "execution_count": 28,
     "metadata": {},
     "output_type": "execute_result"
    }
   ],
   "source": [
    "n= 4292\n",
    "cov = calc_cov_multinomial(n, p_ml)\n",
    "np.sqrt(cov[0, 0])"
   ]
  },
  {
   "cell_type": "code",
   "execution_count": 29,
   "metadata": {},
   "outputs": [],
   "source": [
    "# Specify simplex\n",
    "l_simp = sqrt(4 / 3)"
   ]
  },
  {
   "cell_type": "code",
   "execution_count": 64,
   "metadata": {
    "scrolled": false
   },
   "outputs": [],
   "source": [
    "probs = draw_trans_probs_mulitvar(n, p_ml, size=100, seed=seed)\n",
    "draws_y = []\n",
    "draws_x = []\n",
    "for p in probs:\n",
    "    draws_y += [p[1]]\n",
    "    draws_x += [get_x(p, l_simp)]"
   ]
  },
  {
   "cell_type": "code",
   "execution_count": 48,
   "metadata": {},
   "outputs": [
    {
     "data": {
      "text/plain": [
       "0.0006979804924403517"
      ]
     },
     "execution_count": 48,
     "metadata": {},
     "output_type": "execute_result"
    }
   ],
   "source": [
    "roh = chi2.ppf(0.95, len(trans_results['x']) - 1) / (2 * n)\n",
    "roh"
   ]
  },
  {
   "cell_type": "code",
   "execution_count": 49,
   "metadata": {},
   "outputs": [],
   "source": [
    "min_grid_p_0 = min_grid_p_1 = 0\n",
    "max_grid_p_0 = max_grid_p_1 = 1\n",
    "step = 0.001\n",
    "x_set_pre, y_set_pre, set_coord_pre, set_probs_pre = create_set(\n",
    "    p_ml, roh, l_simp, step, min_grid_p_0, min_grid_p_1, max_grid_p_0, max_grid_p_1, set_method='Kullback')"
   ]
  },
  {
   "cell_type": "code",
   "execution_count": 50,
   "metadata": {},
   "outputs": [],
   "source": [
    "min_grid_p_0 = set_probs_pre[:, 0].min() - step\n",
    "max_grid_p_0 = set_probs_pre[:, 0].max() + step\n",
    "min_grid_p_1 = set_probs_pre[:, 1].min() - step\n",
    "max_grid_p_1 = set_probs_pre[:, 1].max() + step"
   ]
  },
  {
   "cell_type": "code",
   "execution_count": 51,
   "metadata": {},
   "outputs": [],
   "source": [
    "step = 0.0001\n",
    "x_set, y_set, set_coord, set_probs = create_set(\n",
    "    p_ml, roh, l_simp, step, min_grid_p_0, min_grid_p_1, max_grid_p_0, max_grid_p_1, set_method='Kullback')"
   ]
  },
  {
   "cell_type": "code",
   "execution_count": 52,
   "metadata": {},
   "outputs": [],
   "source": [
    "hull = sc.spatial.ConvexHull(set_coord)"
   ]
  },
  {
   "cell_type": "code",
   "execution_count": 67,
   "metadata": {},
   "outputs": [
    {
     "data": {
      "application/vnd.jupyter.widget-view+json": {
       "model_id": "ba5c51df03034bfd8f96a1d198677331",
       "version_major": 2,
       "version_minor": 0
      },
      "text/plain": [
       "FigureCanvasNbAgg()"
      ]
     },
     "metadata": {},
     "output_type": "display_data"
    },
    {
     "data": {
      "text/plain": [
       "[<matplotlib.lines.Line2D at 0x7f99320ab668>,\n",
       " <matplotlib.lines.Line2D at 0x7f99322e23c8>]"
      ]
     },
     "execution_count": 67,
     "metadata": {},
     "output_type": "execute_result"
    }
   ],
   "source": [
    "# Create triangulation.range(\n",
    "x = np.array([0, 0.5 * l_simp, l_simp])\n",
    "y = np.array([0, 1, 0])\n",
    "triang = mtri.Triangulation(x, y)\n",
    "\n",
    "# Set up thered figure\n",
    "fig = plt.figure(figsize=(10, 5))\n",
    "ax = fig.add_subplot(111)\n",
    "ax.text(-0.05, -0.03, \"Increase by 0\")\n",
    "ax.text(l_simp - 0.06, -0.03, \"Increase by 2\")\n",
    "ax.text(0.5 * l_simp - 0.05, 1.02, \"Increase by 1\")\n",
    "# ax.plot(x_set, y_set, color='grey')\n",
    "for simplex in hull.simplices:\n",
    "    plt.plot(set_coord[simplex, 0], set_coord[simplex, 1], 'k-')\n",
    "ax.plot([get_x(p_ml, l_simp)], [p_ml[1]], marker='o', markersize=2, color=\"red\")\n",
    "ax.get_xaxis().set_visible(False)\n",
    "ax.get_yaxis().set_visible(False)\n",
    "ax.axis(\"off\")\n",
    "\n",
    "# ax.scatter(draws_x, draws_y, s=10, marker='o', color=\"green\")\n",
    "ax.triplot(triang)"
   ]
  },
  {
   "cell_type": "code",
   "execution_count": 65,
   "metadata": {},
   "outputs": [
    {
     "data": {
      "text/plain": [
       "95"
      ]
     },
     "execution_count": 65,
     "metadata": {},
     "output_type": "execute_result"
    }
   ],
   "source": [
    "count=0\n",
    "for p in probs:\n",
    "    if roh - Kullback_Leibler(p, p_ml) >= 0:\n",
    "        count+= 1\n",
    "count"
   ]
  },
  {
   "cell_type": "code",
   "execution_count": 18,
   "metadata": {},
   "outputs": [
    {
     "data": {
      "application/vnd.jupyter.widget-view+json": {
       "model_id": "",
       "version_major": 2,
       "version_minor": 0
      },
      "text/plain": [
       "FigureCanvasNbAgg()"
      ]
     },
     "metadata": {},
     "output_type": "display_data"
    },
    {
     "data": {
      "text/plain": [
       "[<matplotlib.lines.Line2D at 0x7f31ee25d390>,\n",
       " <matplotlib.lines.Line2D at 0x7f31ee0c7ac8>]"
      ]
     },
     "execution_count": 18,
     "metadata": {},
     "output_type": "execute_result"
    }
   ],
   "source": [
    "# Create triangulation.range(\n",
    "x = np.array([0, 0.5 * l_simp, l_simp])\n",
    "y = np.array([0, 1, 0])\n",
    "triang = mtri.Triangulation(x, y)\n",
    "\n",
    "# Set up the figure\n",
    "fig = plt.figure(figsize=(10, 5))\n",
    "ax = fig.add_subplot(111)\n",
    "ax.text(-0.05, -0.03, \"Increase by 0\")\n",
    "ax.text(l_simp - 0.06, -0.03, \"Increase by 2\")\n",
    "ax.text(0.5 * l_simp - 0.05, 1.02, \"Increase by 1\")\n",
    "ax.plot([get_x(p_ml, l_simp)], [p_ml[1]], marker='o', markersize=1, color=\"red\")\n",
    "ax.get_xaxis().set_visible(False)\n",
    "ax.get_yaxis().set_visible(False)\n",
    "\n",
    "# Plot the triangulation.\n",
    "#axs.tricontourf(triang, z)\n",
    "\n",
    "# ax.set_title('Probability simplex')\n",
    "# Plot heatmap\n",
    "# ax2 = ax.twinx()\n",
    "ax.hist2d(np.array(draws_x), np.array(draws_y), bins=2000, range=[[0, l_simp], [0, 1]])\n",
    "ax.triplot(triang)"
   ]
  }
 ],
 "metadata": {
  "kernelspec": {
   "display_name": "Python 3",
   "language": "python",
   "name": "python3"
  },
  "language_info": {
   "codemirror_mode": {
    "name": "ipython",
    "version": 3
   },
   "file_extension": ".py",
   "mimetype": "text/x-python",
   "name": "python",
   "nbconvert_exporter": "python",
   "pygments_lexer": "ipython3",
   "version": "3.6.7"
  }
 },
 "nbformat": 4,
 "nbformat_minor": 2
}
