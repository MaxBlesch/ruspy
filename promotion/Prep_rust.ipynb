{
 "cells": [
  {
   "cell_type": "code",
   "execution_count": 1,
   "metadata": {},
   "outputs": [],
   "source": [
    "%load_ext autoreload\n",
    "\n",
    "%autoreload 2\n",
    "\n",
    "%load_ext snakeviz\n",
    "import yaml\n",
    "import numpy as np\n",
    "import copy\n",
    "import matplotlib.pyplot as plt\n",
    "from scipy.stats import chi2\n",
    "import multiprocessing as mp\n",
    "\n",
    "from ruspy.data.data_reading import data_reading\n",
    "from ruspy.data.data_processing import data_processing\n",
    "\n",
    "from ruspy.estimation.estimation import estimate\n",
    "from ruspy.estimation.estimation_cost_parameters import calc_fixp\n",
    "from ruspy.estimation.estimation_cost_parameters import lin_cost\n",
    "from ruspy.estimation.estimation_cost_parameters import cost_func\n",
    "from ruspy.estimation.estimation_cost_parameters import create_transition_matrix\n",
    "\n",
    "from ruspy.simulation.simulation import simulate\n",
    "from ruspy.simulation.robust_sim import get_worst_trans\n",
    "\n",
    "from ruspy.plotting.value_zero import discount_utility\n",
    "from ruspy.plotting.value_zero import calc_ev_0"
   ]
  },
  {
   "cell_type": "code",
   "execution_count": 2,
   "metadata": {},
   "outputs": [],
   "source": [
    "# Beta is set almost to one, as the agents objective is to maximize average cost.\n",
    "beta = 0.9999\n",
    "# 200 buses should be enough to gurantee convergence.\n",
    "num_buses = 200\n",
    "# Set the number of simulated periods to 80000. The first plot shows the convergence at this point.\n",
    "num_periods = 80000\n",
    "\n",
    "# Paramters for plotting\n",
    "gridsize = 1000\n",
    "num_points = int(num_periods/gridsize)\n",
    "\n",
    "#Initilize a dictionary with values needed on the way.\n",
    "init_dict = {\n",
    "    'estimation':{\n",
    "        'groups': 'group_4',\n",
    "        'beta': beta,\n",
    "        'maint_func': 'linear',\n",
    "        'binsize': 5000,\n",
    "        'states': 90,\n",
    "    },\n",
    "    'simulation':{\n",
    "        'beta': beta,\n",
    "        'periods': num_periods,\n",
    "        'seed': 123,\n",
    "        'maint_func': 'linear',\n",
    "        'buses': num_buses\n",
    "    }\n",
    "    \n",
    "}\n",
    "np.random.seed(init_dict['simulation']['seed'])"
   ]
  },
  {
   "cell_type": "code",
   "execution_count": 3,
   "metadata": {},
   "outputs": [
    {
     "name": "stdout",
     "output_type": "stream",
     "text": [
      "{'state_count': array([[68, 94,  9, ...,  0,  0,  0],\n",
      "       [ 0, 44, 59, ...,  0,  0,  0],\n",
      "       [ 0,  0, 47, ...,  0,  0,  0],\n",
      "       ...,\n",
      "       [ 0,  0,  0, ...,  1,  1,  0],\n",
      "       [ 0,  0,  0, ...,  0,  1,  1],\n",
      "       [ 0,  0,  0, ...,  0,  0,  1]]), 'x': array([0.39189189, 0.59529357, 0.01281454]), 'fun': 3140.5705570938244, 'trans_count': [1682, 2555, 55]}       fun: 163.585839925182\n",
      " hess_inv: <2x2 LbfgsInvHessProduct with dtype=float64>\n",
      "      jac: array([-9.94759830e-05,  3.41060513e-05])\n",
      "  message: b'CONVERGENCE: REL_REDUCTION_OF_F_<=_FACTR*EPSMCH'\n",
      "     nfev: 42\n",
      "      nit: 12\n",
      "   status: 0\n",
      "  success: True\n",
      "        x: array([10.07770591,  2.29413601])\n"
     ]
    }
   ],
   "source": [
    "repl_data = data_processing(init_dict['estimation'])\n",
    "trans_results, cost_results = estimate(init_dict['estimation'], repl_data)\n",
    "print(trans_results, cost_results)"
   ]
  },
  {
   "cell_type": "code",
   "execution_count": 4,
   "metadata": {},
   "outputs": [],
   "source": [
    "num_states = 100\n",
    "init_dict['simulation']['params'] = [10, 50]\n",
    "costs = cost_func(num_states, lin_cost, init_dict['simulation']['params'])"
   ]
  },
  {
   "cell_type": "code",
   "execution_count": 5,
   "metadata": {},
   "outputs": [],
   "source": [
    "p_ml = trans_results['x']\n",
    "init_dict['simulation']['known trans'] = p_ml\n",
    "trans_mat_ml = create_transition_matrix(num_states, p_ml)\n",
    "ev_ml = calc_fixp(num_states, trans_mat_ml, costs, beta)"
   ]
  },
  {
   "cell_type": "code",
   "execution_count": 51,
   "metadata": {},
   "outputs": [],
   "source": [
    "cent_obs = np.percentile(np.sum(trans_results['state_count'], axis=1), 10)\n",
    "worst_trans_cent = []\n",
    "for omega in np.arange(0.9, 1, 0.01):\n",
    "    rho = chi2.ppf(omega, len(p_ml) - 1) / (2 * cent_obs)\n",
    "    worst_trans = get_worst_trans(init_dict['simulation'], rho, num_states)\n",
    "    worst_trans_cent +=[worst_trans]"
   ]
  },
  {
   "cell_type": "code",
   "execution_count": 52,
   "metadata": {},
   "outputs": [
    {
     "data": {
      "text/plain": [
       "[array([0.12566805, 0.80930372, 0.06502823]),\n",
       " array([0.12138022, 0.81105035, 0.06756943]),\n",
       " array([0.11673718, 0.81290104, 0.07036178]),\n",
       " array([0.11175346, 0.81466535, 0.07358119]),\n",
       " array([0.10633983, 0.81629885, 0.07736132]),\n",
       " array([0.10036067, 0.817733  , 0.08190633]),\n",
       " array([0.09357281, 0.81889742, 0.08752977]),\n",
       " array([0.0857686 , 0.81916603, 0.09506537]),\n",
       " array([0.07612361, 0.81794736, 0.10592903]),\n",
       " array([0.06272645, 0.81213978, 0.12513377])]"
      ]
     },
     "execution_count": 52,
     "metadata": {},
     "output_type": "execute_result"
    }
   ],
   "source": [
    "worst_trans_cent"
   ]
  },
  {
   "cell_type": "code",
   "execution_count": 40,
   "metadata": {},
   "outputs": [
    {
     "name": "stdout",
     "output_type": "stream",
     "text": [
      "[0.12566805 0.80930372 0.06502823]\n",
      "[0.12138022 0.81105035 0.06756943]\n",
      "[0.11673718 0.81290104 0.07036178]\n",
      "[0.11175346 0.81466535 0.07358119]\n",
      "[0.10633983 0.81629885 0.07736132]\n",
      "[0.10036067 0.817733   0.08190633]\n",
      "[0.09357281 0.81889742 0.08752977]\n",
      "[0.0857686  0.81916603 0.09506537]\n",
      "[0.07612361 0.81794736 0.10592903]\n",
      "[0.06272645 0.81213978 0.12513377]\n"
     ]
    }
   ],
   "source": [
    "init_dict['simulation']['ev_known'] = ev_ml\n",
    "\n",
    "v_strat_opt = []\n",
    "for p in worst_trans_cent:\n",
    "    init_dict_real = copy.deepcopy(init_dict['simulation'])\n",
    "    init_dict_real['real trans'] = p\n",
    "    df, unobs, utilities, num_states = simulate(init_dict_real)\n",
    "    trans_mat_worst = create_transition_matrix(num_states, p)\n",
    "    v_strat_opt += [calc_ev_0(calc_fixp(num_states, trans_mat_worst, costs, beta), unobs, num_buses)]\n",
    "    v_strat_ml += [discount_utility([0., 0.], num_buses, num_periods, num_periods, utilities, beta)[-1]]"
   ]
  },
  {
   "cell_type": "code",
   "execution_count": null,
   "metadata": {},
   "outputs": [],
   "source": [
    "p = worst_trans_cent[0]\n",
    "init_dict['real trans'] = p\n",
    "df, unobs, utilities, num_states = simulate(init_dict_real)\n",
    "trans_mat_worst = create_transition_matrix(num_states, p)\n",
    "v_strat_opt += [calc_ev_0(calc_fixp(num_states, trans_mat_worst, costs, beta), unobs, num_buses)]\n",
    "v_strat_ml += [discount_utility([0., 0.], num_buses, num_periods, num_periods, utilities, beta)[-1]]"
   ]
  },
  {
   "cell_type": "code",
   "execution_count": 55,
   "metadata": {},
   "outputs": [
    {
     "data": {
      "text/plain": [
       "-8144.717923228919"
      ]
     },
     "execution_count": 55,
     "metadata": {},
     "output_type": "execute_result"
    }
   ],
   "source": [
    "v_strat_opt[0]"
   ]
  },
  {
   "cell_type": "code",
   "execution_count": 46,
   "metadata": {},
   "outputs": [],
   "source": [
    "np.savetxt(\"ml_opt.txt\", np.array([v_strat_ml, v_strat_opt]))"
   ]
  },
  {
   "cell_type": "code",
   "execution_count": 47,
   "metadata": {},
   "outputs": [],
   "source": [
    "v_exp_fig_1 = np.full(num_points, v_strat_opt[0])"
   ]
  },
  {
   "cell_type": "code",
   "execution_count": 70,
   "metadata": {},
   "outputs": [
    {
     "data": {
      "text/plain": [
       "{'estimation': {'groups': 'group_4',\n",
       "  'beta': 0.9999,\n",
       "  'maint_func': 'linear',\n",
       "  'binsize': 5000,\n",
       "  'states': 90},\n",
       " 'simulation': {'beta': 0.9999,\n",
       "  'periods': 80000,\n",
       "  'seed': 123,\n",
       "  'maint_func': 'linear',\n",
       "  'buses': 200,\n",
       "  'params': [10, 50]}}"
      ]
     },
     "execution_count": 70,
     "metadata": {},
     "output_type": "execute_result"
    }
   ],
   "source": [
    "init_dict"
   ]
  },
  {
   "cell_type": "code",
   "execution_count": 75,
   "metadata": {},
   "outputs": [
    {
     "data": {
      "text/plain": [
       "200"
      ]
     },
     "execution_count": 75,
     "metadata": {},
     "output_type": "execute_result"
    }
   ],
   "source": [
    "num_states"
   ]
  },
  {
   "cell_type": "code",
   "execution_count": 73,
   "metadata": {},
   "outputs": [
    {
     "data": {
      "text/plain": [
       "array([0.12566805, 0.80930372, 0.06502823])"
      ]
     },
     "execution_count": 73,
     "metadata": {},
     "output_type": "execute_result"
    }
   ],
   "source": [
    "p_test = worst_trans_cent[0]\n",
    "trans_mat_test = create_transition_matrix(num_states, p_test)\n",
    "calc_fixp_test = calc_fixp(num_states, trans_mat_test, costs, beta)\n",
    "p_test"
   ]
  },
  {
   "cell_type": "code",
   "execution_count": 74,
   "metadata": {},
   "outputs": [],
   "source": [
    "init_dict_test = copy.deepcopy(init_dict['simulation'])\n",
    "init_dict_test['ev_known'] = calc_fixp_test\n",
    "init_dict_test['real trans'] = p_test"
   ]
  },
  {
   "cell_type": "code",
   "execution_count": 76,
   "metadata": {},
   "outputs": [],
   "source": [
    "df_test, unobs_test, utilities_test, num_states_test = simulate(init_dict_test)"
   ]
  },
  {
   "cell_type": "code",
   "execution_count": 77,
   "metadata": {},
   "outputs": [],
   "source": [
    "v_exp_fig_1 = np.full(num_points, calc_ev_0(calc_fixp_test, unobs_test, num_buses))"
   ]
  },
  {
   "cell_type": "code",
   "execution_count": 81,
   "metadata": {},
   "outputs": [
    {
     "data": {
      "text/plain": [
       "array([    0.        ,  -771.2883843 , -1472.15924499, -2107.22617908,\n",
       "       -2680.59123762, -3198.89141523, -3671.32477606, -4094.58990116,\n",
       "       -4480.96431116, -4827.60286142, -5142.85380179, -5425.93627035,\n",
       "       -5683.72179275, -5916.8367041 , -6129.09326778, -6321.44455315,\n",
       "       -6495.19681588, -6651.2320171 , -6793.00838987, -6921.56495187,\n",
       "       -7037.90604442, -7142.41706512, -7237.28371009, -7322.82928082,\n",
       "       -7400.46377941, -7471.14830625, -7534.8981771 , -7592.28794285,\n",
       "       -7644.24685047, -7691.31133446, -7734.0416949 , -7772.42628799,\n",
       "       -7807.4605895 , -7839.09556729, -7867.53830275, -7893.49444068,\n",
       "       -7916.80706903, -7937.93396165, -7956.98243316, -7974.28984303,\n",
       "       -7989.96927102, -8004.16138464, -8017.00725399, -8028.65818264,\n",
       "       -8039.19520573, -8048.7644822 , -8057.36263736, -8065.17225021,\n",
       "       -8072.22459433, -8078.61604547, -8084.35852507, -8089.59588097,\n",
       "       -8094.32300023, -8098.59483832, -8102.46315997, -8105.95787309,\n",
       "       -8109.13531012, -8111.98514345, -8114.58218561, -8116.92122567,\n",
       "       -8119.0351965 , -8120.95250936, -8122.67909904, -8124.24768644,\n",
       "       -8125.67148014, -8126.96421189, -8128.13063012, -8129.18553789,\n",
       "       -8130.1423358 , -8131.00137879, -8131.78349323, -8132.48465152,\n",
       "       -8133.12208095, -8133.70416739, -8134.22689082, -8134.69685305,\n",
       "       -8135.12309966, -8135.51257147, -8135.86563449, -8136.1843235 ])"
      ]
     },
     "execution_count": 81,
     "metadata": {},
     "output_type": "execute_result"
    }
   ],
   "source": [
    "v_disc_fig_1"
   ]
  },
  {
   "cell_type": "code",
   "execution_count": 78,
   "metadata": {},
   "outputs": [],
   "source": [
    "v_disc_fig_1 = discount_utility(np.zeros(num_points), num_buses, gridsize, num_periods, utilities_test, beta)"
   ]
  },
  {
   "cell_type": "code",
   "execution_count": 79,
   "metadata": {},
   "outputs": [
    {
     "data": {
      "text/plain": [
       "[]"
      ]
     },
     "execution_count": 79,
     "metadata": {},
     "output_type": "execute_result"
    },
    {
     "data": {
      "image/png": "[encoded data removed]",
      "text/plain": [
       "<Figure size 1008x432 with 1 Axes>"
      ]
     },
     "metadata": {
      "needs_background": "light"
     },
     "output_type": "display_data"
    }
   ],
   "source": [
    "periods = np.arange(0, num_periods, gridsize)\n",
    "fig = plt.figure(figsize=(14, 6))\n",
    "ax = fig.add_subplot(111)\n",
    "ax.set_ylim([0, 1.3 * v_disc_fig_1[-1]])\n",
    "ax.set_ylabel(r\"Value at time 0\",fontsize=12)\n",
    "ax.set_xlabel(r\"Periods\", fontsize=12)\n",
    "ax.plot(periods, v_disc_fig_1, color='blue', label='Discounted utility')\n",
    "ax.plot(periods, v_exp_fig_1, color='red', label='Expected value at time 0')\n",
    "\n",
    "\n",
    "\n",
    "plt.legend()\n",
    "ax.legend(fontsize=12)\n",
    "plt.tight_layout()\n",
    "\n",
    "plt.plot()"
   ]
  },
  {
   "cell_type": "code",
   "execution_count": 64,
   "metadata": {},
   "outputs": [
    {
     "data": {
      "text/plain": [
       "0.08004200407592048"
      ]
     },
     "execution_count": 64,
     "metadata": {},
     "output_type": "execute_result"
    }
   ],
   "source": [
    "np.mean(unobs[:, 0, 0])"
   ]
  },
  {
   "cell_type": "code",
   "execution_count": 39,
   "metadata": {},
   "outputs": [
    {
     "name": "stdout",
     "output_type": "stream",
     "text": [
      "[0.12566805 0.80930372 0.06502823]\n",
      "[-0.75307652  0.51025646]\n",
      "[0.12138022 0.81105035 0.06756943]\n",
      "[-0.75307652  0.51025646]\n",
      "[0.11673718 0.81290104 0.07036178]\n",
      "[-0.75307652  0.51025646]\n",
      "[0.11175346 0.81466535 0.07358119]\n",
      "[-0.75307652  0.51025646]\n",
      "[0.10633983 0.81629885 0.07736132]\n",
      "[-0.75307652  0.51025646]\n",
      "[0.10036067 0.817733   0.08190633]\n",
      "[-0.75307652  0.51025646]\n",
      "[0.09357281 0.81889742 0.08752977]\n",
      "[-0.75307652  0.51025646]\n",
      "[0.0857686  0.81916603 0.09506537]\n",
      "[-0.75307652  0.51025646]\n",
      "[0.07612361 0.81794736 0.10592903]\n",
      "[-0.75307652  0.51025646]\n",
      "[0.06272645 0.81213978 0.12513377]\n",
      "[-0.75307652  0.51025646]\n"
     ]
    }
   ],
   "source": [
    "v_strat_090 = []\n",
    "cent_obs = np.percentile(np.sum(trans_results['state_count'], axis=1), 10)\n",
    "rho = chi2.ppf(0.9, len(p_ml) - 1) / (2 * cent_obs)\n",
    "worst_trans_090 = get_worst_trans(init_dict['simulation'], rho, num_states)\n",
    "trans_mat_worst_090 = create_transition_matrix(num_states, worst_trans_090)\n",
    "init_dict['simulation']['ev_known'] = calc_fixp(num_states, trans_mat_worst_090, costs, beta)\n",
    "for worst_trans in worst_trans_cent:\n",
    "    init_dict_real = copy.deepcopy(init_dict['simulation'])\n",
    "    init_dict_real['real trans'] = worst_trans\n",
    "    df, unobs, utilities, num_states = simulate(init_dict_real)\n",
    "    v_strat_090 += [discount_utility([0., 0.], num_buses, num_periods, num_periods, utilities, beta)[-1]]"
   ]
  },
  {
   "cell_type": "code",
   "execution_count": 44,
   "metadata": {},
   "outputs": [
    {
     "data": {
      "text/plain": [
       "8.247094146570817"
      ]
     },
     "execution_count": 44,
     "metadata": {},
     "output_type": "execute_result"
    }
   ],
   "source": [
    "v_strat_090[0] - v_strat_opt[0]"
   ]
  },
  {
   "cell_type": "code",
   "execution_count": 14,
   "metadata": {},
   "outputs": [],
   "source": [
    "np.savetxt(\"090.txt\", np.array(v_strat_090))"
   ]
  },
  {
   "cell_type": "code",
   "execution_count": 15,
   "metadata": {},
   "outputs": [],
   "source": [
    "v_strat_099 = []\n",
    "mean_obs = np.percentile(np.sum(trans_results['state_count'], axis=1), 10)\n",
    "rho = chi2.ppf(0.99, len(p_ml) - 1) / (2 * cent_obs)\n",
    "worst_trans = get_worst_trans(init_dict['simulation'], rho, num_states)\n",
    "trans_mat_worst = create_transition_matrix(num_states, worst_trans)\n",
    "init_dict['simulation']['ev_known'] = calc_fixp(num_states, trans_mat_worst, costs, beta)\n",
    "for omega in np.arange(0.9, 1, 0.01):\n",
    "    rho = chi2.ppf(omega, len(p_ml) - 1) / (2 * mean_obs)\n",
    "    worst_trans = get_worst_trans(init_dict['simulation'], rho, num_states)\n",
    "    init_dict_real = copy.deepcopy(init_dict['simulation'])\n",
    "    init_dict_real['real trans'] = worst_trans\n",
    "    df, unobs, utilities, num_states = simulate(init_dict_real)\n",
    "    v_strat_099 += [discount_utility([0., 0.], num_buses, num_periods, num_periods, utilities, beta)[-1]]"
   ]
  },
  {
   "cell_type": "code",
   "execution_count": 16,
   "metadata": {},
   "outputs": [],
   "source": [
    "np.savetxt(\"099.txt\", np.array(v_strat_099))"
   ]
  },
  {
   "cell_type": "code",
   "execution_count": 17,
   "metadata": {},
   "outputs": [],
   "source": [
    "omega_range = np.arange(0.9, 1, 0.01)"
   ]
  },
  {
   "cell_type": "code",
   "execution_count": 41,
   "metadata": {},
   "outputs": [
    {
     "data": {
      "text/plain": [
       "[]"
      ]
     },
     "execution_count": 41,
     "metadata": {},
     "output_type": "execute_result"
    },
    {
     "data": {
      "image/png": "[encoded data removed]",
      "text/plain": [
       "<Figure size 1008x432 with 1 Axes>"
      ]
     },
     "metadata": {
      "needs_background": "light"
     },
     "output_type": "display_data"
    }
   ],
   "source": [
    "fig = plt.figure(figsize=(14, 6))\n",
    "ax = fig.add_subplot(111)\n",
    "ax.set_ylim([0.99 * v_strat_opt[0], 1.01 * v_strat_ml[-1]])\n",
    "ax.set_ylabel(r\"Value at time 0\",fontsize=12)\n",
    "ax.set_xlabel(r\"Periods\", fontsize=12)\n",
    "ax.plot(omega_range, v_strat_ml, color='blue', label='ML strategy')\n",
    "ax.plot(omega_range, v_strat_opt, color='red', label='Optimal strategy')\n",
    "ax.plot(omega_range, v_strat_090, color='green', label='Anticipating 0.9')\n",
    "ax.plot(omega_range, v_strat_099, color='black', label='Anticipating 0.99')\n",
    "\n",
    "\n",
    "\n",
    "plt.legend()\n",
    "ax.legend(fontsize=12)\n",
    "plt.tight_layout()\n",
    "\n",
    "plt.plot()\n"
   ]
  },
  {
   "cell_type": "code",
   "execution_count": 74,
   "metadata": {},
   "outputs": [
    {
     "data": {
      "text/plain": [
       "{'estimation': {'groups': 'group_4',\n",
       "  'beta': 0.9999,\n",
       "  'maint_func': 'linear',\n",
       "  'binsize': 5000,\n",
       "  'states': 90},\n",
       " 'simulation': {'beta': 0.9999,\n",
       "  'periods': 80000,\n",
       "  'seed': 123,\n",
       "  'maint_func': 'linear',\n",
       "  'buses': 200,\n",
       "  'params': [10, 50],\n",
       "  'ev_known': array([-9470.80570289, -9471.51980637, -9472.19417696, -9472.82888861,\n",
       "         -9473.42407192, -9473.97994483, -9474.49685236, -9474.97531313,\n",
       "         -9475.41606806, -9475.82012332, -9476.18877885, -9476.52363425,\n",
       "         -9476.8265676 , -9477.09968794, -9477.34526767, -9477.56566436,\n",
       "         -9477.76324273, -9477.94030555, -9478.09903916, -9478.24147564,\n",
       "         -9478.36947112, -9478.48469745, -9478.58864421, -9478.68262777,\n",
       "         -9478.76780447, -9478.84518607, -9478.91565559, -9478.97998278,\n",
       "         -9479.03883856, -9479.09280807, -9479.1424023 , -9479.18806822,\n",
       "         -9479.2301977 , -9479.26913503, -9479.30518355, -9479.33861117,\n",
       "         -9479.36965519, -9479.39852638, -9479.42541244, -9479.45048098,\n",
       "         -9479.4738821 , -9479.49575055, -9479.51620761, -9479.53536271,\n",
       "         -9479.55331483, -9479.57015369, -9479.58596081, -9479.60081041,\n",
       "         -9479.61477019, -9479.62790206, -9479.6402627 , -9479.65190413,\n",
       "         -9479.66287415, -9479.67321677, -9479.68297254, -9479.69217895,\n",
       "         -9479.70087063, -9479.70907966, -9479.71683577, -9479.72416658,\n",
       "         -9479.73109775, -9479.73765315, -9479.74385501, -9479.74972407,\n",
       "         -9479.75527968, -9479.7605399 , -9479.76552165, -9479.77024072,\n",
       "         -9479.77471193, -9479.77894917, -9479.78296543, -9479.78677294,\n",
       "         -9479.79038317, -9479.7938069 , -9479.79705426, -9479.8001348 ,\n",
       "         -9479.80305748, -9479.80583076, -9479.8084626 , -9479.81096051,\n",
       "         -9479.81333158, -9479.81558248, -9479.81771952, -9479.81974864,\n",
       "         -9479.82167549, -9479.82350536, -9479.82524329, -9479.82689401,\n",
       "         -9479.82846202, -9479.82995157, -9479.83136668, -9479.83271115,\n",
       "         -9479.83398858, -9479.8352024 , -9479.83635581, -9479.83745183,\n",
       "         -9479.83849201, -9479.83947415, -9479.84015539, -9479.84017445]),\n",
       "  'known trans': array([0.39189189, 0.59529357, 0.01281454])}}"
      ]
     },
     "execution_count": 74,
     "metadata": {},
     "output_type": "execute_result"
    }
   ],
   "source": [
    "init_dict"
   ]
  },
  {
   "cell_type": "code",
   "execution_count": 68,
   "metadata": {},
   "outputs": [],
   "source": [
    "init_dict['simulation']['ev_known'] = ev_ml\n",
    "v_strat_ml_mean = []\n",
    "v_strat_opt_mean = []\n",
    "mean_obs = np.mean(np.sum(trans_results['state_count'], axis=1))\n",
    "for omega in np.arange(0.9, 1, 0.01):\n",
    "    roh = chi2.ppf(omega, len(p_ml) - 1) / (2 * mean_obs)\n",
    "    worst_trans = get_worst_trans(init_dict['simulation'], roh, num_states)\n",
    "    trans_mat_worst = create_transition_matrix(num_states, worst_trans)\n",
    "    v_strat_opt_mean += [calc_fixp(num_states, trans_mat_worst, costs, beta)[0]]\n",
    "    init_dict_real = copy.deepcopy(init_dict['simulation'])\n",
    "    init_dict_real['real trans'] = worst_trans\n",
    "    df, unobs, utilities, num_states = simulate(init_dict_real)\n",
    "    v_strat_ml_mean += [discount_utility([0., 0.], num_buses, num_periods, num_periods, utilities, beta)[-1]]"
   ]
  },
  {
   "cell_type": "code",
   "execution_count": 70,
   "metadata": {},
   "outputs": [
    {
     "data": {
      "text/plain": [
       "[]"
      ]
     },
     "execution_count": 70,
     "metadata": {},
     "output_type": "execute_result"
    },
    {
     "data": {
      "image/png": "[encoded data removed]",
      "text/plain": [
       "<Figure size 1008x432 with 1 Axes>"
      ]
     },
     "metadata": {
      "needs_background": "light"
     },
     "output_type": "display_data"
    }
   ],
   "source": [
    "fig = plt.figure(figsize=(14, 6))\n",
    "ax = fig.add_subplot(111)\n",
    "ax.set_ylim([0.9999 * v_strat_opt_mean[0], 1.00001 * v_strat_ml_mean[-1]])\n",
    "ax.set_ylabel(r\"Value at time 0\",fontsize=12)\n",
    "ax.set_xlabel(r\"Periods\", fontsize=12)\n",
    "ax.plot(omega_range, v_strat_ml_mean, color='blue', label='ML strategy')\n",
    "ax.plot(omega_range, v_strat_opt_mean, color='red', label='Optimal strategy')\n",
    "\n",
    "\n",
    "\n",
    "plt.legend()\n",
    "ax.legend(fontsize=12)\n",
    "plt.tight_layout()\n",
    "\n",
    "plt.plot()\n"
   ]
  },
  {
   "cell_type": "code",
   "execution_count": null,
   "metadata": {},
   "outputs": [],
   "source": []
  }
 ],
 "metadata": {
  "kernelspec": {
   "display_name": "Python 3",
   "language": "python",
   "name": "python3"
  },
  "language_info": {
   "codemirror_mode": {
    "name": "ipython",
    "version": 3
   },
   "file_extension": ".py",
   "mimetype": "text/x-python",
   "name": "python",
   "nbconvert_exporter": "python",
   "pygments_lexer": "ipython3",
   "version": "3.6.7"
  }
 },
 "nbformat": 4,
 "nbformat_minor": 2
}
