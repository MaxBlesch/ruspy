{
 "cells": [
  {
   "cell_type": "markdown",
   "metadata": {},
   "source": [
    "- General Setup:\n",
    "    - 175 grid points\n",
    "    - Cost function: $c(x, \\theta_1) = 0.001 \\theta_{11} x$\n",
    "    - **Missing** true parameters: $RC=11.7257$, $\\theta^0_{11}=2.4569$, $\\theta^0_3=(0.0937, 0.4475, 0.4459, 0.0127, 0.0002)$, $\\beta\\in \\{0.975, 0.985, 0.995, 0.999, 0.9995, 0.9999\\}$\n",
    "    - simulate $T=120$ (time periods) and $M=50$ (buses)\n",
    "    - Monte Carlo with 250 data sets per different $\\beta$\n",
    "    - **Missing** Run NFXP and MPEC with the same varying starting values: $(RC^0=4, \\theta^0_1=1), (RC^0=5, \\theta^0_1=2), (RC^0=6, \\theta^0_1=3), (RC^0=7, \\theta^0_1=4), (RC^0=8, \\theta^0_1=5)$ and in case of MPEC with the starting values $EV_1,...,EV_{75}=(0,...,0)$.\n",
    "    - **Missing** Give out a table with the mean estimated parameters, their standard deviation and the MSE per $\\beta$ and per method \n",
    "    - **Missing** Second table with the number of convergences, mean CPU time in seconds, mean number of major iterations, mean number of function evaluations, mean number of Bellman iterations, mean number of N-K iterations per $\\beta$ and per method\n",
    "    \n",
    "    \n",
    "- Specifications for NFXP:\n",
    "    - Stopping tolerance of fixed point algorithm $10^{-13}$\n",
    "    - Relative tolerance from contraction mapping to NK of $0.02$ and absolute of $0.01$\n",
    "    - BHHH tolerance of $0.5$ $\\rightarrow$ our tolerance is set up differently\n",
    "    - Maximum number of steps in both contraction mapping and NK is $20$\n",
    "    - No switching back and forth at all!\n",
    "    \n",
    "    \n",
    "- Specifications for MPEC:\n",
    "    - constraint tolerance $10^{-6}$, relative tolerance on $x$ is $10^{-15}$ and the relative tolerance on the function values is $10^{-6}$.\n",
    "    \n",
    "    \n",
    "- Differences:\n",
    "    - We only run NFXP with partial likelihood approach. Not like in their paper where they first caluclate the partial likelihood and then the full again after.\n",
    "    - They run the transition prob estimation with staring values based on frequency. We do not do that because the transition prob estimation is exactly the same for both NFXP and MPEC.\n",
    "    - MPEC for them uses sparsity patterns of Hessian and Jacobian as well as analytical Hessian."
   ]
  },
  {
   "cell_type": "code",
   "execution_count": null,
   "metadata": {},
   "outputs": [],
   "source": []
  }
 ],
 "metadata": {
  "kernelspec": {
   "display_name": "Python 3",
   "language": "python",
   "name": "python3"
  },
  "language_info": {
   "codemirror_mode": {
    "name": "ipython",
    "version": 3
   },
   "file_extension": ".py",
   "mimetype": "text/x-python",
   "name": "python",
   "nbconvert_exporter": "python",
   "pygments_lexer": "ipython3",
   "version": "3.7.6"
  }
 },
 "nbformat": 4,
 "nbformat_minor": 4
}
