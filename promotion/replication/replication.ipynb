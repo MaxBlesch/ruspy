{
 "cells": [
  {
   "cell_type": "code",
   "execution_count": 1,
   "metadata": {},
   "outputs": [],
   "source": [
    "# Make sure to update submodule zurcher_data. Otherwise this notebook doesn't work\n",
    "import yaml\n",
    "import os\n",
    "import pandas as pd\n",
    "\n",
    "from ruspy.estimation.estimation import estimate"
   ]
  },
  {
   "cell_type": "code",
   "execution_count": 2,
   "metadata": {},
   "outputs": [],
   "source": [
    "import sys # TODO: Extract data functions, such that they can be imported as functions.\n",
    "sys.path.append('zurcher-data/data/')\n",
    "from data_processing import data_processing\n",
    "from data_reading import data_reading"
   ]
  },
  {
   "cell_type": "code",
   "execution_count": 3,
   "metadata": {},
   "outputs": [],
   "source": [
    "init_dict = {\n",
    "  'groups': 'group_4',\n",
    "  'binsize': 5000,\n",
    "  'beta': 0.9999,\n",
    "  'states': 90,\n",
    "  'maint_func': 'linear',\n",
    "}"
   ]
  },
  {
   "cell_type": "code",
   "execution_count": 4,
   "metadata": {},
   "outputs": [],
   "source": [
    "data_reading()\n",
    "data = data_processing(init_dict)"
   ]
  },
  {
   "cell_type": "code",
   "execution_count": 5,
   "metadata": {},
   "outputs": [
    {
     "name": "stderr",
     "output_type": "stream",
     "text": [
      "/home/maxbl/Uni/Master_Thesis/prog/ruspy/ruspy/model_code/fix_point_alg.py:75: FutureWarning: `rcond` parameter will change to the default of machine precision times ``max(M, N)`` where M and N are the input matrix dimensions.\n",
      "To use the future default and silence this warning we advise to pass `rcond=None`, to keep using the old, explicitly pass `rcond=-1`.\n",
      "  return ev - np.linalg.lstsq(np.eye(state_size) - t_prime, (ev - iteration_step))[0]\n"
     ]
    },
    {
     "name": "stdout",
     "output_type": "stream",
     "text": [
      "{'state_count': array([[68, 94,  9, ...,  0,  0,  0],\n",
      "       [ 0, 44, 59, ...,  0,  0,  0],\n",
      "       [ 0,  0, 47, ...,  0,  0,  0],\n",
      "       ...,\n",
      "       [ 0,  0,  0, ...,  1,  1,  0],\n",
      "       [ 0,  0,  0, ...,  0,  1,  1],\n",
      "       [ 0,  0,  0, ...,  0,  0,  1]]), 'x': array([0.39189189, 0.59529357, 0.01281454]), 'fun': 3140.5705570938244, 'trans_count': array([1682, 2555,   55])}       fun: 163.58583992638603\n",
      " hess_inv: <2x2 LbfgsInvHessProduct with dtype=float64>\n",
      "      jac: array([-0.00014211,  0.00037801])\n",
      "  message: b'CONVERGENCE: REL_REDUCTION_OF_F_<=_FACTR*EPSMCH'\n",
      "     nfev: 51\n",
      "      nit: 12\n",
      "   status: 0\n",
      "  success: True\n",
      "        x: array([10.07779269,  2.2941825 ])\n"
     ]
    }
   ],
   "source": [
    "result_transitions, result_fixp = estimate(init_dict, data, repl_4=True)\n",
    "print(result_transitions, result_fixp)"
   ]
  }
 ],
 "metadata": {
  "kernelspec": {
   "display_name": "Python 3",
   "language": "python",
   "name": "python3"
  },
  "language_info": {
   "codemirror_mode": {
    "name": "ipython",
    "version": 3
   },
   "file_extension": ".py",
   "mimetype": "text/x-python",
   "name": "python",
   "nbconvert_exporter": "python",
   "pygments_lexer": "ipython3",
   "version": "3.7.3"
  }
 },
 "nbformat": 4,
 "nbformat_minor": 2
}
