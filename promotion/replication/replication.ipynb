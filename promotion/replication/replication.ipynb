{
 "cells": [
  {
   "cell_type": "code",
   "execution_count": 4,
   "metadata": {},
   "outputs": [],
   "source": [
    "import pandas as pd\n",
    "from ruspy.estimation.estimation import estimate"
   ]
  },
  {
   "cell_type": "code",
   "execution_count": 9,
   "metadata": {},
   "outputs": [],
   "source": [
    "# Visit the documenation for the exact keys necessary or possible.\n",
    "init_dict_estimation = {\n",
    "    \"model_specifications\": {\n",
    "        \"discount_factor\": 0.9999,\n",
    "        \"number_states\": 90,\n",
    "        \"maint_cost_func\": \"linear\",\n",
    "        \"cost_scale\": 1e-3,\n",
    "    },\n",
    "    \"optimizer\": {\n",
    "        \"approach\": \"NFXP\",\n",
    "        \"algorithm\": \"scipy_L-BFGS-B\",\n",
    "        \"gradient\": \"Yes\",\n",
    "    },\n",
    "}"
   ]
  },
  {
   "cell_type": "code",
   "execution_count": 10,
   "metadata": {},
   "outputs": [],
   "source": [
    "# In this demonstration setting, only the data of group 4 is included. For different data sets, either prepare\n",
    "# yourself from raw data (e.g. https://editorialexpress.com/jrust/research.html) or visit the data repository\n",
    "# of the OpenSourceCommunity for Rust's (1987) data (https://github.com/OpenSourceEconomics/zurcher-data).\n",
    "data = pd.read_pickle(\"group_4.pkl\")"
   ]
  },
  {
   "cell_type": "code",
   "execution_count": 11,
   "metadata": {},
   "outputs": [],
   "source": [
    "result_transitions, result_fixp = estimate(init_dict_estimation, data)"
   ]
  },
  {
   "cell_type": "code",
   "execution_count": 12,
   "metadata": {},
   "outputs": [
    {
     "data": {
      "text/plain": [
       "{'x': array([10.07495174,  2.29309306]),\n",
       " 'fun': 163.58428337702918,\n",
       " 'status': 'success',\n",
       " 'message': b'CONVERGENCE: REL_REDUCTION_OF_F_<=_FACTR*EPSMCH',\n",
       " 'jac': array([ 2.01342507e-05, -4.10620399e-05])}"
      ]
     },
     "execution_count": 12,
     "metadata": {},
     "output_type": "execute_result"
    }
   ],
   "source": [
    "result_fixp"
   ]
  },
  {
   "cell_type": "code",
   "execution_count": 13,
   "metadata": {},
   "outputs": [
    {
     "data": {
      "text/plain": [
       "{'trans_count': array([1682, 2555,   55], dtype=int64),\n",
       " 'x': array([0.39189229, 0.59529346, 0.01281426]),\n",
       " 'fun': 3140.5705571081444}"
      ]
     },
     "execution_count": 13,
     "metadata": {},
     "output_type": "execute_result"
    }
   ],
   "source": [
    "result_transitions"
   ]
  }
 ],
 "metadata": {
  "kernelspec": {
   "display_name": "Python 3",
   "language": "python",
   "name": "python3"
  },
  "language_info": {
   "codemirror_mode": {
    "name": "ipython",
    "version": 3
   },
   "file_extension": ".py",
   "mimetype": "text/x-python",
   "name": "python",
   "nbconvert_exporter": "python",
   "pygments_lexer": "ipython3",
   "version": "3.7.3"
  }
 },
 "nbformat": 4,
 "nbformat_minor": 4
}
