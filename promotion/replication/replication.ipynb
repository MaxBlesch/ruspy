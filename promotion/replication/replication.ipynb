{
 "cells": [
  {
   "cell_type": "code",
   "execution_count": 1,
   "metadata": {},
   "outputs": [],
   "source": [
    "# Make sure to update submodule zurcher_data. Otherwise this notebook doesn't work\n",
    "import sys # TODO: Extract data functions, such that they can be imported as functions.\n",
    "sys.path.append('zurcher-data/data/')\n",
    "from data_processing import data_processing\n",
    "from data_reading import data_reading"
   ]
  },
  {
   "cell_type": "code",
   "execution_count": 2,
   "metadata": {},
   "outputs": [],
   "source": [
    "from ruspy.estimation.estimation import estimate"
   ]
  },
  {
   "cell_type": "code",
   "execution_count": 3,
   "metadata": {},
   "outputs": [],
   "source": [
    "# Specify the \n",
    "init_dict_data = {\n",
    "  'groups': 'group_4',\n",
    "  'binsize': 5000,\n",
    "}"
   ]
  },
  {
   "cell_type": "code",
   "execution_count": 4,
   "metadata": {},
   "outputs": [],
   "source": [
    "init_dict_estimation = {\n",
    "    \"model_specifications\": {\n",
    "        \"discount_factor\": 0.9999,\n",
    "        \"number_states\": 90,\n",
    "        \"maint_cost_func\": \"linear\",\n",
    "        \"cost_scale\": 1e-3,\n",
    "    },\n",
    "    \"optimizer\": {\n",
    "        \"optimizer_name\": \"BFGS\",\n",
    "        \"use_gradient\": \"yes\",\n",
    "        \"use_search_bounds\": \"no\",\n",
    "    },\n",
    "}"
   ]
  },
  {
   "cell_type": "code",
   "execution_count": 5,
   "metadata": {},
   "outputs": [],
   "source": [
    "data_reading()\n",
    "data = data_processing(init_dict_data)"
   ]
  },
  {
   "cell_type": "code",
   "execution_count": 6,
   "metadata": {},
   "outputs": [],
   "source": [
    "result_transitions, result_fixp = estimate(init_dict_estimation, data)"
   ]
  },
  {
   "cell_type": "code",
   "execution_count": 7,
   "metadata": {},
   "outputs": [
    {
     "data": {
      "text/plain": [
       "{'x': array([10.07494188,  2.29309304]),\n",
       " 'fun': 163.58428365960083,\n",
       " 'message': 'Optimization terminated successfully.',\n",
       " 'jac': array([-1.45314713e-06,  3.41241923e-06]),\n",
       " '95_conf_interv': array([[12.75244937,  3.31580801],\n",
       "        [ 7.476692  ,  1.15145652]]),\n",
       " 'std_errors': array([1.33116875, 0.54900443])}"
      ]
     },
     "execution_count": 7,
     "metadata": {},
     "output_type": "execute_result"
    }
   ],
   "source": [
    "result_fixp"
   ]
  },
  {
   "cell_type": "code",
   "execution_count": 8,
   "metadata": {},
   "outputs": [
    {
     "data": {
      "text/plain": [
       "{'trans_count': array([1682, 2555,   55]),\n",
       " 'x': array([0.39189189, 0.59529357, 0.01281454]),\n",
       " '95_conf_interv': array([[0.40669709, 0.60982809, 0.01642439],\n",
       "        [0.37756912, 0.58005404, 0.00986953]]),\n",
       " 'std_errors': array([0.00762516, 0.00772699, 0.00167053]),\n",
       " 'fun': 3140.570557093828}"
      ]
     },
     "execution_count": 8,
     "metadata": {},
     "output_type": "execute_result"
    }
   ],
   "source": [
    "result_transitions"
   ]
  },
  {
   "cell_type": "code",
   "execution_count": null,
   "metadata": {},
   "outputs": [],
   "source": []
  }
 ],
 "metadata": {
  "kernelspec": {
   "display_name": "Python 3",
   "language": "python",
   "name": "python3"
  },
  "language_info": {
   "codemirror_mode": {
    "name": "ipython",
    "version": 3
   },
   "file_extension": ".py",
   "mimetype": "text/x-python",
   "name": "python",
   "nbconvert_exporter": "python",
   "pygments_lexer": "ipython3",
   "version": "3.7.6"
  }
 },
 "nbformat": 4,
 "nbformat_minor": 2
}
