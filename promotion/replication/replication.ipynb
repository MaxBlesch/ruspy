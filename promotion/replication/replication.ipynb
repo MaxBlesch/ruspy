{
 "cells": [
  {
   "cell_type": "code",
   "execution_count": 1,
   "metadata": {},
   "outputs": [],
   "source": [
    "import pickle as pkl\n",
    "from ruspy.estimation.estimation import estimate"
   ]
  },
  {
   "cell_type": "code",
   "execution_count": 4,
   "metadata": {},
   "outputs": [],
   "source": [
    "# Visit the documenation for the exact keys necessary or possible.\n",
    "init_dict_estimation = {\n",
    "    \"model_specifications\": {\n",
    "        \"discount_factor\": 0.9999,\n",
    "        \"number_states\": 90,\n",
    "        \"maint_cost_func\": \"linear\",\n",
    "        \"cost_scale\": 1e-3,\n",
    "    },\n",
    "    \"optimizer\": {\n",
    "        \"optimizer_name\": \"BFGS\",\n",
    "        \"use_gradient\": \"yes\",\n",
    "        \"use_search_bounds\": \"no\",\n",
    "    },\n",
    "}"
   ]
  },
  {
   "cell_type": "code",
   "execution_count": 2,
   "metadata": {},
   "outputs": [],
   "source": [
    "# In this demonstration setting, only the data of group 4 is included. For different data sets, either prepare\n",
    "# yourself from raw data (e.g. https://editorialexpress.com/jrust/research.html) or visit the data repository\n",
    "# of the OpenSourceCommunity for Rust's (1987) data (https://github.com/OpenSourceEconomics/zurcher-data).\n",
    "data = pkl.load(open(\"group_4.pkl\", \"rb\"))"
   ]
  },
  {
   "cell_type": "code",
   "execution_count": 6,
   "metadata": {},
   "outputs": [],
   "source": [
    "result_transitions, result_fixp = estimate(init_dict_estimation, data)"
   ]
  },
  {
   "cell_type": "code",
   "execution_count": 7,
   "metadata": {},
   "outputs": [
    {
     "data": {
      "text/plain": [
       "{'x': array([10.07494188,  2.29309304]),\n",
       " 'fun': 163.58428365960083,\n",
       " 'message': 'Optimization terminated successfully.',\n",
       " 'jac': array([-1.45314713e-06,  3.41241923e-06]),\n",
       " '95_conf_interv': array([[12.74172621,  3.35464377],\n",
       "        [ 7.5056502 ,  1.24275902]]),\n",
       " 'std_errors': array([1.33422511, 0.55043569])}"
      ]
     },
     "execution_count": 7,
     "metadata": {},
     "output_type": "execute_result"
    }
   ],
   "source": [
    "result_fixp"
   ]
  },
  {
   "cell_type": "code",
   "execution_count": 8,
   "metadata": {},
   "outputs": [
    {
     "data": {
      "text/plain": [
       "{'trans_count': array([1682, 2555,   55]),\n",
       " 'x': array([0.39189189, 0.59529357, 0.01281454]),\n",
       " '95_conf_interv': array([[0.40669652, 0.60997362, 0.01642078],\n",
       "        [0.37803407, 0.57981038, 0.00994566]]),\n",
       " 'std_errors': array([0.00737894, 0.0074054 , 0.00167558]),\n",
       " 'fun': 3140.570557093828}"
      ]
     },
     "execution_count": 8,
     "metadata": {},
     "output_type": "execute_result"
    }
   ],
   "source": [
    "result_transitions"
   ]
  },
  {
   "cell_type": "code",
   "execution_count": null,
   "metadata": {},
   "outputs": [],
   "source": []
  }
 ],
 "metadata": {
  "kernelspec": {
   "display_name": "Python 3",
   "language": "python",
   "name": "python3"
  },
  "language_info": {
   "codemirror_mode": {
    "name": "ipython",
    "version": 3
   },
   "file_extension": ".py",
   "mimetype": "text/x-python",
   "name": "python",
   "nbconvert_exporter": "python",
   "pygments_lexer": "ipython3",
   "version": "3.7.6"
  }
 },
 "nbformat": 4,
 "nbformat_minor": 2
}
