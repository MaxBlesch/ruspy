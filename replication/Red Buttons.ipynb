{
 "cells": [
  {
   "cell_type": "code",
   "execution_count": 1,
   "metadata": {},
   "outputs": [],
   "source": [
    "# Create pickle files for further use\n",
    "%run data_reading.py"
   ]
  },
  {
   "cell_type": "code",
   "execution_count": 2,
   "metadata": {
    "scrolled": true
   },
   "outputs": [
    {
     "data": {
      "text/plain": [
       "(     fun: 3140.5705570946147\n",
       "      jac: array([-4292.00073242, -4291.9989624 , -4292.01907349])\n",
       "  message: 'Optimization terminated successfully.'\n",
       "     nfev: 66\n",
       "      nit: 12\n",
       "     njev: 12\n",
       "   status: 0\n",
       "  success: True\n",
       "        x: array([0.39189182, 0.59529371, 0.01281447]),\n",
       "       fun: 163.58583966210568\n",
       "  hess_inv: <2x2 LbfgsInvHessProduct with dtype=float64>\n",
       "       jac: array([-2.84217094e-05,  3.97903932e-05])\n",
       "   message: b'CONVERGENCE: REL_REDUCTION_OF_F_<=_FACTR*EPSMCH'\n",
       "      nfev: 42\n",
       "       nit: 12\n",
       "    status: 0\n",
       "   success: True\n",
       "         x: array([10.07778082,  2.29416295]))"
      ]
     },
     "execution_count": 2,
     "metadata": {},
     "output_type": "execute_result"
    }
   ],
   "source": [
    "# This replicates the paper for group 4. The first result dictionairy\n",
    "# is the one of the transition probabilities estimation. The second one of the cost parameters.\n",
    "from estimation_5000 import estimate_5000\n",
    "estimate_5000()"
   ]
  },
  {
   "cell_type": "code",
   "execution_count": null,
   "metadata": {},
   "outputs": [],
   "source": []
  }
 ],
 "metadata": {
  "kernelspec": {
   "display_name": "Python 3",
   "language": "python",
   "name": "python3"
  },
  "language_info": {
   "codemirror_mode": {
    "name": "ipython",
    "version": 3
   },
   "file_extension": ".py",
   "mimetype": "text/x-python",
   "name": "python",
   "nbconvert_exporter": "python",
   "pygments_lexer": "ipython3",
   "version": "3.7.1"
  }
 },
 "nbformat": 4,
 "nbformat_minor": 2
}
